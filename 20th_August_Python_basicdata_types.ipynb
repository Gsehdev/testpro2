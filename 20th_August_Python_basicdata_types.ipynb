{
 "cells": [
  {
   "cell_type": "code",
   "execution_count": 1,
   "id": "78736c19-c36c-4b91-94b3-04c9892c7da8",
   "metadata": {},
   "outputs": [],
   "source": [
    "#TOPIC: String Based Assignment Problem\n",
    "#QUESTION 1:==============================================================================================="
   ]
  },
  {
   "cell_type": "code",
   "execution_count": 1,
   "id": "363151f6-a72e-4fac-b03c-8c6c22c43264",
   "metadata": {},
   "outputs": [
    {
     "name": "stdin",
     "output_type": "stream",
     "text": [
      "Enter a string:  Gautam is a good boy\n"
     ]
    },
    {
     "name": "stdout",
     "output_type": "stream",
     "text": [
      "Reversed string: yob doog a si matuaG\n"
     ]
    }
   ],
   "source": [
    "#1. Write a program to reverse a string.\n",
    "\n",
    "# Input a string from the user\n",
    "original_string = input(\"Enter a string: \")\n",
    "\n",
    "# Use string slicing to reverse the string\n",
    "reversed_string = original_string[::-1]\n",
    "\n",
    "'''In this program:\n",
    "\n",
    "We take an input string from the user using the input() function.\n",
    "We use string slicing with the [::-1] syntax to reverse the string. \n",
    "This slices the string with a step of -1, effectively reversing the order of characters.\n",
    "The reversed string is stored in the variable reversed_string.\n",
    "Finally, we print the reversed string.'''\n",
    "\n",
    "# Print the reversed string\n",
    "print(\"Reversed string:\", reversed_string)"
   ]
  },
  {
   "cell_type": "code",
   "execution_count": 2,
   "id": "b17653ff-1950-4834-a140-682788a063d0",
   "metadata": {},
   "outputs": [],
   "source": [
    "#TOPIC: String Based Assignment Problem\n",
    "#QUESTION 2:==============================================================================================="
   ]
  },
  {
   "cell_type": "code",
   "execution_count": 5,
   "id": "4f6593aa-6750-498b-8fca-4463e1984f5b",
   "metadata": {},
   "outputs": [
    {
     "name": "stdin",
     "output_type": "stream",
     "text": [
      "Enter a string:  gautam\n"
     ]
    },
    {
     "name": "stdout",
     "output_type": "stream",
     "text": [
      "The input string is not a palindrome.\n"
     ]
    }
   ],
   "source": [
    "#2. Check if a string is a palindrome.\n",
    "\n",
    "# Get input from the user as a string\n",
    "input_string1 = input(\"Enter a string: \")\n",
    "\n",
    "# Remove spaces and convert the input string to lowercase\n",
    "cleaned_string = input_string1.replace(\" \", \"\").lower()\n",
    "\n",
    "# Reverse the cleaned string\n",
    "reversed_string = cleaned_string[::-1]\n",
    "\n",
    "'''In this program:\n",
    "\n",
    "We use input() to get a string as input from the user.\n",
    "\n",
    "We remove spaces and convert the input string to lowercase using replace() and lower(). \n",
    "This step ensures that we ignore spaces and make the comparison case-insensitive.\n",
    "\n",
    "We reverse the cleaned string using string slicing [::-1] and store it in reversed_string.\n",
    "\n",
    "We then check if the cleaned string is equal to its reverse. \n",
    "If they are equal, we print that the input string is a palindrome; \n",
    "otherwise, we print that it's not a palindrome.'''\n",
    "\n",
    "# Check if the cleaned string is equal to its reverse\n",
    "if cleaned_string == reversed_string:\n",
    "    print(\"The input string is a palindrome.\")\n",
    "else:\n",
    "    print(\"The input string is not a palindrome.\")"
   ]
  },
  {
   "cell_type": "code",
   "execution_count": 1,
   "id": "f634c6a5-9fda-4670-ab83-3974fb4a6041",
   "metadata": {},
   "outputs": [],
   "source": [
    "#TOPIC: String Based Assignment Problem\n",
    "#QUESTION 3:==============================================================================================="
   ]
  },
  {
   "cell_type": "code",
   "execution_count": 2,
   "id": "46eebe6a-1d69-4669-911a-71ed140a5171",
   "metadata": {},
   "outputs": [
    {
     "name": "stdin",
     "output_type": "stream",
     "text": [
      "Enter a string:  this is gautam rishi.\n"
     ]
    },
    {
     "name": "stdout",
     "output_type": "stream",
     "text": [
      "THIS IS GAUTAM RISHI.\n"
     ]
    }
   ],
   "source": [
    "#3. Convert a string to uppercase.\n",
    "\n",
    "# Get input from the user as a string\n",
    "original_string = input(\"Enter a string: \")\n",
    "\n",
    "# Convert a string to uppercase\n",
    "uppercase_string = original_string.upper()\n",
    "\n",
    "'''In this program:\n",
    "\n",
    "We use input() to get a string as input from the user.\n",
    "\n",
    "We use upper() function to change the string from LOWER to UPPER case.'''\n",
    "\n",
    "# Print the upper string\n",
    "print(uppercase_string)"
   ]
  },
  {
   "cell_type": "code",
   "execution_count": 3,
   "id": "ba398557-c23e-48b6-b391-0fc54b0c722f",
   "metadata": {},
   "outputs": [],
   "source": [
    "#TOPIC: String Based Assignment Problem\n",
    "#QUESTION 4:==============================================================================================="
   ]
  },
  {
   "cell_type": "code",
   "execution_count": 10,
   "id": "27ea23a2-8f7d-4b0b-ab84-4e630730d71c",
   "metadata": {},
   "outputs": [
    {
     "name": "stdin",
     "output_type": "stream",
     "text": [
      "Enter a string:  BCDFGHJKLMNPQRSTVWXYZ\n"
     ]
    },
    {
     "name": "stdout",
     "output_type": "stream",
     "text": [
      "bcdfghjklmnpqrstvwxyz\n"
     ]
    }
   ],
   "source": [
    "#4. Convert a string to lowercase.\n",
    "\n",
    "# Get input from the user as a string\n",
    "original_string1 = input(\"Enter a string: \")\n",
    "\n",
    "# Convert a string to uppercase\n",
    "lowercase_string = original_string1.lower()\n",
    "\n",
    "'''In this program:\n",
    "\n",
    "We use input() to get a string as input from the user.\n",
    "\n",
    "We use lower() function to change the string from LOWER to UPPER case.'''\n",
    "\n",
    "# Print the upper string\n",
    "print(lowercase_string)"
   ]
  },
  {
   "cell_type": "code",
   "execution_count": 5,
   "id": "56e4e437-0eae-4686-895e-52d520f36c72",
   "metadata": {},
   "outputs": [],
   "source": [
    "#TOPIC: String Based Assignment Problem\n",
    "#QUESTION 5:==============================================================================================="
   ]
  },
  {
   "cell_type": "code",
   "execution_count": 8,
   "id": "46deed3c-712d-476b-a421-dc8037317f88",
   "metadata": {},
   "outputs": [
    {
     "name": "stdin",
     "output_type": "stream",
     "text": [
      "Enter a sentence:  the quick brown fox jumps over the little LAZY DOG.\n"
     ]
    },
    {
     "name": "stdout",
     "output_type": "stream",
     "text": [
      "Number of vowels in the sentence: 13\n"
     ]
    }
   ],
   "source": [
    "#5. Count the number of vowels in a string.\n",
    "\n",
    "# Get input from the user as a sentence\n",
    "sentence = input(\"Enter a sentence: \")\n",
    "\n",
    "# Initialize a variable to count vowels\n",
    "vowel_count = 0\n",
    "\n",
    "# Define a list of vowels\n",
    "vowels = set(\"AEIOUaeiou\")\n",
    "\n",
    "# Iterate through each character in the sentence\n",
    "for char in sentence:\n",
    "    # Check if the character is a vowel\n",
    "    if char in vowels:\n",
    "        vowel_count += 1\n",
    "        \n",
    "'''In this program:\n",
    "\n",
    "We use input() to get a sentence as input from the user.\n",
    "\n",
    "We initialize a variable vowel_count to keep track of the count of vowels.\n",
    "\n",
    "We define a set vowels containing the vowels \"AEIOUaeiou\".\n",
    "\n",
    "We iterate through each character in the sentence and check if it is in the vowels list. \n",
    "If it is, we increment the vowel_count variable.\n",
    "\n",
    "Finally, we print the count of vowels in the sentence.'''\n",
    "        \n",
    "# Display the count of vowels in the sentence\n",
    "print(\"Number of vowels in the sentence:\", vowel_count)"
   ]
  },
  {
   "cell_type": "code",
   "execution_count": 9,
   "id": "fee56a5a-6dbd-48fe-9d6b-37248c83fad5",
   "metadata": {},
   "outputs": [],
   "source": [
    "#TOPIC: String Based Assignment Problem\n",
    "#QUESTION 6:==============================================================================================="
   ]
  },
  {
   "cell_type": "code",
   "execution_count": 11,
   "id": "31852b2b-2243-4f74-a58a-88b842aa61cc",
   "metadata": {},
   "outputs": [
    {
     "name": "stdin",
     "output_type": "stream",
     "text": [
      "Enter a sentence:  the quick brown fox jumps over the little LAZY DOG.\n"
     ]
    },
    {
     "name": "stdout",
     "output_type": "stream",
     "text": [
      "Number of consonants in the sentence: 28\n"
     ]
    }
   ],
   "source": [
    "#6. Count the number of consonants in a string.\n",
    "\n",
    "# Get input from the user as a sentence\n",
    "sentence = input(\"Enter a sentence: \")\n",
    "\n",
    "# Initialize a variable to count consonants\n",
    "consonant_count = 0\n",
    "\n",
    "# Define a list of consonant\n",
    "consonants = set(\"BCDFGHJKLMNPQRSTVWXYZbcdfghjklmnpqrstvwxyz\")\n",
    "\n",
    "# Iterate through each character in the sentence\n",
    "for char in sentence:\n",
    "    # Check if the character is a vowel\n",
    "    if char in consonants:\n",
    "        consonant_count += 1\n",
    "        \n",
    "'''In this program:\n",
    "\n",
    "We use input() to get a sentence as input from the user.\n",
    "\n",
    "We initialize a variable consonant_count to keep track of the count of consonants.\n",
    "\n",
    "We define a set consonants containing the consonants \"BCDFGHJKLMNPQRSTVWXYZbcdfghjklmnpqrstvwxyz\".\n",
    "\n",
    "We iterate through each character in the sentence and check if it is in the consonants list. \n",
    "If it is, we increment the consonant_count variable.\n",
    "\n",
    "Finally, we print the count of consonants in the sentence.'''\n",
    "        \n",
    "# Display the count of consonants in the sentence\n",
    "print(\"Number of consonants in the sentence:\", consonant_count)"
   ]
  },
  {
   "cell_type": "code",
   "execution_count": 12,
   "id": "bcc9c5ed-4873-4aaf-a75f-0250c6125125",
   "metadata": {},
   "outputs": [],
   "source": [
    "#TOPIC: String Based Assignment Problem\n",
    "#QUESTION 7:==============================================================================================="
   ]
  },
  {
   "cell_type": "code",
   "execution_count": 14,
   "id": "6c1240c8-dcd8-47e3-9de8-eea3615fc3b6",
   "metadata": {},
   "outputs": [
    {
     "name": "stdin",
     "output_type": "stream",
     "text": [
      "Enter a string:  sdfsf sdfsdf \n"
     ]
    },
    {
     "name": "stdout",
     "output_type": "stream",
     "text": [
      "Ouput of string without spaces: sdfsfsdfsdf\n"
     ]
    }
   ],
   "source": [
    "#7. Remove all whitespaces from a string.\n",
    "\n",
    "# Get input from the user as a string\n",
    "input_string1 = input(\"Enter a string: \")\n",
    "\n",
    "# Remove spaces and convert the input string to lowercase\n",
    "cleaned_string = input_string1.replace(\" \", \"\")\n",
    "\n",
    "'''In this program:\n",
    "\n",
    "We use input() to get a string as input from the user.\n",
    "\n",
    "We remove spaces using replace(). \n",
    "This step ensures that we ignore spaces.'''\n",
    "\n",
    "# Display the cleaned string without spaces.\n",
    "print(\"Ouput of string without spaces:\", cleaned_string)"
   ]
  },
  {
   "cell_type": "code",
   "execution_count": 15,
   "id": "ab90bd35-27fb-41f5-9333-9a7627643b2c",
   "metadata": {},
   "outputs": [],
   "source": [
    "#TOPIC: String Based Assignment Problem\n",
    "#QUESTION 8:==============================================================================================="
   ]
  },
  {
   "cell_type": "code",
   "execution_count": 27,
   "id": "e7e16ab8-74c0-4e44-ae99-2c6517322a4e",
   "metadata": {},
   "outputs": [
    {
     "name": "stdin",
     "output_type": "stream",
     "text": [
      "Enter a sentence:  the quick brown fox jumps over the little lazy dog.\n"
     ]
    },
    {
     "name": "stdout",
     "output_type": "stream",
     "text": [
      "Length of the string: 41\n"
     ]
    }
   ],
   "source": [
    "#8. Find the length of a string without using the `len()` function.\n",
    "\n",
    "# Get input from the user as a sentence\n",
    "sentence = input(\"Enter a sentence: \")\n",
    "\n",
    "# Remove spaces from the string\n",
    "cleaned_string = sentence.replace(\" \", \"\")\n",
    "cleaned_string1 = cleaned_string.replace(\".\", \"\")\n",
    "\n",
    "# Initialize a variable to count letters\n",
    "char_count = 0\n",
    "\n",
    "# Function to find the length of a string without using len()\n",
    "for char in cleaned_string1:\n",
    "          char_count += 1\n",
    "\n",
    "        \n",
    "'''In this program:\n",
    "\n",
    "We define a variable called sentence that takes an input string as its argument.\n",
    "We initialize a variable called char_count to 0.\n",
    "This step ensures that we ignore spaces and the fullstop(.)\n",
    "We iterate through each character in the input string using a for loop \n",
    "and increment the length variable for each character.\n",
    "Finally, we return the length as the result.'''\n",
    "        \n",
    "# Display the length of a string without using the `len()` function.\n",
    "print(\"Length of the string:\", char_count)"
   ]
  },
  {
   "cell_type": "code",
   "execution_count": 28,
   "id": "8dbd70f5-ee65-4779-a212-d3c15c6782e7",
   "metadata": {},
   "outputs": [],
   "source": [
    "#TOPIC: String Based Assignment Problem\n",
    "#QUESTION 9:==============================================================================================="
   ]
  },
  {
   "cell_type": "code",
   "execution_count": 6,
   "id": "7d1e3904-554a-4fbf-a85e-94cb1c953da0",
   "metadata": {},
   "outputs": [
    {
     "name": "stdin",
     "output_type": "stream",
     "text": [
      "Enter a string:  gautam is a good boy.\n",
      "Enter the word to check for:  bad\n"
     ]
    },
    {
     "name": "stdout",
     "output_type": "stream",
     "text": [
      "The string does not contain the word 'bad'.\n"
     ]
    }
   ],
   "source": [
    "#9. Check if a string contains a specific word.\n",
    "\n",
    "# Input string\n",
    "input_string = input(\"Enter a string: \")\n",
    "\n",
    "# Specific word to check for\n",
    "specific_word = input(\"Enter the word to check for: \")\n",
    "\n",
    "'''In this program:\n",
    "\n",
    "We define a variable called input_string that takes an input string as its argument.\n",
    "We initialize a variable called specific_word that takes an input word as its argument .\n",
    "We use IN operator to check if a string contains a specific word.'''\n",
    "\n",
    "# Check if the specific word is in the input string\n",
    "if specific_word in input_string:\n",
    "    print(f\"The string contains the word '{specific_word}'.\")\n",
    "else:\n",
    "    print(f\"The string does not contain the word '{specific_word}'.\")"
   ]
  },
  {
   "cell_type": "code",
   "execution_count": 7,
   "id": "46b53517-7cb2-454b-b039-b28ea1c78233",
   "metadata": {},
   "outputs": [],
   "source": [
    "#TOPIC: String Based Assignment Problem\n",
    "#QUESTION 10:==============================================================================================="
   ]
  },
  {
   "cell_type": "code",
   "execution_count": 16,
   "id": "a231b004-883d-426a-bfd5-3ec45ac6a050",
   "metadata": {},
   "outputs": [
    {
     "name": "stdin",
     "output_type": "stream",
     "text": [
      "Enter a string:  gautam is a good boy\n",
      "Enter the word to replace:  good\n",
      "Enter a new word to update in the sentence:  bad\n"
     ]
    },
    {
     "name": "stdout",
     "output_type": "stream",
     "text": [
      "The new updated string is: gautam is a bad boy\n"
     ]
    }
   ],
   "source": [
    "#10. Replace a word in a string with another word.\n",
    "\n",
    "# Input string\n",
    "input_string = input(\"Enter a string: \")\n",
    "\n",
    "# Specific word to check for\n",
    "old_word = input(\"Enter the word to replace: \")\n",
    "\n",
    "'''In this program:\n",
    "\n",
    "We define a variable called input_string that takes an input string as its argument.\n",
    "We initialize a variable called old_word that takes an input word to replace as its argument .\n",
    "We use NOT IN operator to check if a string contains a specific word.\n",
    "IF and ELSE to check if the string has word, if yes, we update it with a new word.'''\n",
    "\n",
    "# Check if the specific word is in the input string\n",
    "if old_word not in input_string:\n",
    "    print(f\"The string does not contain the word '{old_word}' to replace.\")    \n",
    "else:\n",
    "    # enter word to replace with Specific word\n",
    "    new_word = input(\"Enter a new word to update in the sentence: \")\n",
    "    updated_string = input_string.replace(old_word, new_word)\n",
    "    print(\"The new updated string is:\", updated_string)"
   ]
  },
  {
   "cell_type": "code",
   "execution_count": 17,
   "id": "4adcbb01-3e78-4673-b2d8-6300fc32561d",
   "metadata": {},
   "outputs": [],
   "source": [
    "#TOPIC: String Based Assignment Problem\n",
    "#QUESTION 11:==============================================================================================="
   ]
  },
  {
   "cell_type": "code",
   "execution_count": 27,
   "id": "14bdb5e6-506c-442b-b7ef-e0d643043b9c",
   "metadata": {},
   "outputs": [
    {
     "name": "stdin",
     "output_type": "stream",
     "text": [
      "Enter a string:  asdf\n",
      "Enter the word to count:  ad\n"
     ]
    },
    {
     "name": "stdout",
     "output_type": "stream",
     "text": [
      "The string doesn't contact the word 'ad'.\n"
     ]
    }
   ],
   "source": [
    "#11. Count the occurrences of a word in a string.\n",
    "\n",
    "# Input string\n",
    "input_string = input(\"Enter a string: \")\n",
    "\n",
    "# Word to count\n",
    "target_word = input(\"Enter the word to count: \")\n",
    "\n",
    "# Split the input string into words\n",
    "words = input_string.split()\n",
    "\n",
    "# Initialize a counter for the target word\n",
    "count = 0\n",
    "\n",
    "# Iterate through the words and count occurrences of the target word\n",
    "for word in words:\n",
    "    if word == target_word:\n",
    "        count += 1\n",
    "        \n",
    "'''In this code:\n",
    "\n",
    "We have an input_string to take input from a user.\n",
    "We specify the target_word to take user input of a word to search.\n",
    "We use the split() method to split the input_string into words, creating a list of words.\n",
    "We initialize a counter variable count to keep track of the number of occurrences of the target_word.\n",
    "We iterate through the words list and check if each word is equal to the target_word. \n",
    "If it is, we increment the count.\n",
    "Finally, we print the count of occurrences.'''\n",
    "    \n",
    "if count > 0:\n",
    "        # Print the count        \n",
    "        print(f\"The word '{target_word}' appears {count} times in the string.\")\n",
    "else:\n",
    "        print(f\"The string doesn't contact the word '{target_word}'.\")"
   ]
  },
  {
   "cell_type": "code",
   "execution_count": 28,
   "id": "8d3e7ec4-a3b2-408c-9a7f-d06e9a59efc5",
   "metadata": {},
   "outputs": [],
   "source": [
    "#TOPIC: String Based Assignment Problem\n",
    "#QUESTION 12:==============================================================================================="
   ]
  },
  {
   "cell_type": "code",
   "execution_count": 33,
   "id": "e1d026d0-dd35-4033-b6cc-3a7b22d73d69",
   "metadata": {},
   "outputs": [
    {
     "name": "stdin",
     "output_type": "stream",
     "text": [
      "Enter a string:  gautam is a good boy.\n",
      "Enter the word to locate index:  goods\n"
     ]
    },
    {
     "name": "stdout",
     "output_type": "stream",
     "text": [
      "'goods' not found in the string.\n"
     ]
    }
   ],
   "source": [
    "#12. Find the first occurrence of a word in a string.\n",
    "\n",
    "# Input string\n",
    "input_string = input(\"Enter a string: \")\n",
    "\n",
    "# Word to find\n",
    "target_word = input(\"Enter the word to locate index: \")\n",
    "\n",
    "# Use the find() method to find the first occurrence of the target word\n",
    "index = input_string.find(target_word)\n",
    "\n",
    "if index != -1:\n",
    "    print(f\"The first occurrence of '{target_word}' starts at index {index}.\")\n",
    "else:\n",
    "    print(f\"'{target_word}' not found in the string.\")"
   ]
  },
  {
   "cell_type": "code",
   "execution_count": 35,
   "id": "3687bc55-25a8-49b8-b4b8-ffb308c1cacf",
   "metadata": {},
   "outputs": [],
   "source": [
    "#TOPIC: String Based Assignment Problem\n",
    "#QUESTION 13:==============================================================================================="
   ]
  },
  {
   "cell_type": "code",
   "execution_count": 36,
   "id": "7f56c86a-6389-4bdc-9036-b0962bcdf3af",
   "metadata": {},
   "outputs": [
    {
     "name": "stdin",
     "output_type": "stream",
     "text": [
      "Enter a string:  gautam is good boy, good person with good personality.\n",
      "Enter the word to locate last occurance:  good\n"
     ]
    },
    {
     "name": "stdout",
     "output_type": "stream",
     "text": [
      "The last occurrence of 'good' starts at index 37.\n"
     ]
    }
   ],
   "source": [
    "#13. Find the last occurrence of a word in a string.\n",
    "\n",
    "# Input string\n",
    "input_string = input(\"Enter a string: \")\n",
    "\n",
    "# Word to find\n",
    "target_word = input(\"Enter the word to locate last occurance: \")\n",
    "\n",
    "# Use the rfind() method to find the last occurrence of the target word\n",
    "index = input_string.rfind(target_word)\n",
    "\n",
    "if index != -1:\n",
    "    print(f\"The last occurrence of '{target_word}' starts at index {index}.\")\n",
    "else:\n",
    "    print(f\"'{target_word}' not found in the string.\")"
   ]
  },
  {
   "cell_type": "code",
   "execution_count": 1,
   "id": "ac7dfb98-9d12-4868-87f0-3e727854f9a3",
   "metadata": {},
   "outputs": [],
   "source": [
    "#TOPIC: String Based Assignment Problem\n",
    "#QUESTION 14:==============================================================================================="
   ]
  },
  {
   "cell_type": "code",
   "execution_count": 3,
   "id": "3ee8722e-2d38-4bb9-80b6-0938b9dff123",
   "metadata": {},
   "outputs": [
    {
     "name": "stdin",
     "output_type": "stream",
     "text": [
      "Enter a string:  the quick brown fox jumps over a little lazy dog.\n"
     ]
    },
    {
     "name": "stdout",
     "output_type": "stream",
     "text": [
      "['the', 'quick', 'brown', 'fox', 'jumps', 'over', 'a', 'little', 'lazy', 'dog.']\n"
     ]
    }
   ],
   "source": [
    "#14. Split a string into a list of words.\n",
    "\n",
    "# Input string\n",
    "input_string = input(\"Enter a string: \")\n",
    "\n",
    "# Use the split() method to a string into a list of words.\n",
    "word_list = input_string.split()\n",
    "\n",
    "# Display the result\n",
    "print(word_list)"
   ]
  },
  {
   "cell_type": "code",
   "execution_count": 4,
   "id": "1ccbdc34-02b0-4d36-b081-7a7a46a4b547",
   "metadata": {},
   "outputs": [],
   "source": [
    "#TOPIC: String Based Assignment Problem\n",
    "#QUESTION 15:==============================================================================================="
   ]
  },
  {
   "cell_type": "code",
   "execution_count": 11,
   "id": "a24d9ce2-eadc-4e44-8110-0fc901e01856",
   "metadata": {},
   "outputs": [
    {
     "name": "stdin",
     "output_type": "stream",
     "text": [
      "Enter a word (or 'stop' to finish):  the\n",
      "Enter a word (or 'stop' to finish):  quick\n",
      "Enter a word (or 'stop' to finish):  brown\n",
      "Enter a word (or 'stop' to finish):  fox\n",
      "Enter a word (or 'stop' to finish):  jumps\n",
      "Enter a word (or 'stop' to finish):  over\n",
      "Enter a word (or 'stop' to finish):  the\n",
      "Enter a word (or 'stop' to finish):  little\n",
      "Enter a word (or 'stop' to finish):  lazy\n",
      "Enter a word (or 'stop' to finish):  dog\n",
      "Enter a word (or 'stop' to finish):  stop\n"
     ]
    },
    {
     "name": "stdout",
     "output_type": "stream",
     "text": [
      "Joined string: the quick brown fox jumps over the little lazy dog\n"
     ]
    }
   ],
   "source": [
    "#15. Join a list of words into a string.\n",
    "\n",
    "# Initialize an empty list to store the words\n",
    "word_list = []\n",
    "\n",
    "# Input words until the user decides to stop\n",
    "while True:\n",
    "    word = input(\"Enter a word (or 'stop' to finish): \")\n",
    "    if word.lower() == 'stop':\n",
    "        break\n",
    "    word_list.append(word)\n",
    "\n",
    "# Join the list of words into a single string\n",
    "resulting_string = ' '.join(word_list)\n",
    "\n",
    "print(\"Joined string:\", resulting_string)"
   ]
  },
  {
   "cell_type": "code",
   "execution_count": 12,
   "id": "d0dd4ccf-59e4-4ea6-9f09-5343c27423aa",
   "metadata": {},
   "outputs": [],
   "source": [
    "#TOPIC: String Based Assignment Problem\n",
    "#QUESTION 16:==============================================================================================="
   ]
  },
  {
   "cell_type": "code",
   "execution_count": 13,
   "id": "8a61cb6a-1d55-41c8-ac50-96f9a67b2e55",
   "metadata": {},
   "outputs": [
    {
     "name": "stdin",
     "output_type": "stream",
     "text": [
      "Enter a string:  gautam is a good boy.\n"
     ]
    },
    {
     "name": "stdout",
     "output_type": "stream",
     "text": [
      "gautam_is_a_good_boy.\n"
     ]
    }
   ],
   "source": [
    "# 16. Convert a string where words are separated by spaces to one where words are separated by underscores.\n",
    "\n",
    "input_string = input(\"Enter a string: \")\n",
    "output_string = input_string.replace(' ', '_')\n",
    "\n",
    "print(output_string)"
   ]
  },
  {
   "cell_type": "code",
   "execution_count": 14,
   "id": "0da4bd33-9691-4d34-9dbf-9f24aba9c8da",
   "metadata": {},
   "outputs": [],
   "source": [
    "#TOPIC: String Based Assignment Problem\n",
    "#QUESTION 17:==============================================================================================="
   ]
  },
  {
   "cell_type": "code",
   "execution_count": 18,
   "id": "9120184f-a25c-411e-ad19-d753fbf636b9",
   "metadata": {},
   "outputs": [
    {
     "name": "stdin",
     "output_type": "stream",
     "text": [
      "Enter a string:  gautam is a good boy\n",
      "Input a word to check:  gautam\n"
     ]
    },
    {
     "name": "stdout",
     "output_type": "stream",
     "text": [
      "The string starts with \"gautam\".\n"
     ]
    }
   ],
   "source": [
    "#17. Check if a string starts with a specific word or phrase.\n",
    "\n",
    "input_string = input(\"Enter a string: \")\n",
    "specific_word = input(\"Input a word to check: \")\n",
    "\n",
    "if input_string.startswith(specific_word):\n",
    "    print(f'The string starts with \"{specific_word}\".')\n",
    "else:\n",
    "    print(f'The string does not start with \"{specific_word}\".')"
   ]
  },
  {
   "cell_type": "code",
   "execution_count": 19,
   "id": "465fecff-d1e7-40a3-9502-823a9f7c0ca1",
   "metadata": {},
   "outputs": [],
   "source": [
    "#TOPIC: String Based Assignment Problem\n",
    "#QUESTION 18:==============================================================================================="
   ]
  },
  {
   "cell_type": "code",
   "execution_count": 21,
   "id": "69194f97-de39-4526-92f8-77f5be5d56ac",
   "metadata": {},
   "outputs": [
    {
     "name": "stdin",
     "output_type": "stream",
     "text": [
      "Enter a string without a full stop:  gautam is a good boy\n",
      "Input a word to check:  boy\n"
     ]
    },
    {
     "name": "stdout",
     "output_type": "stream",
     "text": [
      "The string ends with \"boy\".\n"
     ]
    }
   ],
   "source": [
    "#18. Check if a string ends with a specific word or phrase.\n",
    "\n",
    "input_string = input(\"Enter a string without a full stop: \")\n",
    "specific_word = input(\"Input a word to check: \")\n",
    "\n",
    "if input_string.endswith(specific_word):\n",
    "    print(f'The string ends with \"{specific_word}\".')\n",
    "else:\n",
    "    print(f'The string does not end with \"{specific_word}\".')"
   ]
  },
  {
   "cell_type": "code",
   "execution_count": 22,
   "id": "b23c48cf-d552-4bb3-abb1-9b936a304023",
   "metadata": {},
   "outputs": [],
   "source": [
    "#TOPIC: String Based Assignment Problem\n",
    "#QUESTION 19:==============================================================================================="
   ]
  },
  {
   "cell_type": "code",
   "execution_count": 23,
   "id": "b0cd7363-3530-462b-bd92-483a68d38900",
   "metadata": {},
   "outputs": [
    {
     "name": "stdin",
     "output_type": "stream",
     "text": [
      "Enter a string:  gautam is a good boy.\n"
     ]
    },
    {
     "name": "stdout",
     "output_type": "stream",
     "text": [
      "Gautam Is A Good Boy.\n"
     ]
    }
   ],
   "source": [
    "#19. Convert a string to title case (e.g., \"hello world\" to \"Hello World\").\n",
    "\n",
    "input_string = input(\"Enter a string: \")\n",
    "title_case_string = input_string.title()\n",
    "\n",
    "print(title_case_string)"
   ]
  },
  {
   "cell_type": "code",
   "execution_count": null,
   "id": "c1010052-d193-49eb-b21e-8fe0313cb815",
   "metadata": {},
   "outputs": [],
   "source": [
    "#TOPIC: String Based Assignment Problem\n",
    "#QUESTION 20:==============================================================================================="
   ]
  },
  {
   "cell_type": "code",
   "execution_count": 24,
   "id": "2f2ae7da-afe2-4d06-a388-a7dcb5aab7c8",
   "metadata": {},
   "outputs": [
    {
     "name": "stdin",
     "output_type": "stream",
     "text": [
      "Enter a string:  Gautam is a good boy\n"
     ]
    },
    {
     "name": "stdout",
     "output_type": "stream",
     "text": [
      "The longest word is: Gautam\n"
     ]
    }
   ],
   "source": [
    "#20. Find the longest word in a string.\n",
    "\n",
    "input_string = input(\"Enter a string: \")\n",
    "\n",
    "# Split the string into words\n",
    "word_list = input_string.split()\n",
    "\n",
    "# Initialize variables to store the longest word and its length\n",
    "longest_word = \"\"\n",
    "max_length = 0\n",
    "\n",
    "# Iterate through the words and find the longest one\n",
    "for word in word_list:\n",
    "    word_length = len(word)\n",
    "    if word_length > max_length:\n",
    "        max_length = word_length\n",
    "        longest_word = word\n",
    "\n",
    "print(f\"The longest word is: {longest_word}\")"
   ]
  },
  {
   "cell_type": "code",
   "execution_count": 25,
   "id": "02a70c2e-75cb-4f61-91ad-01429409e0a9",
   "metadata": {},
   "outputs": [],
   "source": [
    "#TOPIC: String Based Assignment Problem\n",
    "#QUESTION 21:==============================================================================================="
   ]
  },
  {
   "cell_type": "code",
   "execution_count": 28,
   "id": "7f3f58b6-d77a-4d2c-bd4b-0012a173e47d",
   "metadata": {},
   "outputs": [
    {
     "name": "stdin",
     "output_type": "stream",
     "text": [
      "Enter a string:  the quick brown fox jumps over the little lazy dog.\n"
     ]
    },
    {
     "name": "stdout",
     "output_type": "stream",
     "text": [
      "The shortest word is: 'the'\n"
     ]
    }
   ],
   "source": [
    "#21. Find the shortest word in a string.\n",
    "\n",
    "input_string = input(\"Enter a string: \")\n",
    "\n",
    "# Split the string into words\n",
    "word_list = input_string.split()\n",
    "\n",
    "# Initialize variables to store the shortest word and its length\n",
    "shortest_word = None\n",
    "\n",
    "'''We initialize shortest_word to None and min_length to positive infinity (float('inf')). \n",
    "These variables will be used to keep track of the shortest word and its length.'''\n",
    "min_length = float('inf')  # Initialize to positive infinity\n",
    "\n",
    "'''We iterate through the word_list, calculating the length of each word using len(word). \n",
    "If the length of the current word is less than min_length, \n",
    "we update min_length and store the word in shortest_word.'''\n",
    "# Iterate through the words and find the shortest one\n",
    "for word in word_list:\n",
    "    word_length = len(word)\n",
    "    if word_length < min_length:\n",
    "        min_length = word_length\n",
    "        shortest_word = word\n",
    "\n",
    "print(f\"The shortest word is: '{shortest_word}'\")"
   ]
  },
  {
   "cell_type": "code",
   "execution_count": 29,
   "id": "4e3304b6-14dd-42d3-a8fe-afd87a9edab3",
   "metadata": {},
   "outputs": [],
   "source": [
    "#TOPIC: String Based Assignment Problem\n",
    "#QUESTION 22:==============================================================================================="
   ]
  },
  {
   "cell_type": "code",
   "execution_count": 31,
   "id": "0d4bf63f-d153-4c3f-b8e2-90cf0bb96266",
   "metadata": {},
   "outputs": [
    {
     "name": "stdin",
     "output_type": "stream",
     "text": [
      "Enter a string:  gautam is a good boy\n"
     ]
    },
    {
     "name": "stdout",
     "output_type": "stream",
     "text": [
      "boy good a is gautam\n"
     ]
    }
   ],
   "source": [
    "#22. Reverse the order of words in a string.\n",
    "\n",
    "input_string = input(\"Enter a string: \")\n",
    "\n",
    "# Split the string into words\n",
    "word_list = input_string.split()\n",
    "\n",
    "# Reverse the order of words\n",
    "'''We reverse the order of words by using Python slicing with word_list[::-1]. \n",
    "This creates a reversed list of words.'''\n",
    "reversed_string = ' '.join(word_list[::-1])\n",
    "\n",
    "print(reversed_string)"
   ]
  },
  {
   "cell_type": "code",
   "execution_count": 32,
   "id": "b4e1f0cb-77d3-4fc2-a0bf-a55c1b1c9db6",
   "metadata": {},
   "outputs": [],
   "source": [
    "#TOPIC: String Based Assignment Problem\n",
    "#QUESTION 23:==============================================================================================="
   ]
  },
  {
   "cell_type": "code",
   "execution_count": 36,
   "id": "0f380c16-6a99-471e-8c4c-5eaa8b93d732",
   "metadata": {},
   "outputs": [
    {
     "name": "stdin",
     "output_type": "stream",
     "text": [
      "Enter a word:  @#$%#$@^$%\n"
     ]
    },
    {
     "name": "stdout",
     "output_type": "stream",
     "text": [
      "The string is not alphanumeric.\n"
     ]
    }
   ],
   "source": [
    "#23. Check if a string is alphanumeric.\n",
    "\n",
    "input_string = input(\"Enter a word: \")\n",
    "\n",
    "if input_string.isalnum():\n",
    "    print(\"The string is alphanumeric.\")\n",
    "else:\n",
    "    print(\"The string is not alphanumeric.\")"
   ]
  },
  {
   "cell_type": "code",
   "execution_count": 37,
   "id": "d205e517-4ca5-45e8-948a-7a5476839149",
   "metadata": {},
   "outputs": [],
   "source": [
    "#TOPIC: String Based Assignment Problem\n",
    "#QUESTION 24:==============================================================================================="
   ]
  },
  {
   "cell_type": "code",
   "execution_count": 60,
   "id": "729542cf-f6f6-4479-a70c-2819121884a9",
   "metadata": {},
   "outputs": [
    {
     "name": "stdin",
     "output_type": "stream",
     "text": [
      "Enter a string to extact digits:  gautam is a good boy\n"
     ]
    },
    {
     "name": "stdout",
     "output_type": "stream",
     "text": [
      "there are no digits in a string to extract\n"
     ]
    }
   ],
   "source": [
    "#24. Extract all digits from a string.\n",
    "\n",
    "input_string = input(\"Enter a string to extact digits: \")\n",
    "\n",
    "# Initialize an empty string to store the digits\n",
    "digit_string = \"\"\n",
    "\n",
    "# Iterate through the characters in the input_string\n",
    "for char in input_string:\n",
    "    if char.isdigit():\n",
    "        digit_string += char\n",
    "\n",
    "if  digit_string:\n",
    "    print(\"Extracted digits:\", digit_string)\n",
    "else:    \n",
    "    print(\"there are no digits in a string to extract\")"
   ]
  },
  {
   "cell_type": "code",
   "execution_count": 62,
   "id": "9c318426-17fe-4207-a9a6-22204603f0d9",
   "metadata": {},
   "outputs": [],
   "source": [
    "#TOPIC: String Based Assignment Problem\n",
    "#QUESTION 25:==============================================================================================="
   ]
  },
  {
   "cell_type": "code",
   "execution_count": 67,
   "id": "a5273992-32e7-4cea-9a3a-b27e49261ac4",
   "metadata": {},
   "outputs": [
    {
     "name": "stdin",
     "output_type": "stream",
     "text": [
      "Enter a string to extact alphabets:  gautam has a net worth of $50.00 billion\n"
     ]
    },
    {
     "name": "stdout",
     "output_type": "stream",
     "text": [
      "Extracted alphabets: gautamhasanetworthofbillion\n"
     ]
    }
   ],
   "source": [
    "#25. Extract all alphabets from a string.\n",
    "\n",
    "input_string = input(\"Enter a string to extact alphabets: \")\n",
    "\n",
    "# Initialize an empty string to store the alphabetic characters\n",
    "alphabet_string = \"\"\n",
    "\n",
    "# Iterate through the characters in the input_string\n",
    "for char in input_string:\n",
    "    if char.isalpha():\n",
    "        alphabet_string += char\n",
    "\n",
    "if  alphabet_string:\n",
    "    print(\"Extracted alphabets:\", alphabet_string)\n",
    "else:    \n",
    "    print(\"there are no alphabets in a string to extract\")"
   ]
  },
  {
   "cell_type": "code",
   "execution_count": 68,
   "id": "13f43c81-d574-4d94-b5a9-ea2e50b4971a",
   "metadata": {},
   "outputs": [],
   "source": [
    "#TOPIC: String Based Assignment Problem\n",
    "#QUESTION 26:==============================================================================================="
   ]
  },
  {
   "cell_type": "code",
   "execution_count": 70,
   "id": "90bf7061-36c1-4869-8c71-abedbbb67f58",
   "metadata": {},
   "outputs": [
    {
     "name": "stdout",
     "output_type": "stream",
     "text": [
      "Number of uppercase letters: 12\n"
     ]
    }
   ],
   "source": [
    "#26. Count the number of uppercase letters in a string.\n",
    "\n",
    "input_string = \"Hello World! GAUTAM is COOL.\"\n",
    "\n",
    "# Initialize a counter for uppercase letters\n",
    "uppercase_count = 0\n",
    "\n",
    "# Iterate through the characters in the input_string\n",
    "for char in input_string:\n",
    "    if char.isupper():\n",
    "        uppercase_count += 1\n",
    "\n",
    "print(\"Number of uppercase letters:\", uppercase_count)"
   ]
  },
  {
   "cell_type": "code",
   "execution_count": 71,
   "id": "b9679f77-049b-422f-9fca-31e3c91d3f35",
   "metadata": {},
   "outputs": [],
   "source": [
    "#TOPIC: String Based Assignment Problem\n",
    "#QUESTION 27:==============================================================================================="
   ]
  },
  {
   "cell_type": "code",
   "execution_count": 72,
   "id": "eefc94cc-8cf4-4110-aa7b-29d4110b3141",
   "metadata": {},
   "outputs": [
    {
     "name": "stdout",
     "output_type": "stream",
     "text": [
      "Number of lowercase letters: 10\n"
     ]
    }
   ],
   "source": [
    "#27. Count the number of lowercase letters in a string.\n",
    "\n",
    "input_string = \"Hello World! GAUTAM is COOL.\"\n",
    "\n",
    "# Initialize a counter for lowercase letters\n",
    "lowercase_count = 0\n",
    "\n",
    "# Iterate through the characters in the input_string\n",
    "for char in input_string:\n",
    "    if char.islower():\n",
    "        lowercase_count += 1\n",
    "\n",
    "print(\"Number of lowercase letters:\", lowercase_count)"
   ]
  },
  {
   "cell_type": "code",
   "execution_count": 73,
   "id": "c86ff032-cc8c-4c9b-b17f-88c4c5461277",
   "metadata": {},
   "outputs": [],
   "source": [
    "#TOPIC: String Based Assignment Problem\n",
    "#QUESTION 28:==============================================================================================="
   ]
  },
  {
   "cell_type": "code",
   "execution_count": 74,
   "id": "c3541e3f-c6d9-4175-8a7c-e1921b5f270f",
   "metadata": {},
   "outputs": [
    {
     "name": "stdout",
     "output_type": "stream",
     "text": [
      "Swapped string: hELLO wOrld! gAUTAM IS coOL.\n"
     ]
    }
   ],
   "source": [
    "#28. Swap the case of each character in a string.\n",
    "\n",
    "input_string = \"Hello WoRLD! Gautam is COol.\"\n",
    "\n",
    "# Swap the case of each character\n",
    "swapped_string = input_string.swapcase()\n",
    "\n",
    "print(\"Swapped string:\", swapped_string)"
   ]
  },
  {
   "cell_type": "code",
   "execution_count": 75,
   "id": "0f4a3aa0-4876-4baa-afa0-f5db8ff3700a",
   "metadata": {},
   "outputs": [],
   "source": [
    "#TOPIC: String Based Assignment Problem\n",
    "#QUESTION 29:==============================================================================================="
   ]
  },
  {
   "cell_type": "code",
   "execution_count": 76,
   "id": "e77360d9-77e6-47a6-8018-004ec8c9ab50",
   "metadata": {},
   "outputs": [
    {
     "name": "stdin",
     "output_type": "stream",
     "text": [
      "Enter a string to extact alphabets:  gautam is a good boy\n",
      "Enter a word to remove from a string:  good\n"
     ]
    },
    {
     "name": "stdout",
     "output_type": "stream",
     "text": [
      "Modified string: gautam is a  boy\n"
     ]
    }
   ],
   "source": [
    "#29. Remove a specific word from a string.\n",
    "\n",
    "input_string = input(\"Enter a string to extact alphabets: \")\n",
    "word_to_remove = input(\"Enter a word to remove from a string: \")\n",
    "\n",
    "# Remove the specific word from the string\n",
    "modified_string = input_string.replace(word_to_remove, '')\n",
    "\n",
    "print(\"Modified string:\", modified_string)"
   ]
  },
  {
   "cell_type": "code",
   "execution_count": 77,
   "id": "e88db814-718d-4d4a-8788-7925f3a3bb0c",
   "metadata": {},
   "outputs": [],
   "source": [
    "#TOPIC: String Based Assignment Problem\n",
    "#QUESTION 30:==============================================================================================="
   ]
  },
  {
   "cell_type": "code",
   "execution_count": 82,
   "id": "d535e497-218b-4b86-a7f8-983cbe8d930b",
   "metadata": {},
   "outputs": [
    {
     "name": "stdin",
     "output_type": "stream",
     "text": [
      "Enter an email address:  gautamisagoodboy\n"
     ]
    },
    {
     "name": "stdout",
     "output_type": "stream",
     "text": [
      "gautamisagoodboy is not a valid email address.\n"
     ]
    }
   ],
   "source": [
    "#30. Check if a string is a valid email address.\n",
    "\n",
    "def is_valid_email(email):\n",
    "    if \"@\" in email and \".\" in email:\n",
    "        return True\n",
    "    else:\n",
    "        return False\n",
    "\n",
    "email = input(\"Enter an email address: \")\n",
    "\n",
    "if is_valid_email(email):\n",
    "    print(f\"{email} is a valid email address.\")\n",
    "else:\n",
    "    print(f\"{email} is not a valid email address.\")"
   ]
  },
  {
   "cell_type": "code",
   "execution_count": 83,
   "id": "c34f21d0-b8b3-43e3-b800-4c3d1aaa70df",
   "metadata": {},
   "outputs": [],
   "source": [
    "#TOPIC: String Based Assignment Problem\n",
    "#QUESTION 31:==============================================================================================="
   ]
  },
  {
   "cell_type": "code",
   "execution_count": 86,
   "id": "2cc04d14-9c4a-40c4-9d03-1a4f0469a6ea",
   "metadata": {},
   "outputs": [
    {
     "name": "stdin",
     "output_type": "stream",
     "text": [
      "Enter an email address:  gautam.sehdev@gmail.com\n"
     ]
    },
    {
     "name": "stdout",
     "output_type": "stream",
     "text": [
      "Username: gautam.sehdev\n"
     ]
    }
   ],
   "source": [
    "#31. Extract the username from an email address string.\n",
    "\n",
    "email = input(\"Enter an email address: \")\n",
    "\n",
    "# Find the position of the '@' symbol\n",
    "at_index = email.find('@')\n",
    "\n",
    "# Extract the username\n",
    "if at_index != -1:\n",
    "    username = email[:at_index]\n",
    "    print(\"Username:\", username)\n",
    "else:\n",
    "    print(\"Invalid email address - no '@' symbol found.\")"
   ]
  },
  {
   "cell_type": "code",
   "execution_count": 87,
   "id": "57c751d7-da8f-4f81-a352-cacc3e2f371a",
   "metadata": {},
   "outputs": [],
   "source": [
    "#TOPIC: String Based Assignment Problem\n",
    "#QUESTION 32:==============================================================================================="
   ]
  },
  {
   "cell_type": "code",
   "execution_count": 88,
   "id": "07548709-8a2b-4ee1-b9c3-1255135c96d9",
   "metadata": {},
   "outputs": [
    {
     "name": "stdin",
     "output_type": "stream",
     "text": [
      "Enter an email address:  gautam.sehdev@gmail.com\n"
     ]
    },
    {
     "name": "stdout",
     "output_type": "stream",
     "text": [
      "Domain Name: gmail.com\n"
     ]
    }
   ],
   "source": [
    "#32. Extract the domain name from an email address string.\n",
    "\n",
    "email = input(\"Enter an email address: \")\n",
    "\n",
    "# Find the position of the '@' symbol\n",
    "at_index = email.find('@')\n",
    "\n",
    "# Extract the domain name\n",
    "if at_index != -1:\n",
    "    domain = email[at_index + 1:]\n",
    "    print(\"Domain Name:\", domain)\n",
    "else:\n",
    "    print(\"Invalid email address - no '@' symbol found.\")"
   ]
  },
  {
   "cell_type": "code",
   "execution_count": 89,
   "id": "b32647d1-dd00-4bc7-a1d9-fb0b1af5ca7b",
   "metadata": {},
   "outputs": [],
   "source": [
    "#TOPIC: String Based Assignment Problem\n",
    "#QUESTION 33:==============================================================================================="
   ]
  },
  {
   "cell_type": "code",
   "execution_count": 90,
   "id": "5ecf552f-5b61-486d-91f5-ad027e1b08f9",
   "metadata": {},
   "outputs": [
    {
     "name": "stdout",
     "output_type": "stream",
     "text": [
      "Cleaned string: This is a string with multiple spaces.\n"
     ]
    }
   ],
   "source": [
    "#33. Replace multiple spaces in a string with a single space.\n",
    "\n",
    "input_string = \"This    is    a     string    with   multiple   spaces.\"\n",
    "\n",
    "# Split the input string into words\n",
    "words = input_string.split()\n",
    "\n",
    "# Join the words with a single space to remove extra spaces\n",
    "cleaned_string = ' '.join(words)\n",
    "\n",
    "print(\"Cleaned string:\", cleaned_string)"
   ]
  },
  {
   "cell_type": "code",
   "execution_count": 91,
   "id": "27de59ea-b470-42d1-a32f-f6a6f52e29fa",
   "metadata": {},
   "outputs": [],
   "source": [
    "#TOPIC: String Based Assignment Problem\n",
    "#QUESTION 34:==============================================================================================="
   ]
  },
  {
   "cell_type": "code",
   "execution_count": 98,
   "id": "936408c4-a9b4-4d43-8889-ca438d9aec11",
   "metadata": {},
   "outputs": [
    {
     "name": "stdin",
     "output_type": "stream",
     "text": [
      "Enter a URL:  https://www.gautam.com\n"
     ]
    },
    {
     "name": "stdout",
     "output_type": "stream",
     "text": [
      "https://www.gautam.com is a valid URL.\n"
     ]
    }
   ],
   "source": [
    "#34. Check if a string is a valid URL.\n",
    "\n",
    "def is_valid_url(url):\n",
    "    # Check for the presence of a valid scheme (http, https, ftp, etc.)\n",
    "    valid_schemes = (\"http\", \"https\", \"ftp\", \"ftps\")\n",
    "    scheme, _, rest = url.partition(\"://\")\n",
    "    if scheme not in valid_schemes:\n",
    "        return False\n",
    "\n",
    "    # Check for the presence of a valid network location (e.g., www.example.com)\n",
    "    if not rest:\n",
    "        return False\n",
    "    netloc, _, path = rest.partition(\"/\")\n",
    "    if not netloc:\n",
    "        return False\n",
    "\n",
    "    # The URL is considered valid if all checks pass\n",
    "    return True\n",
    "\n",
    "url = input(\"Enter a URL: \")\n",
    "\n",
    "if is_valid_url(url):\n",
    "    print(f\"{url} is a valid URL.\")\n",
    "else:\n",
    "    print(f\"{url} is not a valid URL.\")"
   ]
  },
  {
   "cell_type": "code",
   "execution_count": 95,
   "id": "261ff437-847c-4a11-9e3e-69066943effb",
   "metadata": {},
   "outputs": [
    {
     "name": "stdin",
     "output_type": "stream",
     "text": [
      "Enter a URL:  https://www.gautam.com\n"
     ]
    },
    {
     "name": "stdout",
     "output_type": "stream",
     "text": [
      "https://www.gautam.com is a valid URL.\n"
     ]
    }
   ],
   "source": [
    "from urllib.parse import urlparse\n",
    "\n",
    "def is_valid_url(url):\n",
    "    try:\n",
    "        result = urlparse(url)\n",
    "        return all([result.scheme, result.netloc])\n",
    "    except ValueError:\n",
    "        return False\n",
    "\n",
    "url = input(\"Enter a URL: \")\n",
    "\n",
    "if is_valid_url(url):\n",
    "    print(f\"{url} is a valid URL.\")\n",
    "else:\n",
    "    print(f\"{url} is not a valid URL.\")"
   ]
  },
  {
   "cell_type": "code",
   "execution_count": 99,
   "id": "59e0582f-6459-467c-81e9-8423984a2ad8",
   "metadata": {},
   "outputs": [],
   "source": [
    "#TOPIC: String Based Assignment Problem\n",
    "#QUESTION 35:==============================================================================================="
   ]
  },
  {
   "cell_type": "code",
   "execution_count": 100,
   "id": "44ccd2a7-7df0-43be-9aa2-86c1d5caf98f",
   "metadata": {},
   "outputs": [
    {
     "name": "stdout",
     "output_type": "stream",
     "text": [
      "Protocol: https\n"
     ]
    }
   ],
   "source": [
    "#35. Extract the protocol (http or https) from a URL string.\n",
    "\n",
    "def extract_protocol(url):\n",
    "    # Find the position of the first colon\n",
    "    colon_index = url.find(':')\n",
    "    \n",
    "    if colon_index != -1:\n",
    "        # Extract the characters before the colon\n",
    "        protocol = url[:colon_index]\n",
    "        return protocol\n",
    "\n",
    "    # If no colon is found, return None or any other suitable value\n",
    "    return None\n",
    "\n",
    "url = \"https://www.example.com/page\"\n",
    "\n",
    "protocol = extract_protocol(url)\n",
    "if protocol:\n",
    "    print(\"Protocol:\", protocol)\n",
    "else:\n",
    "    print(\"Protocol not found in the URL.\")"
   ]
  },
  {
   "cell_type": "code",
   "execution_count": 101,
   "id": "9bcd4010-65ef-4bcf-83d2-0c736b8db588",
   "metadata": {},
   "outputs": [],
   "source": [
    "#TOPIC: String Based Assignment Problem\n",
    "#QUESTION 36:==============================================================================================="
   ]
  },
  {
   "cell_type": "code",
   "execution_count": 103,
   "id": "395ed76c-d161-4aa9-899a-20d23a087d28",
   "metadata": {},
   "outputs": [
    {
     "name": "stdin",
     "output_type": "stream",
     "text": [
      "Enter a string:  the quick brown fox jumps over the little lazy dog\n"
     ]
    },
    {
     "name": "stdout",
     "output_type": "stream",
     "text": [
      "'t': 4\n",
      "'h': 2\n",
      "'e': 4\n",
      "'q': 1\n",
      "'u': 2\n",
      "'i': 2\n",
      "'c': 1\n",
      "'k': 1\n",
      "'b': 1\n",
      "'r': 2\n",
      "'o': 4\n",
      "'w': 1\n",
      "'n': 1\n",
      "'f': 1\n",
      "'x': 1\n",
      "'j': 1\n",
      "'m': 1\n",
      "'p': 1\n",
      "'s': 1\n",
      "'v': 1\n",
      "'l': 3\n",
      "'a': 1\n",
      "'z': 1\n",
      "'y': 1\n",
      "'d': 1\n",
      "'g': 1\n"
     ]
    }
   ],
   "source": [
    "#36. Find the frequency of each character in a string.\n",
    "\n",
    "input_string = input(\"Enter a string: \")\n",
    "\n",
    "# Create an empty dictionary to store character frequencies\n",
    "char_frequency = {}\n",
    "\n",
    "# Iterate through the characters in the input_string\n",
    "for char in input_string:\n",
    "    if char.isalpha():  # Ignore non-alphabetic characters, if needed\n",
    "        if char in char_frequency:\n",
    "            char_frequency[char] += 1\n",
    "        else:\n",
    "            char_frequency[char] = 1\n",
    "\n",
    "# Print the character frequencies\n",
    "for char, count in char_frequency.items():\n",
    "    print(f\"'{char}': {count}\")"
   ]
  },
  {
   "cell_type": "code",
   "execution_count": 104,
   "id": "d1d458a3-395c-4062-b09b-e722bd4cdf91",
   "metadata": {},
   "outputs": [],
   "source": [
    "#TOPIC: String Based Assignment Problem\n",
    "#QUESTION 37:==============================================================================================="
   ]
  },
  {
   "cell_type": "code",
   "execution_count": 107,
   "id": "db5f04c5-408b-4f3f-8cfc-e631a19718fb",
   "metadata": {},
   "outputs": [
    {
     "name": "stdout",
     "output_type": "stream",
     "text": [
      "Cleaned string: Hello World This is a sample string with punctuation\n"
     ]
    }
   ],
   "source": [
    "#37. Remove all punctuation from a string.\n",
    "\n",
    "def remove_punctuation(input_string):\n",
    "    cleaned_string = \"\"\n",
    "    for char in input_string:\n",
    "        if char.isalnum() or char.isspace():\n",
    "            cleaned_string += char\n",
    "    return cleaned_string\n",
    "\n",
    "input_string = \"Hello, World! This is a sample string with punctuation.\"\n",
    "\n",
    "cleaned_string = remove_punctuation(input_string)\n",
    "print(\"Cleaned string:\", cleaned_string)"
   ]
  },
  {
   "cell_type": "code",
   "execution_count": 108,
   "id": "9c447b0e-2412-47c6-a747-7a1da4e450f6",
   "metadata": {},
   "outputs": [],
   "source": [
    "#TOPIC: String Based Assignment Problem\n",
    "#QUESTION 38:==============================================================================================="
   ]
  },
  {
   "cell_type": "code",
   "execution_count": 111,
   "id": "0cfa7351-3052-4052-a2ba-79f3fc5691ba",
   "metadata": {},
   "outputs": [
    {
     "name": "stdin",
     "output_type": "stream",
     "text": [
      "Enter a string:  1231456454\n"
     ]
    },
    {
     "name": "stdout",
     "output_type": "stream",
     "text": [
      "The string contains only digits.\n"
     ]
    }
   ],
   "source": [
    "#38. Check if a string contains only digits.\n",
    "\n",
    "def contains_only_digits(input_string):\n",
    "    return input_string.isdigit()\n",
    "\n",
    "input_string = input(\"Enter a string: \")\n",
    "\n",
    "if contains_only_digits(input_string):\n",
    "    print(\"The string contains only digits.\")\n",
    "else:\n",
    "    print(\"The string contains non-digit characters.\")"
   ]
  },
  {
   "cell_type": "code",
   "execution_count": 112,
   "id": "fa57a149-448c-483b-8605-d0854fd58781",
   "metadata": {},
   "outputs": [],
   "source": [
    "#TOPIC: String Based Assignment Problem\n",
    "#QUESTION 39:==============================================================================================="
   ]
  },
  {
   "cell_type": "code",
   "execution_count": 114,
   "id": "4d3b74be-474b-4f95-a6f9-197d4994df03",
   "metadata": {},
   "outputs": [
    {
     "name": "stdin",
     "output_type": "stream",
     "text": [
      "Enter a string:  gautam\n"
     ]
    },
    {
     "name": "stdout",
     "output_type": "stream",
     "text": [
      "The string contains only alphabetic characters.\n"
     ]
    }
   ],
   "source": [
    "#39. Check if a string contains only alphabets.\n",
    "\n",
    "def contains_only_alphabets(input_string):\n",
    "    return input_string.isalpha()\n",
    "\n",
    "input_string = input(\"Enter a string: \")\n",
    "\n",
    "if contains_only_alphabets(input_string):\n",
    "    print(\"The string contains only alphabetic characters.\")\n",
    "else:\n",
    "    print(\"The string contains non-alphabetic characters.\")"
   ]
  },
  {
   "cell_type": "code",
   "execution_count": 115,
   "id": "dd7518f0-a278-43d9-b263-19b9376aea6c",
   "metadata": {},
   "outputs": [],
   "source": [
    "#TOPIC: String Based Assignment Problem\n",
    "#QUESTION 40:==============================================================================================="
   ]
  },
  {
   "cell_type": "code",
   "execution_count": 116,
   "id": "3d03167d-74dc-4db8-b3ff-da8a2536bc79",
   "metadata": {},
   "outputs": [
    {
     "name": "stdout",
     "output_type": "stream",
     "text": [
      "List of characters: ['H', 'e', 'l', 'l', 'o', ',', ' ', 'W', 'o', 'r', 'l', 'd', '!']\n"
     ]
    }
   ],
   "source": [
    "#40. Convert a string to a list of characters.\n",
    "\n",
    "input_string = \"Hello, World!\"\n",
    "\n",
    "# Initialize an empty list to store the characters\n",
    "character_list = []\n",
    "\n",
    "# Iterate through the string and append each character to the list\n",
    "for char in input_string:\n",
    "    character_list.append(char)\n",
    "\n",
    "print(\"List of characters:\", character_list)"
   ]
  },
  {
   "cell_type": "code",
   "execution_count": 117,
   "id": "e1d25e86-4c6a-49aa-ba4b-54a4a8d61f61",
   "metadata": {},
   "outputs": [],
   "source": [
    "#TOPIC: String Based Assignment Problem\n",
    "#QUESTION 41:==============================================================================================="
   ]
  },
  {
   "cell_type": "code",
   "execution_count": 118,
   "id": "fafd305a-2f76-46b3-82e5-e122596178d8",
   "metadata": {},
   "outputs": [
    {
     "name": "stdout",
     "output_type": "stream",
     "text": [
      "'listen' and 'silent' are anagrams.\n"
     ]
    }
   ],
   "source": [
    "#41. Check if two strings are anagrams.\n",
    "\n",
    "'''Anagrams are words or phrases formed by rearranging the letters of another, \n",
    "so if the sorted versions of two strings are the same, they are anagrams.'''\n",
    "\n",
    "def are_anagrams(str1, str2):\n",
    "    # Remove spaces and convert to lowercase for accurate comparison\n",
    "    str1 = str1.replace(\" \", \"\").lower()\n",
    "    str2 = str2.replace(\" \", \"\").lower()\n",
    "    \n",
    "    return sorted(str1) == sorted(str2)\n",
    "\n",
    "string1 = \"listen\"\n",
    "string2 = \"silent\"\n",
    "\n",
    "if are_anagrams(string1, string2):\n",
    "    print(f\"'{string1}' and '{string2}' are anagrams.\")\n",
    "else:\n",
    "    print(f\"'{string1}' and '{string2}' are not anagrams.\")"
   ]
  },
  {
   "cell_type": "code",
   "execution_count": 119,
   "id": "bbb4515b-f6a2-4738-aae0-e27829d019f1",
   "metadata": {},
   "outputs": [],
   "source": [
    "#TOPIC: String Based Assignment Problem\n",
    "#QUESTION 42:==============================================================================================="
   ]
  },
  {
   "cell_type": "code",
   "execution_count": 120,
   "id": "7082bfd7-7b75-4292-91d2-334e28610501",
   "metadata": {},
   "outputs": [
    {
     "name": "stdout",
     "output_type": "stream",
     "text": [
      "Encrypted text: Khoor, Zruog!\n"
     ]
    }
   ],
   "source": [
    "#42. Encode a string using a Caesar cipher.\n",
    "\n",
    "'''A Caesar cipher is a simple method of encoding messages. \n",
    "Caesar ciphers use a substitution method where letters\n",
    "in the alphabet are shifted by some fixed number of spaces\n",
    "to yield an encoding alphabet. \n",
    "A Caesar cipher with a shift of 1 would encode an \n",
    "A as a B, an M as an N, and a Z as an A, and so on.'''\n",
    "\n",
    "def caesar_cipher_encrypt(text, shift):\n",
    "    encrypted_text = \"\"\n",
    "    for char in text:\n",
    "        if char.isalpha():\n",
    "            is_upper = char.isupper()\n",
    "            char = char.lower()\n",
    "            shifted_char = chr(((ord(char) - ord('a') + shift) % 26) + ord('a'))\n",
    "            if is_upper:\n",
    "                shifted_char = shifted_char.upper()\n",
    "            encrypted_text += shifted_char\n",
    "        else:\n",
    "            encrypted_text += char\n",
    "    return encrypted_text\n",
    "\n",
    "# Example usage\n",
    "plain_text = \"Hello, World!\"\n",
    "shift_amount = 3\n",
    "\n",
    "cipher_text = caesar_cipher_encrypt(plain_text, shift_amount)\n",
    "print(\"Encrypted text:\", cipher_text)"
   ]
  },
  {
   "cell_type": "code",
   "execution_count": 1,
   "id": "8d62644f-cc5f-48d8-aa82-2d6744ac72ff",
   "metadata": {},
   "outputs": [],
   "source": [
    "#TOPIC: String Based Assignment Problem\n",
    "#QUESTION 43:==============================================================================================="
   ]
  },
  {
   "cell_type": "code",
   "execution_count": 2,
   "id": "9dca42f6-2e9c-4fd7-b064-b7cf8b8c5862",
   "metadata": {},
   "outputs": [
    {
     "name": "stdout",
     "output_type": "stream",
     "text": [
      "Decoded Text: Hello, World!\n"
     ]
    }
   ],
   "source": [
    "#43. Decode a Caesar cipher encoded string.\n",
    "\n",
    "def caesar_cipher_decrypt(ciphertext, shift):\n",
    "    result = \"\"\n",
    "    for char in ciphertext:\n",
    "        if char.isalpha():\n",
    "            is_upper = char.isupper()\n",
    "            char = char.lower()\n",
    "            decrypted_char = chr(((ord(char) - ord('a') - shift) % 26) + ord('a'))\n",
    "            if is_upper:\n",
    "                decrypted_char = decrypted_char.upper()\n",
    "            result += decrypted_char\n",
    "        else:\n",
    "            result += char\n",
    "    return result\n",
    "\n",
    "ciphertext = \"Khoor, Zruog!\"\n",
    "shift = 3\n",
    "\n",
    "plaintext = caesar_cipher_decrypt(ciphertext, shift)\n",
    "print(\"Decoded Text:\", plaintext)"
   ]
  },
  {
   "cell_type": "code",
   "execution_count": 3,
   "id": "cdb6d63e-0df2-4752-ae5c-cce761f01978",
   "metadata": {},
   "outputs": [],
   "source": [
    "#TOPIC: String Based Assignment Problem\n",
    "#QUESTION 44:==============================================================================================="
   ]
  },
  {
   "cell_type": "code",
   "execution_count": 4,
   "id": "d5a34f39-b5ae-4b59-9cde-d9b3d0225494",
   "metadata": {},
   "outputs": [
    {
     "name": "stdout",
     "output_type": "stream",
     "text": [
      "Most frequent word: sample\n"
     ]
    }
   ],
   "source": [
    "#44. Find the most frequent word in a string.\n",
    "\n",
    "def most_frequent_word(text):\n",
    "    # Split the text into words\n",
    "    words = text.split()\n",
    "\n",
    "    # Create a dictionary to store word frequencies\n",
    "    word_count = {}\n",
    "\n",
    "    for word in words:\n",
    "        # Remove punctuation and convert to lowercase\n",
    "        word = word.strip('.,!?()[]{}\"\\'').lower()\n",
    "\n",
    "        if word:\n",
    "            if word in word_count:\n",
    "                word_count[word] += 1\n",
    "            else:\n",
    "                word_count[word] = 1\n",
    "\n",
    "    # Find the word with the highest frequency\n",
    "    most_frequent = max(word_count, key=word_count.get)\n",
    "    return most_frequent\n",
    "\n",
    "input_text = \"This is a sample text. This is a sample text with sample words.\"\n",
    "\n",
    "most_frequent = most_frequent_word(input_text)\n",
    "print(\"Most frequent word:\", most_frequent)"
   ]
  },
  {
   "cell_type": "code",
   "execution_count": 5,
   "id": "d514362e-a89c-472f-b22a-0db0f03ecd0a",
   "metadata": {},
   "outputs": [],
   "source": [
    "#TOPIC: String Based Assignment Problem\n",
    "#QUESTION 45:==============================================================================================="
   ]
  },
  {
   "cell_type": "code",
   "execution_count": 6,
   "id": "51a03fb7-aa2c-4d3e-a79e-488713a0ac1c",
   "metadata": {},
   "outputs": [
    {
     "name": "stdout",
     "output_type": "stream",
     "text": [
      "Unique words: ['is', 'this', 'words', 'sample', 'text', 'a', 'with']\n"
     ]
    }
   ],
   "source": [
    "#45. Find all unique words in a string.\n",
    "\n",
    "def unique_words(text):\n",
    "    # Split the text into words\n",
    "    words = text.split()\n",
    "\n",
    "    # Create a set to store unique words\n",
    "    unique_word_set = set()\n",
    "\n",
    "    for word in words:\n",
    "        # Remove punctuation and convert to lowercase\n",
    "        word = word.strip('.,!?()[]{}\"\\'').lower()\n",
    "\n",
    "        if word:\n",
    "            unique_word_set.add(word)\n",
    "\n",
    "    return list(unique_word_set)\n",
    "\n",
    "input_text = \"This is a sample text. This is a sample text with sample words.\"\n",
    "\n",
    "unique_words_list = unique_words(input_text)\n",
    "print(\"Unique words:\", unique_words_list)"
   ]
  },
  {
   "cell_type": "code",
   "execution_count": 7,
   "id": "4ae60520-462c-4be6-863c-84f0e5bc0c6f",
   "metadata": {},
   "outputs": [],
   "source": [
    "#TOPIC: String Based Assignment Problem\n",
    "#QUESTION 46:==============================================================================================="
   ]
  },
  {
   "cell_type": "code",
   "execution_count": 8,
   "id": "679bead6-12c1-4aa9-9c01-25d3292f2e5a",
   "metadata": {},
   "outputs": [
    {
     "name": "stdout",
     "output_type": "stream",
     "text": [
      "Total syllables: 12\n"
     ]
    }
   ],
   "source": [
    "#46. Count the number of syllables in a string.\n",
    "\n",
    "'''count_syllables(word) is a function that counts the syllables in a single word using simple rules. \n",
    "It checks for vowels and common patterns like silent 'e' at the end.'''\n",
    "\n",
    "def count_syllables(word):\n",
    "    vowels = \"aeiouAEIOU\"\n",
    "    count = 0\n",
    "\n",
    "    if word[0] in vowels:\n",
    "        count += 1\n",
    "\n",
    "    for i in range(1, len(word)):\n",
    "        if word[i] in vowels and word[i - 1] not in vowels:\n",
    "            count += 1\n",
    "\n",
    "    if word.endswith(\"e\"):\n",
    "        count -= 1\n",
    "        if word[-2] in vowels:\n",
    "            count += 1\n",
    "\n",
    "    return max(1, count)  # At least one syllable\n",
    "\n",
    "'''syllable_counter(text) is a function that splits the input text into words, \n",
    "counts the syllables in each word, and sums them to find the total syllable count.'''\n",
    "\n",
    "def syllable_counter(text):\n",
    "    words = text.split()\n",
    "    syllable_count = 0\n",
    "\n",
    "    for word in words:\n",
    "        syllable_count += count_syllables(word)\n",
    "        \n",
    "#We provide a sample input text, and then we use the syllable_counter function to count the syllables.\n",
    "\n",
    "    return syllable_count\n",
    "\n",
    "input_text = \"Hello, World! This is a simple example sentence.\"\n",
    "\n",
    "total_syllables = syllable_counter(input_text)\n",
    "print(\"Total syllables:\", total_syllables)"
   ]
  },
  {
   "cell_type": "code",
   "execution_count": 9,
   "id": "d55c967b-a7d1-4219-acab-8cd03f9ca55f",
   "metadata": {},
   "outputs": [],
   "source": [
    "#TOPIC: String Based Assignment Problem\n",
    "#QUESTION 47:==============================================================================================="
   ]
  },
  {
   "cell_type": "code",
   "execution_count": 10,
   "id": "bd188a36-0867-47a8-a2ae-89947bd40b7c",
   "metadata": {},
   "outputs": [
    {
     "name": "stdout",
     "output_type": "stream",
     "text": [
      "The string contains special characters.\n"
     ]
    }
   ],
   "source": [
    "#47. Check if a string contains any special characters.\n",
    "\n",
    "def contains_special_characters(text):\n",
    "    for char in text:\n",
    "        if not char.isalnum():\n",
    "            return True\n",
    "    return False\n",
    "\n",
    "input_text = \"Hello, World!\"\n",
    "\n",
    "if contains_special_characters(input_text):\n",
    "    print(\"The string contains special characters.\")\n",
    "else:\n",
    "    print(\"The string does not contain special characters.\")"
   ]
  },
  {
   "cell_type": "code",
   "execution_count": 11,
   "id": "58b03535-7745-4385-a3b9-ef8f863406e7",
   "metadata": {},
   "outputs": [],
   "source": [
    "#TOPIC: String Based Assignment Problem\n",
    "#QUESTION 48:==============================================================================================="
   ]
  },
  {
   "cell_type": "code",
   "execution_count": 12,
   "id": "d34f9002-73ea-46ef-a930-3c96d96fd906",
   "metadata": {},
   "outputs": [
    {
     "name": "stdout",
     "output_type": "stream",
     "text": [
      "New text: This is an sentence to demonstrate removing a word.\n"
     ]
    }
   ],
   "source": [
    "#48. Remove the nth word from a string.\n",
    "\n",
    "def remove_nth_word(text, n):\n",
    "    words = text.split()\n",
    "    \n",
    "    if n < 1 or n > len(words):\n",
    "        return text  # No change if n is out of range\n",
    "    \n",
    "    words.pop(n - 1)  # Remove the nth word\n",
    "    \n",
    "    result = ' '.join(words)  # Reconstruct the string without the removed word\n",
    "    return result\n",
    "\n",
    "'''The remove_nth_word function takes the input text and the position n of the word to be removed as parameters.\n",
    "If n is less than 1 or greater than the number of words, \n",
    "the function returns the original text without making any changes.\n",
    "If n is within a valid range, the function removes the nth word from the list of words using words.pop(n - 1).'''\n",
    "\n",
    "input_text = \"This is an example sentence to demonstrate removing a word.\"\n",
    "\n",
    "n = 4  # Remove the fourth word\n",
    "\n",
    "new_text = remove_nth_word(input_text, n)\n",
    "print(\"New text:\", new_text)"
   ]
  },
  {
   "cell_type": "code",
   "execution_count": 13,
   "id": "5452fcba-fdd6-49f3-9c18-5599222320d8",
   "metadata": {},
   "outputs": [],
   "source": [
    "#TOPIC: String Based Assignment Problem\n",
    "#QUESTION 49:==============================================================================================="
   ]
  },
  {
   "cell_type": "code",
   "execution_count": 14,
   "id": "c56aa3c5-8db1-4bac-90ef-3dd274489ac8",
   "metadata": {},
   "outputs": [
    {
     "name": "stdout",
     "output_type": "stream",
     "text": [
      "New text: This is an example new sentence to demonstrate inserting a word.\n"
     ]
    }
   ],
   "source": [
    "#49. Insert a word at the nth position in a string.\n",
    "\n",
    "def insert_word_at_nth_position(text, word_to_insert, n):\n",
    "    words = text.split()\n",
    "    \n",
    "    if n < 1:\n",
    "        n = 1  # Ensure n is at least 1\n",
    "    elif n > len(words) + 1:\n",
    "        n = len(words) + 1  # If n is greater than the number of words, insert at the end\n",
    "    \n",
    "    words.insert(n - 1, word_to_insert)  # Insert the word at the specified position\n",
    "    \n",
    "    result = ' '.join(words)  # Reconstruct the string with the inserted word\n",
    "    return result\n",
    "\n",
    "input_text = \"This is an example sentence to demonstrate inserting a word.\"\n",
    "\n",
    "word_to_insert = \"new\"\n",
    "n = 5  # Insert the word at the fifth position\n",
    "\n",
    "new_text = insert_word_at_nth_position(input_text, word_to_insert, n)\n",
    "print(\"New text:\", new_text)"
   ]
  },
  {
   "cell_type": "code",
   "execution_count": 15,
   "id": "b29eb5fe-0d0e-4e75-9e24-a775d7358699",
   "metadata": {},
   "outputs": [],
   "source": [
    "#TOPIC: String Based Assignment Problem\n",
    "#QUESTION 50:==============================================================================================="
   ]
  },
  {
   "cell_type": "code",
   "execution_count": 16,
   "id": "3cc3b6b7-c9ec-4b94-ab33-ca07c3149830",
   "metadata": {},
   "outputs": [
    {
     "name": "stdout",
     "output_type": "stream",
     "text": [
      "['Alice', '25', 'New York']\n",
      "['Bob', '30', 'Los Angeles']\n",
      "['Charlie', '22', 'San Francisco']\n"
     ]
    }
   ],
   "source": [
    "#50. Convert a CSV string to a list of lists.\n",
    "\n",
    "csv_string = \"Name,Age,Location\\nAlice,25,New York\\nBob,30,Los Angeles\\nCharlie,22,San Francisco\"\n",
    "\n",
    "# Split the CSV string into lines\n",
    "lines = csv_string.split(\"\\n\")\n",
    "\n",
    "# Split the header line into fields\n",
    "header = lines[0].split(\",\")\n",
    "\n",
    "# Initialize a list to store the data\n",
    "csv_data = []\n",
    "\n",
    "# Iterate through the remaining lines to split into fields and create rows\n",
    "for line in lines[1:]:\n",
    "    fields = line.split(\",\")\n",
    "    csv_data.append(fields)\n",
    "\n",
    "# Optionally, remove the header from the data if needed\n",
    "# csv_data = csv_data[1:]\n",
    "\n",
    "# Print the list of lists\n",
    "for row in csv_data:\n",
    "    print(row)"
   ]
  },
  {
   "cell_type": "code",
   "execution_count": 17,
   "id": "03f544e1-26e1-4e29-add1-3ee3ee4dba9e",
   "metadata": {},
   "outputs": [],
   "source": [
    "#TOPIC: List Based Practice Problem\n",
    "#QUESTION 1:==============================================================================================="
   ]
  },
  {
   "cell_type": "code",
   "execution_count": 19,
   "id": "911ebb61-6b4c-4d59-b757-ca92156fa074",
   "metadata": {},
   "outputs": [
    {
     "name": "stdout",
     "output_type": "stream",
     "text": [
      "[1, 2, 3, 4, 5, 6, 7, 8, 9, 10]\n"
     ]
    }
   ],
   "source": [
    "#1. Create a list with integers from 1 to 10.\n",
    "\n",
    "integer_list = list(range(1, 11))\n",
    "print(integer_list)"
   ]
  },
  {
   "cell_type": "code",
   "execution_count": 20,
   "id": "871c120a-a0d9-45db-b260-9bd318f8a746",
   "metadata": {},
   "outputs": [],
   "source": [
    "#TOPIC: List Based Practice Problem\n",
    "#QUESTION 2:==============================================================================================="
   ]
  },
  {
   "cell_type": "code",
   "execution_count": 21,
   "id": "f01194bb-be94-449a-bdf8-d67c49b4aaa0",
   "metadata": {},
   "outputs": [
    {
     "name": "stdout",
     "output_type": "stream",
     "text": [
      "Length of the list: 10\n"
     ]
    }
   ],
   "source": [
    "#2. Find the length of a list without using the `len()` function.\n",
    "\n",
    "def find_length_of_list(input_list):\n",
    "    length = 0\n",
    "'''We use a for loop to iterate through the elements of the input list. \n",
    "For each element, we increment the length by 1.'''\n",
    "    for _ in input_list:\n",
    "        length += 1\n",
    "    return length\n",
    "\n",
    "my_list = [1, 2, 3, 4, 5, 6, 7, 8, 9, 10]\n",
    "\n",
    "length = find_length_of_list(my_list)\n",
    "print(\"Length of the list:\", length)"
   ]
  },
  {
   "cell_type": "code",
   "execution_count": 22,
   "id": "acf639ea-6bee-49ac-9287-cc71ac8a5fc8",
   "metadata": {},
   "outputs": [],
   "source": [
    "#TOPIC: List Based Practice Problem\n",
    "#QUESTION 3:==============================================================================================="
   ]
  },
  {
   "cell_type": "code",
   "execution_count": 23,
   "id": "41893020-c8c1-468c-878b-7ab71bb7a018",
   "metadata": {},
   "outputs": [
    {
     "name": "stdout",
     "output_type": "stream",
     "text": [
      "[1, 2, 3, 4, 5, 6]\n"
     ]
    }
   ],
   "source": [
    "#3. Append an element to the end of a list.\n",
    "\n",
    "my_list = [1, 2, 3, 4, 5]\n",
    "\n",
    "# Append an element to the end of the list\n",
    "my_list.append(6)\n",
    "\n",
    "print(my_list)"
   ]
  },
  {
   "cell_type": "code",
   "execution_count": 24,
   "id": "f1e3210f-b7da-4b40-99a7-78dba770bef1",
   "metadata": {},
   "outputs": [],
   "source": [
    "#TOPIC: List Based Practice Problem\n",
    "#QUESTION 4:==============================================================================================="
   ]
  },
  {
   "cell_type": "code",
   "execution_count": 25,
   "id": "1fefb70c-789b-4060-b275-1a602047b1fb",
   "metadata": {},
   "outputs": [
    {
     "name": "stdout",
     "output_type": "stream",
     "text": [
      "[1, 2, 6, 3, 4, 5]\n"
     ]
    }
   ],
   "source": [
    "#4. Insert an element at a specific index in a list.\n",
    "\n",
    "my_list = [1, 2, 3, 4, 5]\n",
    "\n",
    "# Insert an element (e.g., 6) at a specific index (e.g., index 2)\n",
    "my_list.insert(2, 6)\n",
    "\n",
    "print(my_list)"
   ]
  },
  {
   "cell_type": "code",
   "execution_count": 26,
   "id": "602917fa-088e-4a35-aef0-f9153ce8c276",
   "metadata": {},
   "outputs": [],
   "source": [
    "#TOPIC: List Based Practice Problem\n",
    "#QUESTION 5:==============================================================================================="
   ]
  },
  {
   "cell_type": "code",
   "execution_count": 27,
   "id": "2a3f5adf-d73b-4d17-bdc3-56cdb5d89daa",
   "metadata": {},
   "outputs": [
    {
     "name": "stdout",
     "output_type": "stream",
     "text": [
      "[1, 2, 4, 5]\n"
     ]
    }
   ],
   "source": [
    "#5. Remove an element from a list by its value.\n",
    "\n",
    "my_list = [1, 2, 3, 4, 5]\n",
    "\n",
    "# Remove an element (e.g., value 3) from the list\n",
    "my_list.remove(3)\n",
    "\n",
    "print(my_list)"
   ]
  },
  {
   "cell_type": "code",
   "execution_count": 28,
   "id": "fd226dc5-e85a-43f5-83eb-341f5e704e1f",
   "metadata": {},
   "outputs": [],
   "source": [
    "#TOPIC: List Based Practice Problem\n",
    "#QUESTION 6:==============================================================================================="
   ]
  },
  {
   "cell_type": "code",
   "execution_count": 29,
   "id": "9922d484-3293-401c-a007-f9e2b998a7f2",
   "metadata": {},
   "outputs": [
    {
     "name": "stdout",
     "output_type": "stream",
     "text": [
      "Removed element: 3\n",
      "Updated list: [1, 2, 4, 5]\n"
     ]
    }
   ],
   "source": [
    "#6. Remove an element from a list by its index.\n",
    "\n",
    "my_list = [1, 2, 3, 4, 5]\n",
    "\n",
    "# Remove an element at a specific index (e.g., index 2)\n",
    "element = my_list.pop(2)\n",
    "\n",
    "print(\"Removed element:\", element)\n",
    "print(\"Updated list:\", my_list)"
   ]
  },
  {
   "cell_type": "code",
   "execution_count": 30,
   "id": "a5e4f898-c4cf-4b33-989a-e48591c98fcb",
   "metadata": {},
   "outputs": [],
   "source": [
    "#TOPIC: List Based Practice Problem\n",
    "#QUESTION 7:==============================================================================================="
   ]
  },
  {
   "cell_type": "code",
   "execution_count": 31,
   "id": "dd5e5f4b-90d9-4783-8bc6-7c035a83295e",
   "metadata": {},
   "outputs": [
    {
     "name": "stdout",
     "output_type": "stream",
     "text": [
      "3 exists in the list.\n"
     ]
    }
   ],
   "source": [
    "#7. Check if an element exists in a list.\n",
    "\n",
    "my_list = [1, 2, 3, 4, 5]\n",
    "\n",
    "element_to_check = 3\n",
    "\n",
    "if element_to_check in my_list:\n",
    "    print(f\"{element_to_check} exists in the list.\")\n",
    "else:\n",
    "    print(f\"{element_to_check} does not exist in the list.\")"
   ]
  },
  {
   "cell_type": "code",
   "execution_count": 32,
   "id": "39b99f08-1724-4b2a-a2b5-2ce23389fa3c",
   "metadata": {},
   "outputs": [],
   "source": [
    "#TOPIC: List Based Practice Problem\n",
    "#QUESTION 8:==============================================================================================="
   ]
  },
  {
   "cell_type": "code",
   "execution_count": 33,
   "id": "2adfbf40-0496-4408-b202-f5af2b2f0b0e",
   "metadata": {},
   "outputs": [
    {
     "name": "stdout",
     "output_type": "stream",
     "text": [
      "The first occurrence of 3 is at index 2.\n"
     ]
    }
   ],
   "source": [
    "#8. Find the index of the first occurrence of an element in a list.\n",
    "\n",
    "my_list = [1, 2, 3, 4, 5, 3, 6]\n",
    "\n",
    "element_to_find = 3\n",
    "\n",
    "if element_to_find in my_list:\n",
    "    index = my_list.index(element_to_find)\n",
    "    print(f\"The first occurrence of {element_to_find} is at index {index}.\")\n",
    "else:\n",
    "    print(f\"{element_to_find} is not in the list.\")"
   ]
  },
  {
   "cell_type": "code",
   "execution_count": 34,
   "id": "b0071a8d-4c2e-4e57-9955-2783ec406f14",
   "metadata": {},
   "outputs": [],
   "source": [
    "#TOPIC: List Based Practice Problem\n",
    "#QUESTION 9:==============================================================================================="
   ]
  },
  {
   "cell_type": "code",
   "execution_count": 35,
   "id": "a5a7b109-56b3-4e7b-911f-08edae5a3a10",
   "metadata": {},
   "outputs": [
    {
     "name": "stdout",
     "output_type": "stream",
     "text": [
      "The element 3 occurs 2 times in the list.\n"
     ]
    }
   ],
   "source": [
    "#9. Count the occurrences of an element in a list.\n",
    "\n",
    "my_list = [1, 2, 3, 4, 5, 3, 6]\n",
    "\n",
    "element_to_count = 3\n",
    "\n",
    "count = my_list.count(element_to_count)\n",
    "\n",
    "print(f\"The element {element_to_count} occurs {count} times in the list.\")"
   ]
  },
  {
   "cell_type": "code",
   "execution_count": 36,
   "id": "a44f6f98-0ca4-4636-8632-47a753f3815a",
   "metadata": {},
   "outputs": [],
   "source": [
    "#TOPIC: List Based Practice Problem\n",
    "#QUESTION 10:==============================================================================================="
   ]
  },
  {
   "cell_type": "code",
   "execution_count": 37,
   "id": "07ec0b04-1fbf-4f7c-aff0-a563c32879e1",
   "metadata": {},
   "outputs": [
    {
     "name": "stdout",
     "output_type": "stream",
     "text": [
      "[5, 4, 3, 2, 1]\n"
     ]
    }
   ],
   "source": [
    "#10. Reverse the order of elements in a list.\n",
    "\n",
    "my_list = [1, 2, 3, 4, 5]\n",
    "\n",
    "my_list.reverse()\n",
    "\n",
    "print(my_list)"
   ]
  },
  {
   "cell_type": "code",
   "execution_count": 38,
   "id": "67944d44-83f6-4517-9cac-fbf7d34a2235",
   "metadata": {},
   "outputs": [],
   "source": [
    "#TOPIC: List Based Practice Problem\n",
    "#QUESTION 11:==============================================================================================="
   ]
  },
  {
   "cell_type": "code",
   "execution_count": 40,
   "id": "25d5815f-7db0-4b2e-b6b5-87bbdae37b7e",
   "metadata": {},
   "outputs": [
    {
     "name": "stdout",
     "output_type": "stream",
     "text": [
      "[1, 2, 3, 5, 6, 9]\n"
     ]
    }
   ],
   "source": [
    "#11. Sort a list in ascending order.\n",
    "\n",
    "my_list = [5, 2, 9, 1, 3, 6]\n",
    "\n",
    "my_list.sort()\n",
    "\n",
    "print(my_list)"
   ]
  },
  {
   "cell_type": "code",
   "execution_count": 41,
   "id": "56145f67-8db6-4e76-a9b2-86a870e6bd54",
   "metadata": {},
   "outputs": [],
   "source": [
    "#TOPIC: List Based Practice Problem\n",
    "#QUESTION 12:==============================================================================================="
   ]
  },
  {
   "cell_type": "code",
   "execution_count": 42,
   "id": "14e99056-19d2-48ec-8f0a-b9168c223eeb",
   "metadata": {},
   "outputs": [
    {
     "name": "stdout",
     "output_type": "stream",
     "text": [
      "[9, 6, 5, 3, 2, 1]\n"
     ]
    }
   ],
   "source": [
    "#12. Sort a list in descending order.\n",
    "\n",
    "my_list = [5, 2, 9, 1, 3, 6]\n",
    "\n",
    "sorted_list = sorted(my_list, reverse=True)\n",
    "\n",
    "print(sorted_list)"
   ]
  },
  {
   "cell_type": "code",
   "execution_count": 43,
   "id": "15c53888-36b2-46ea-8444-801745e97b6a",
   "metadata": {},
   "outputs": [],
   "source": [
    "#TOPIC: List Based Practice Problem\n",
    "#QUESTION 13:==============================================================================================="
   ]
  },
  {
   "cell_type": "code",
   "execution_count": 52,
   "id": "d3fec565-d663-4bbc-806a-86f2c55dbfb6",
   "metadata": {},
   "outputs": [
    {
     "name": "stdout",
     "output_type": "stream",
     "text": [
      "[2, 4, 6, 8, 10, 12, 14, 16, 18, 20]\n"
     ]
    }
   ],
   "source": [
    "#13. Create a list of even numbers from 1 to 20.\n",
    "\n",
    "even_numbers = [x for x in range(2, 21, 2)]\n",
    "print(even_numbers)"
   ]
  },
  {
   "cell_type": "code",
   "execution_count": 53,
   "id": "eb6e0e5a-11b6-45bd-90dc-420bd49fae5e",
   "metadata": {},
   "outputs": [],
   "source": [
    "#TOPIC: List Based Practice Problem\n",
    "#QUESTION 14:==============================================================================================="
   ]
  },
  {
   "cell_type": "code",
   "execution_count": 54,
   "id": "43d371a1-ece8-48ab-9d77-bd834d98457c",
   "metadata": {},
   "outputs": [
    {
     "name": "stdout",
     "output_type": "stream",
     "text": [
      "[1, 3, 5, 7, 9, 11, 13, 15, 17, 19]\n"
     ]
    }
   ],
   "source": [
    "#14. Create a list of odd numbers from 1 to 20.\n",
    "\n",
    "odd_numbers = [x for x in range(1, 21, 2)]\n",
    "print(odd_numbers)"
   ]
  },
  {
   "cell_type": "code",
   "execution_count": 55,
   "id": "fe709876-aec5-4550-a9ed-a4bf75ca4418",
   "metadata": {},
   "outputs": [],
   "source": [
    "#TOPIC: List Based Practice Problem\n",
    "#QUESTION 15:==============================================================================================="
   ]
  },
  {
   "cell_type": "code",
   "execution_count": 56,
   "id": "c73b4301-e678-46d9-b33d-569d9a4c015f",
   "metadata": {},
   "outputs": [
    {
     "name": "stdout",
     "output_type": "stream",
     "text": [
      "Sum of all elements: 15\n"
     ]
    }
   ],
   "source": [
    "#15. Find the sum of all elements in a list.\n",
    "\n",
    "my_list = [1, 2, 3, 4, 5]\n",
    "\n",
    "list_sum = sum(my_list)\n",
    "\n",
    "print(\"Sum of all elements:\", list_sum)"
   ]
  },
  {
   "cell_type": "code",
   "execution_count": 57,
   "id": "251a551f-e989-4399-be0b-e5278a93ac5e",
   "metadata": {},
   "outputs": [],
   "source": [
    "#TOPIC: List Based Practice Problem\n",
    "#QUESTION 16:==============================================================================================="
   ]
  },
  {
   "cell_type": "code",
   "execution_count": 58,
   "id": "4cb1fd19-591a-4731-8042-1158037454ed",
   "metadata": {},
   "outputs": [
    {
     "name": "stdout",
     "output_type": "stream",
     "text": [
      "Maximum value: 89\n"
     ]
    }
   ],
   "source": [
    "#16. Find the maximum value in a list.\n",
    "\n",
    "my_list = [12, 45, 7, 23, 56, 89, 34, 5]\n",
    "\n",
    "max_value = max(my_list)\n",
    "\n",
    "print(\"Maximum value:\", max_value)"
   ]
  },
  {
   "cell_type": "code",
   "execution_count": 59,
   "id": "524eb9ad-719f-45e7-b513-a19554c658d0",
   "metadata": {},
   "outputs": [],
   "source": [
    "#TOPIC: List Based Practice Problem\n",
    "#QUESTION 17:==============================================================================================="
   ]
  },
  {
   "cell_type": "code",
   "execution_count": 60,
   "id": "f607a8c6-7f76-4d73-b2fa-23ddd556c7ca",
   "metadata": {},
   "outputs": [
    {
     "name": "stdout",
     "output_type": "stream",
     "text": [
      "Minimum value: 5\n"
     ]
    }
   ],
   "source": [
    "#17. Find the minimum value in a list.\n",
    "\n",
    "my_list = [12, 45, 7, 23, 56, 89, 34, 5]\n",
    "\n",
    "min_value = min(my_list)\n",
    "\n",
    "print(\"Minimum value:\", min_value)"
   ]
  },
  {
   "cell_type": "code",
   "execution_count": 61,
   "id": "39655634-5742-4678-af99-44d2a4c29974",
   "metadata": {},
   "outputs": [],
   "source": [
    "#TOPIC: List Based Practice Problem\n",
    "#QUESTION 18:==============================================================================================="
   ]
  },
  {
   "cell_type": "code",
   "execution_count": 62,
   "id": "521d7eef-e3bd-4ac4-a1dd-b368f414dd22",
   "metadata": {},
   "outputs": [
    {
     "name": "stdout",
     "output_type": "stream",
     "text": [
      "[1, 4, 9, 16, 25, 36, 49, 64, 81, 100]\n"
     ]
    }
   ],
   "source": [
    "#18. Create a list of squares of numbers from 1 to 10.\n",
    "\n",
    "squares = [x ** 2 for x in range(1, 11)]\n",
    "print(squares)"
   ]
  },
  {
   "cell_type": "code",
   "execution_count": 63,
   "id": "8148cc58-2aea-4cf8-b2aa-f8fe7a25e236",
   "metadata": {},
   "outputs": [],
   "source": [
    "#TOPIC: List Based Practice Problem\n",
    "#QUESTION 19:==============================================================================================="
   ]
  },
  {
   "cell_type": "code",
   "execution_count": 3,
   "id": "bb192b60-b078-4efb-8ead-15aa6ae938d2",
   "metadata": {},
   "outputs": [
    {
     "name": "stdout",
     "output_type": "stream",
     "text": [
      "[98, 74, 14, 45, 30, 29, 79, 46, 36, 49]\n"
     ]
    }
   ],
   "source": [
    "#19. Create a list of random numbers.\n",
    "\n",
    "import random\n",
    "\n",
    "# Create a list of 10 random integers between 1 and 100\n",
    "\n",
    "'''Inside the list comprehension, we use random.randint(1, 100) to generate a random integer \n",
    "between 1 and 100 (inclusive) for each element of the list. You can adjust the range as needed.'''\n",
    "\n",
    "'''We generate a list of 10 random integers in this example, \n",
    "but you can change the number of elements as desired.'''\n",
    "\n",
    "random_numbers = [random.randint(1, 100) for _ in range(10)]\n",
    "\n",
    "print(random_numbers)"
   ]
  },
  {
   "cell_type": "code",
   "execution_count": 4,
   "id": "02175514-4f0b-4131-a3b5-4a4205accd18",
   "metadata": {},
   "outputs": [],
   "source": [
    "#TOPIC: List Based Practice Problem\n",
    "#QUESTION 20:==============================================================================================="
   ]
  },
  {
   "cell_type": "code",
   "execution_count": 5,
   "id": "275f756e-eeaf-473a-acd1-7f622e8f9e4e",
   "metadata": {},
   "outputs": [
    {
     "name": "stdout",
     "output_type": "stream",
     "text": [
      "[1, 2, 3, 4, 5]\n"
     ]
    }
   ],
   "source": [
    "#20. Remove duplicates from a list.\n",
    "\n",
    "my_list = [1, 2, 2, 3, 4, 4, 5]\n",
    "\n",
    "unique_list = list(set(my_list))\n",
    "\n",
    "print(unique_list)"
   ]
  },
  {
   "cell_type": "code",
   "execution_count": 6,
   "id": "28bcd56e-a4de-4a5e-a957-283489253d10",
   "metadata": {},
   "outputs": [],
   "source": [
    "#TOPIC: List Based Practice Problem\n",
    "#QUESTION 21:==============================================================================================="
   ]
  },
  {
   "cell_type": "code",
   "execution_count": 7,
   "id": "a3f02ed0-9c3d-40b8-91cf-23663fe00546",
   "metadata": {},
   "outputs": [
    {
     "name": "stdout",
     "output_type": "stream",
     "text": [
      "[3, 4, 5]\n"
     ]
    }
   ],
   "source": [
    "#21. Find the common elements between two lists.\n",
    "\n",
    "list1 = [1, 2, 3, 4, 5]\n",
    "list2 = [3, 4, 5, 6, 7]\n",
    "\n",
    "common_elements = [x for x in list1 if x in list2]\n",
    "\n",
    "print(common_elements)"
   ]
  },
  {
   "cell_type": "code",
   "execution_count": 8,
   "id": "5b97661f-2c38-41b4-832b-6cda48cada9a",
   "metadata": {},
   "outputs": [
    {
     "name": "stdout",
     "output_type": "stream",
     "text": [
      "[3, 4, 5]\n"
     ]
    }
   ],
   "source": [
    "list1 = [1, 2, 3, 4, 5]\n",
    "list2 = [3, 4, 5, 6, 7]\n",
    "\n",
    "set1 = set(list1)\n",
    "set2 = set(list2)\n",
    "\n",
    "common_elements = list(set1.intersection(set2))\n",
    "\n",
    "print(common_elements)"
   ]
  },
  {
   "cell_type": "code",
   "execution_count": 9,
   "id": "1c67b43a-3445-4df9-ab3b-6fa4ce9bfb3b",
   "metadata": {},
   "outputs": [],
   "source": [
    "#TOPIC: List Based Practice Problem\n",
    "#QUESTION 22:==============================================================================================="
   ]
  },
  {
   "cell_type": "code",
   "execution_count": 11,
   "id": "96ac80d8-502d-4dbb-97da-686164941ddc",
   "metadata": {},
   "outputs": [
    {
     "name": "stdout",
     "output_type": "stream",
     "text": [
      "[1, 2, 6, 7]\n"
     ]
    }
   ],
   "source": [
    "#22. Find the difference between two lists.\n",
    "\n",
    "list1 = [1, 2, 3, 4, 5]\n",
    "list2 = [3, 4, 5, 6, 7]\n",
    "\n",
    "difference_list = [x for x in list1 if x not in list2] + [x for x in list2 if x not in list1]\n",
    "\n",
    "print(difference_list)"
   ]
  },
  {
   "cell_type": "code",
   "execution_count": 12,
   "id": "a63bd7c3-0c6f-4b6d-a07e-612f71d07259",
   "metadata": {},
   "outputs": [],
   "source": [
    "#22. Find the difference between two lists.\n",
    "\n",
    "list1 = [1, 2, 3, 4, 5]\n",
    "list2 = [3, 4, 5, 6, 7]\n",
    "\n",
    "set1 = set(list1)\n",
    "set2 = set(list2)\n",
    "\n",
    "difference_list = list(set1.symmetric_difference(set2))\n",
    "\n",
    "print(difference_list)"
   ]
  },
  {
   "cell_type": "code",
   "execution_count": 13,
   "id": "c2dadcdd-73c7-4b14-bbdd-43aadce61880",
   "metadata": {},
   "outputs": [],
   "source": [
    "#TOPIC: List Based Practice Problem\n",
    "#QUESTION 23:==============================================================================================="
   ]
  },
  {
   "cell_type": "code",
   "execution_count": 14,
   "id": "ade182bd-6a62-4b00-8ba5-ac9471f9d9cd",
   "metadata": {},
   "outputs": [
    {
     "name": "stdout",
     "output_type": "stream",
     "text": [
      "[1, 2, 3, 4, 5, 6]\n"
     ]
    }
   ],
   "source": [
    "#23. Merge two lists.\n",
    "\n",
    "list1 = [1, 2, 3]\n",
    "list2 = [4, 5, 6]\n",
    "\n",
    "merged_list = list1 + list2\n",
    "\n",
    "print(merged_list)"
   ]
  },
  {
   "cell_type": "code",
   "execution_count": 15,
   "id": "32e10c75-3ccb-493c-8ac0-05b45b08fad0",
   "metadata": {},
   "outputs": [],
   "source": [
    "#TOPIC: List Based Practice Problem\n",
    "#QUESTION 24:==============================================================================================="
   ]
  },
  {
   "cell_type": "code",
   "execution_count": 17,
   "id": "3be52a1c-ecfa-4adc-a996-507962e65ab3",
   "metadata": {},
   "outputs": [
    {
     "name": "stdout",
     "output_type": "stream",
     "text": [
      "[2, 4, 6, 8, 10]\n"
     ]
    }
   ],
   "source": [
    "#24. Multiply all elements in a list by 2.\n",
    "\n",
    "my_list = [1, 2, 3, 4, 5]\n",
    "\n",
    "my_list = [x * 2 for x in my_list]\n",
    "\n",
    "print(my_list)"
   ]
  },
  {
   "cell_type": "code",
   "execution_count": 18,
   "id": "86ebed7c-0c3f-4fd6-940c-f6b646aae1ef",
   "metadata": {},
   "outputs": [],
   "source": [
    "#TOPIC: List Based Practice Problem\n",
    "#QUESTION 25:==============================================================================================="
   ]
  },
  {
   "cell_type": "code",
   "execution_count": 20,
   "id": "0b45121f-6ba7-4b69-aab8-d076fecb2f89",
   "metadata": {},
   "outputs": [
    {
     "name": "stdout",
     "output_type": "stream",
     "text": [
      "[2, 4, 6, 8]\n"
     ]
    }
   ],
   "source": [
    "#25. Filter out all even numbers from a list.\n",
    "\n",
    "my_list = [1, 2, 3, 4, 5, 6, 7, 8, 9]\n",
    "\n",
    "filtered_list = [x for x in my_list if x % 2 == 0]\n",
    "\n",
    "print(filtered_list)"
   ]
  },
  {
   "cell_type": "code",
   "execution_count": 22,
   "id": "a4730bd3-092e-457a-b04f-9d548b5c03f0",
   "metadata": {},
   "outputs": [
    {
     "name": "stdout",
     "output_type": "stream",
     "text": [
      "[2, 4, 6, 8]\n"
     ]
    }
   ],
   "source": [
    "#25. Filter out all even numbers from a list.\n",
    "\n",
    "my_list = [1, 2, 3, 4, 5, 6, 7, 8, 9]\n",
    "\n",
    "filtered_list = []\n",
    "\n",
    "for x in my_list:\n",
    "    if x % 2 == 0:\n",
    "        filtered_list.append(x)\n",
    "\n",
    "print(filtered_list)"
   ]
  },
  {
   "cell_type": "code",
   "execution_count": 23,
   "id": "8e685bcc-d1a9-48e3-b77c-d058fe39a411",
   "metadata": {},
   "outputs": [],
   "source": [
    "#TOPIC: List Based Practice Problem\n",
    "#QUESTION 26:==============================================================================================="
   ]
  },
  {
   "cell_type": "code",
   "execution_count": 25,
   "id": "d3668c82-6f39-4340-97d9-c75c61edddfe",
   "metadata": {},
   "outputs": [
    {
     "name": "stdout",
     "output_type": "stream",
     "text": [
      "[1, 2, 3, 4, 5]\n"
     ]
    }
   ],
   "source": [
    "#26. Convert a list of strings to a list of integers.\n",
    "\n",
    "str_list = [\"1\", \"2\", \"3\", \"4\", \"5\"]\n",
    "\n",
    "int_list = []\n",
    "\n",
    "for s in str_list:\n",
    "    int_list.append(int(s))\n",
    "\n",
    "print(int_list)"
   ]
  },
  {
   "cell_type": "code",
   "execution_count": 26,
   "id": "1eccfdb0-222d-4f5e-87ad-1c24254e20a2",
   "metadata": {},
   "outputs": [],
   "source": [
    "#TOPIC: List Based Practice Problem\n",
    "#QUESTION 27:==============================================================================================="
   ]
  },
  {
   "cell_type": "code",
   "execution_count": 4,
   "id": "3e89cd8d-bf67-4120-bb34-2d7c02694642",
   "metadata": {},
   "outputs": [
    {
     "name": "stdout",
     "output_type": "stream",
     "text": [
      "['1', '2', '3', '4', '5']\n"
     ]
    }
   ],
   "source": [
    "#27. Convert a list of integers to a list of strings.\n",
    "\n",
    "int_list = [1, 2, 3, 4, 5]\n",
    "str_list = [str(i) for i in int_list]\n",
    "print(str_list)"
   ]
  },
  {
   "cell_type": "code",
   "execution_count": 5,
   "id": "89bd4990-2a91-4c44-af8c-f1e3ff95f952",
   "metadata": {},
   "outputs": [],
   "source": [
    "#TOPIC: List Based Practice Problem\n",
    "#QUESTION 28:==============================================================================================="
   ]
  },
  {
   "cell_type": "code",
   "execution_count": 10,
   "id": "7a0d1ef2-f0be-4e99-8fdc-3c657407bc16",
   "metadata": {},
   "outputs": [
    {
     "name": "stdout",
     "output_type": "stream",
     "text": [
      "[1, 2, 3, 4, 5, 6, 7]\n"
     ]
    }
   ],
   "source": [
    "#28. Flatten a nested list.\n",
    "\n",
    "def flatten_list(nested_list):\n",
    "    flattened = []\n",
    "    for item in nested_list:\n",
    "        if isinstance(item, list):\n",
    "            flattened.extend(flatten_list(item))\n",
    "        else:\n",
    "            flattened.append(item)\n",
    "    return flattened\n",
    "\n",
    "nested_list = [1, [2, 3], [4, [5, 6, [7]]]]\n",
    "flattened_list = flatten_list(nested_list)\n",
    "print(flattened_list)"
   ]
  },
  {
   "cell_type": "code",
   "execution_count": 11,
   "id": "1a6e8e96-a949-41ff-b961-7bf509cfc5a4",
   "metadata": {},
   "outputs": [],
   "source": [
    "#TOPIC: List Based Practice Problem\n",
    "#QUESTION 29:==============================================================================================="
   ]
  },
  {
   "cell_type": "code",
   "execution_count": 12,
   "id": "331d7731-4244-4a74-89cd-c7efa615df4f",
   "metadata": {},
   "outputs": [
    {
     "name": "stdout",
     "output_type": "stream",
     "text": [
      "[0, 1, 1, 2, 3, 5, 8, 13, 21, 34]\n"
     ]
    }
   ],
   "source": [
    "#29. Create a list of the first 10 Fibonacci numbers.\n",
    "\n",
    "# Initialize the first two Fibonacci numbers\n",
    "fibonacci_numbers = [0, 1]\n",
    "\n",
    "# Generate the next 8 Fibonacci numbers\n",
    "for _ in range(8):\n",
    "    next_number = fibonacci_numbers[-1] + fibonacci_numbers[-2]\n",
    "    fibonacci_numbers.append(next_number)\n",
    "\n",
    "# fibonacci_numbers now contains the first 10 Fibonacci numbers\n",
    "print(fibonacci_numbers)"
   ]
  },
  {
   "cell_type": "code",
   "execution_count": 13,
   "id": "37bebe32-6a8c-4a49-8ea3-12b097c0de16",
   "metadata": {},
   "outputs": [],
   "source": [
    "#TOPIC: List Based Practice Problem\n",
    "#QUESTION 30:==============================================================================================="
   ]
  },
  {
   "cell_type": "code",
   "execution_count": 15,
   "id": "42b45d8f-abed-457e-afac-8ccd2a091138",
   "metadata": {},
   "outputs": [
    {
     "name": "stdout",
     "output_type": "stream",
     "text": [
      "True\n",
      "True\n"
     ]
    }
   ],
   "source": [
    "#30. Check if a list is sorted.\n",
    "#Checking for ascending order:\n",
    "\n",
    "def is_sorted_ascending(arr):\n",
    "    return arr == sorted(arr)\n",
    "\n",
    "# Example usage:\n",
    "my_list = [1, 2, 3, 4, 5]\n",
    "print(is_sorted_ascending(my_list))  # This will return True\n",
    "\n",
    "#Checking for descending order:\n",
    "\n",
    "def is_sorted_descending(arr):\n",
    "    return arr == sorted(arr, reverse=True)\n",
    "\n",
    "# Example usage:\n",
    "my_list = [5, 4, 3, 2, 1]\n",
    "print(is_sorted_descending(my_list))  # This will return True"
   ]
  },
  {
   "cell_type": "code",
   "execution_count": 16,
   "id": "53f5f090-25ea-43e7-b164-9bcff1de066b",
   "metadata": {},
   "outputs": [],
   "source": [
    "#TOPIC: List Based Practice Problem\n",
    "#QUESTION 31:==============================================================================================="
   ]
  },
  {
   "cell_type": "code",
   "execution_count": 17,
   "id": "bdc0af8b-1878-4f5b-aacc-cae1d46d58e2",
   "metadata": {},
   "outputs": [
    {
     "name": "stdout",
     "output_type": "stream",
     "text": [
      "[3, 4, 5, 1, 2]\n"
     ]
    }
   ],
   "source": [
    "#31. Rotate a list to the left by `n` positions.\n",
    "\n",
    "def rotate_left(arr, n):\n",
    "    if len(arr) == 0:\n",
    "        return arr  # If the list is empty, no rotation is needed.\n",
    "\n",
    "    n = n % len(arr)  # Ensure n is within the range of list length.\n",
    "    return arr[n:] + arr[:n]\n",
    "\n",
    "# Example usage:\n",
    "my_list = [1, 2, 3, 4, 5]\n",
    "n = 2  # Rotate the list to the left by 2 positions\n",
    "rotated_list = rotate_left(my_list, n)\n",
    "print(rotated_list)  # This will output [3, 4, 5, 1, 2]\n",
    "\n",
    "'''In this code, n is the number of positions to rotate the list to the left. \n",
    "The n % len(arr) operation ensures that n is within the range of the list length,\n",
    "preventing it from rotating more than needed. The slicing operation is used to split \n",
    "the list into two parts and then concatenate them in the rotated order.'''"
   ]
  },
  {
   "cell_type": "code",
   "execution_count": 18,
   "id": "35033325-1f1e-4afd-a39c-3b19707a7a4c",
   "metadata": {},
   "outputs": [],
   "source": [
    "#TOPIC: List Based Practice Problem\n",
    "#QUESTION 32:==============================================================================================="
   ]
  },
  {
   "cell_type": "code",
   "execution_count": 19,
   "id": "2d36a14b-faf6-40d4-9489-035937087c32",
   "metadata": {},
   "outputs": [
    {
     "name": "stdout",
     "output_type": "stream",
     "text": [
      "[4, 5, 1, 2, 3]\n"
     ]
    }
   ],
   "source": [
    "#32. Rotate a list to the right by `n` positions.\n",
    "\n",
    "def rotate_right(arr, n):\n",
    "    if len(arr) == 0:\n",
    "        return arr  # If the list is empty, no rotation is needed.\n",
    "\n",
    "    n = n % len(arr)  # Ensure n is within the range of list length.\n",
    "    return arr[-n:] + arr[:-n]\n",
    "\n",
    "# Example usage:\n",
    "my_list = [1, 2, 3, 4, 5]\n",
    "n = 2  # Rotate the list to the right by 2 positions\n",
    "rotated_list = rotate_right(my_list, n)\n",
    "print(rotated_list)  # This will output [4, 5, 1, 2, 3]"
   ]
  },
  {
   "cell_type": "code",
   "execution_count": 20,
   "id": "97156153-9fd3-4f40-8281-0c0cfdc98f3f",
   "metadata": {},
   "outputs": [],
   "source": [
    "#TOPIC: List Based Practice Problem\n",
    "#QUESTION 33:==============================================================================================="
   ]
  },
  {
   "cell_type": "code",
   "execution_count": 21,
   "id": "f6e82af5-2b6c-404f-a866-3f13e9d1b2bb",
   "metadata": {},
   "outputs": [
    {
     "name": "stdout",
     "output_type": "stream",
     "text": [
      "[2, 3, 5, 7, 11, 13, 17, 19, 23, 29, 31, 37, 41, 43, 47]\n"
     ]
    }
   ],
   "source": [
    "#33. Create a list of prime numbers up to 50.\n",
    "\n",
    "def is_prime(n):\n",
    "    if n <= 1:\n",
    "        return False\n",
    "    if n <= 3:\n",
    "        return True\n",
    "    if n % 2 == 0 or n % 3 == 0:\n",
    "        return False\n",
    "    i = 5\n",
    "    while i * i <= n:\n",
    "        if n % i == 0 or n % (i + 2) == 0:\n",
    "            return False\n",
    "        i += 6\n",
    "    return True\n",
    "\n",
    "# Create a list of prime numbers up to 50\n",
    "prime_numbers = [2, 3]  # Include the first two prime numbers\n",
    "\n",
    "for num in range(5, 51, 2):  # Check odd numbers from 5 to 50\n",
    "    if is_prime(num):\n",
    "        prime_numbers.append(num)\n",
    "\n",
    "print(prime_numbers)"
   ]
  },
  {
   "cell_type": "code",
   "execution_count": 23,
   "id": "a5199839-8a7c-4bad-8ec9-a6debdf7a265",
   "metadata": {},
   "outputs": [],
   "source": [
    "#TOPIC: List Based Practice Problem\n",
    "#QUESTION 34:==============================================================================================="
   ]
  },
  {
   "cell_type": "code",
   "execution_count": 24,
   "id": "e7bfb39f-8b69-4e06-9437-9c29d2811b17",
   "metadata": {},
   "outputs": [
    {
     "name": "stdout",
     "output_type": "stream",
     "text": [
      "[[1, 2, 3], [4, 5, 6], [7, 8, 9]]\n"
     ]
    }
   ],
   "source": [
    "#34. Split a list into chunks of size `n`.\n",
    "\n",
    "def chunk_list(input_list, chunk_size):\n",
    "    for i in range(0, len(input_list), chunk_size):\n",
    "        yield input_list[i:i + chunk_size]\n",
    "\n",
    "# Example usage:\n",
    "my_list = [1, 2, 3, 4, 5, 6, 7, 8, 9]\n",
    "chunk_size = 3\n",
    "chunked_list = list(chunk_list(my_list, chunk_size))\n",
    "print(chunked_list)"
   ]
  },
  {
   "cell_type": "code",
   "execution_count": 25,
   "id": "1a9546df-e259-437f-b278-0e4dcd3af2c0",
   "metadata": {},
   "outputs": [],
   "source": [
    "#TOPIC: List Based Practice Problem\n",
    "#QUESTION 35:==============================================================================================="
   ]
  },
  {
   "cell_type": "code",
   "execution_count": 26,
   "id": "16b81b05-0047-42db-a749-39a437a9ff57",
   "metadata": {},
   "outputs": [
    {
     "name": "stdout",
     "output_type": "stream",
     "text": [
      "6\n"
     ]
    }
   ],
   "source": [
    "#35. Find the second largest number in a list.\n",
    "\n",
    "def find_second_largest(arr):\n",
    "    if len(arr) < 2:\n",
    "        return None  # There is no second largest element in a list with fewer than 2 elements.\n",
    "    \n",
    "    # Sort the list in descending order and return the element at index 1.\n",
    "    sorted_arr = sorted(arr, reverse=True)\n",
    "    return sorted_arr[1]\n",
    "\n",
    "# Example usage:\n",
    "my_list = [5, 2, 9, 1, 6, 4]\n",
    "second_largest = find_second_largest(my_list)\n",
    "print(second_largest)  # This will output 6"
   ]
  },
  {
   "cell_type": "code",
   "execution_count": 27,
   "id": "a3cda019-1ddb-4f88-96f8-7c803043c25e",
   "metadata": {},
   "outputs": [],
   "source": [
    "#TOPIC: List Based Practice Problem\n",
    "#QUESTION 36:==============================================================================================="
   ]
  },
  {
   "cell_type": "code",
   "execution_count": 28,
   "id": "d4a05cea-3a25-48b0-88dc-0e3f5bb2a342",
   "metadata": {},
   "outputs": [
    {
     "name": "stdout",
     "output_type": "stream",
     "text": [
      "[1, 4, 9, 16, 25]\n"
     ]
    }
   ],
   "source": [
    "#36. Replace every element in a list with its square.\n",
    "\n",
    "original_list = [1, 2, 3, 4, 5]\n",
    "\n",
    "squared_list = [x ** 2 for x in original_list]\n",
    "\n",
    "print(squared_list)"
   ]
  },
  {
   "cell_type": "code",
   "execution_count": 29,
   "id": "dbeaa185-493c-4891-8735-5bfd0d1729cb",
   "metadata": {},
   "outputs": [],
   "source": [
    "#TOPIC: List Based Practice Problem\n",
    "#QUESTION 37:==============================================================================================="
   ]
  },
  {
   "cell_type": "code",
   "execution_count": 30,
   "id": "2ff31e57-dd79-429b-9871-5359e39ed6dd",
   "metadata": {},
   "outputs": [
    {
     "name": "stdout",
     "output_type": "stream",
     "text": [
      "{'apple': 0, 'banana': 1, 'cherry': 2, 'date': 3}\n"
     ]
    }
   ],
   "source": [
    "#37. Convert a list to a dictionary where list elements become keys and their indices become values.\n",
    "\n",
    "my_list = ['apple', 'banana', 'cherry', 'date']\n",
    "\n",
    "my_dict = {element: index for index, element in enumerate(my_list)}\n",
    "\n",
    "print(my_dict)"
   ]
  },
  {
   "cell_type": "code",
   "execution_count": 31,
   "id": "16a0fbf1-bb07-4e62-8d31-9a40c5e912b9",
   "metadata": {},
   "outputs": [],
   "source": [
    "#TOPIC: List Based Practice Problem\n",
    "#QUESTION 38:==============================================================================================="
   ]
  },
  {
   "cell_type": "code",
   "execution_count": 32,
   "id": "d1995874-1393-48d0-9d90-f423bd994de6",
   "metadata": {},
   "outputs": [
    {
     "name": "stdout",
     "output_type": "stream",
     "text": [
      "[1, 4, 5, 2, 3]\n"
     ]
    }
   ],
   "source": [
    "#38. Shuffle the elements of a list randomly.\n",
    "\n",
    "import random\n",
    "\n",
    "my_list = [1, 2, 3, 4, 5]\n",
    "\n",
    "random.shuffle(my_list)\n",
    "\n",
    "print(my_list)"
   ]
  },
  {
   "cell_type": "code",
   "execution_count": 33,
   "id": "2ea01ea1-266d-42ba-b391-40cc3494060e",
   "metadata": {},
   "outputs": [],
   "source": [
    "#TOPIC: List Based Practice Problem\n",
    "#QUESTION 39:==============================================================================================="
   ]
  },
  {
   "cell_type": "code",
   "execution_count": 34,
   "id": "c8702195-3035-42e9-a635-b1f4fc7c9971",
   "metadata": {},
   "outputs": [
    {
     "name": "stdout",
     "output_type": "stream",
     "text": [
      "[1, 1, 2, 6, 24, 120, 720, 5040, 40320, 362880]\n"
     ]
    }
   ],
   "source": [
    "#39. Create a list of the first 10 factorial numbers.\n",
    "\n",
    "def factorial(n):\n",
    "    if n == 0:\n",
    "        return 1\n",
    "    else:\n",
    "        return n * factorial(n - 1)\n",
    "\n",
    "factorial_numbers = [factorial(n) for n in range(10)]\n",
    "\n",
    "print(factorial_numbers)"
   ]
  },
  {
   "cell_type": "code",
   "execution_count": 35,
   "id": "0ad8ecbd-bcf0-4221-a8a0-860c89a5b96a",
   "metadata": {},
   "outputs": [],
   "source": [
    "#TOPIC: List Based Practice Problem\n",
    "#QUESTION 40:==============================================================================================="
   ]
  },
  {
   "cell_type": "code",
   "execution_count": 36,
   "id": "82eecbf4-9a89-4b85-976f-573ae78b8e9b",
   "metadata": {},
   "outputs": [
    {
     "name": "stdout",
     "output_type": "stream",
     "text": [
      "True\n"
     ]
    }
   ],
   "source": [
    "#40. Check if two lists have at least one element in common.\n",
    "\n",
    "def have_common_element(list1, list2):\n",
    "    set1 = set(list1)\n",
    "    set2 = set(list2)\n",
    "    return len(set1.intersection(set2)) > 0\n",
    "\n",
    "# Example usage:\n",
    "list1 = [1, 2, 3, 4, 5]\n",
    "list2 = [5, 6, 7, 8, 9]\n",
    "result = have_common_element(list1, list2)\n",
    "print(result)  # This will return True because 5 is in both lists"
   ]
  },
  {
   "cell_type": "code",
   "execution_count": 37,
   "id": "69e303ae-04c7-474b-aeb6-2c12b6605a42",
   "metadata": {},
   "outputs": [],
   "source": [
    "#TOPIC: List Based Practice Problem\n",
    "#QUESTION 41:==============================================================================================="
   ]
  },
  {
   "cell_type": "code",
   "execution_count": 38,
   "id": "4d8700e7-8027-42b5-98a9-272ef87c5002",
   "metadata": {},
   "outputs": [
    {
     "name": "stdout",
     "output_type": "stream",
     "text": [
      "[]\n"
     ]
    }
   ],
   "source": [
    "#41. Remove all elements from a list.\n",
    "\n",
    "my_list = [1, 2, 3, 4, 5]\n",
    "my_list.clear()\n",
    "print(my_list)"
   ]
  },
  {
   "cell_type": "code",
   "execution_count": 39,
   "id": "a80a0d20-aa79-4b7f-aef4-24f0c8da4643",
   "metadata": {},
   "outputs": [],
   "source": [
    "#TOPIC: List Based Practice Problem\n",
    "#QUESTION 42:==============================================================================================="
   ]
  },
  {
   "cell_type": "code",
   "execution_count": 40,
   "id": "1e585dc7-9d4b-4083-a529-fc497d1cb846",
   "metadata": {},
   "outputs": [
    {
     "name": "stdout",
     "output_type": "stream",
     "text": [
      "[1, 0, 3, 0, 5]\n"
     ]
    }
   ],
   "source": [
    "#42. Replace negative numbers in a list with 0.\n",
    "\n",
    "original_list = [1, -2, 3, -4, 5]\n",
    "\n",
    "modified_list = [x if x >= 0 else 0 for x in original_list]\n",
    "\n",
    "print(modified_list)"
   ]
  },
  {
   "cell_type": "code",
   "execution_count": 41,
   "id": "243a1030-7d2e-49ea-b7e2-8bc9d6f180f9",
   "metadata": {},
   "outputs": [],
   "source": [
    "#TOPIC: List Based Practice Problem\n",
    "#QUESTION 43:==============================================================================================="
   ]
  },
  {
   "cell_type": "code",
   "execution_count": 42,
   "id": "8a411195-266e-4730-9b37-19e270035389",
   "metadata": {},
   "outputs": [
    {
     "name": "stdout",
     "output_type": "stream",
     "text": [
      "['This', 'is', 'a', 'sample', 'string.']\n"
     ]
    }
   ],
   "source": [
    "#43. Convert a string into a list of words.\n",
    "\n",
    "my_string = \"This is a sample string.\"\n",
    "\n",
    "# Split the string into a list of words\n",
    "word_list = my_string.split()\n",
    "\n",
    "print(word_list)"
   ]
  },
  {
   "cell_type": "code",
   "execution_count": 43,
   "id": "74ec735a-11f0-457a-8b5d-74cd407ad751",
   "metadata": {},
   "outputs": [],
   "source": [
    "#TOPIC: List Based Practice Problem\n",
    "#QUESTION 44:==============================================================================================="
   ]
  },
  {
   "cell_type": "code",
   "execution_count": 44,
   "id": "d002ffd3-705f-4114-b695-ea62b219e160",
   "metadata": {},
   "outputs": [
    {
     "name": "stdout",
     "output_type": "stream",
     "text": [
      "This is a list of words\n"
     ]
    }
   ],
   "source": [
    "#44. Convert a list of words into a string.\n",
    "\n",
    "word_list = ['This', 'is', 'a', 'list', 'of', 'words']\n",
    "\n",
    "# Convert the list of words into a single string, separated by spaces\n",
    "resulting_string = ' '.join(word_list)\n",
    "\n",
    "print(resulting_string)"
   ]
  },
  {
   "cell_type": "code",
   "execution_count": 45,
   "id": "cf2793c8-1081-4870-a5ed-3310d9d23324",
   "metadata": {},
   "outputs": [],
   "source": [
    "#TOPIC: List Based Practice Problem\n",
    "#QUESTION 45:==============================================================================================="
   ]
  },
  {
   "cell_type": "code",
   "execution_count": 46,
   "id": "28245e06-fda5-4c30-8c21-c9f49e5483df",
   "metadata": {},
   "outputs": [
    {
     "name": "stdout",
     "output_type": "stream",
     "text": [
      "[1, 2, 4, 8, 16]\n"
     ]
    }
   ],
   "source": [
    "#45. Create a list of the first `n` powers of 2.\n",
    "\n",
    "n = 5  # Change this to the desired number of powers\n",
    "powers_of_2 = [2**i for i in range(n)]\n",
    "\n",
    "print(powers_of_2)"
   ]
  },
  {
   "cell_type": "code",
   "execution_count": 47,
   "id": "d9078da0-8dfa-4107-837f-1156ca9cf30e",
   "metadata": {},
   "outputs": [],
   "source": [
    "#TOPIC: List Based Practice Problem\n",
    "#QUESTION 46:==============================================================================================="
   ]
  },
  {
   "cell_type": "code",
   "execution_count": 49,
   "id": "c5988573-ce7d-4fbc-b417-1e540736d37f",
   "metadata": {},
   "outputs": [
    {
     "name": "stdout",
     "output_type": "stream",
     "text": [
      "elderberry\n"
     ]
    }
   ],
   "source": [
    "#46. Find the longest string in a list of strings.\n",
    "\n",
    "string_list = [\"apple\", \"banana\", \"cherry\", \"date\", \"elderberry\"]\n",
    "\n",
    "longest_string = max(string_list, key=len)\n",
    "\n",
    "print(longest_string)"
   ]
  },
  {
   "cell_type": "code",
   "execution_count": 50,
   "id": "5d0f7f8f-85f8-41d8-8853-62a78c08d0df",
   "metadata": {},
   "outputs": [],
   "source": [
    "#TOPIC: List Based Practice Problem\n",
    "#QUESTION 47:==============================================================================================="
   ]
  },
  {
   "cell_type": "code",
   "execution_count": 51,
   "id": "fb788c7c-1a09-4452-b50f-0452f813b585",
   "metadata": {},
   "outputs": [
    {
     "name": "stdout",
     "output_type": "stream",
     "text": [
      "date\n"
     ]
    }
   ],
   "source": [
    "#47. Find the shortest string in a list of strings.\n",
    "\n",
    "string_list = [\"apple\", \"banana\", \"cherry\", \"date\", \"elderberry\"]\n",
    "\n",
    "shortest_string = min(string_list, key=len)\n",
    "\n",
    "print(shortest_string)"
   ]
  },
  {
   "cell_type": "code",
   "execution_count": 52,
   "id": "b9c2dce8-2ba5-49c9-be7a-9d1851606d83",
   "metadata": {},
   "outputs": [],
   "source": [
    "#TOPIC: List Based Practice Problem\n",
    "#QUESTION 48:==============================================================================================="
   ]
  },
  {
   "cell_type": "code",
   "execution_count": 53,
   "id": "9bdbb555-474d-4dcd-85f2-e0c7c810fa17",
   "metadata": {},
   "outputs": [
    {
     "name": "stdout",
     "output_type": "stream",
     "text": [
      "[1, 3, 6, 10, 15]\n"
     ]
    }
   ],
   "source": [
    "#48. Create a list of the first `n` triangular numbers.\n",
    "\n",
    "n = 5  # Change this to the desired number of triangular numbers\n",
    "triangular_numbers = []\n",
    "\n",
    "# Calculate the first n triangular numbers\n",
    "for i in range(1, n + 1):\n",
    "    triangular_numbers.append((i * (i + 1)) // 2)\n",
    "\n",
    "print(triangular_numbers)"
   ]
  },
  {
   "cell_type": "code",
   "execution_count": 54,
   "id": "018e411b-5103-4a8c-a902-807b054f71b0",
   "metadata": {},
   "outputs": [],
   "source": [
    "#TOPIC: List Based Practice Problem\n",
    "#QUESTION 49:==============================================================================================="
   ]
  },
  {
   "cell_type": "code",
   "execution_count": 1,
   "id": "02d6b975-59b0-4b98-ac39-0a427abacdf1",
   "metadata": {},
   "outputs": [
    {
     "name": "stdout",
     "output_type": "stream",
     "text": [
      "True\n"
     ]
    }
   ],
   "source": [
    "#49. Check if a list contains another list as a subsequence.\n",
    "\n",
    "def is_subsequence(subseq, seq):\n",
    "    # Initialize pointers for the subsequence and the sequence.\n",
    "    i, j = 0, 0\n",
    "\n",
    "    # Iterate through the sequence.\n",
    "    while i < len(subseq) and j < len(seq):\n",
    "        if subseq[i] == seq[j]:\n",
    "            i += 1\n",
    "        j += 1\n",
    "\n",
    "    # If i has reached the length of the subsequence, it means subseq is a subsequence of seq.\n",
    "    return i == len(subseq)\n",
    "\n",
    "# Example usage:\n",
    "sequence = [1, 2, 3, 4, 5, 6]\n",
    "subsequence = [2, 4, 6]\n",
    "\n",
    "result = is_subsequence(subsequence, sequence)\n",
    "print(result)  # This will return True because subsequence is present in the sequence."
   ]
  },
  {
   "cell_type": "code",
   "execution_count": null,
   "id": "9934cf08-0a2f-4fbb-bb0f-2bfab409f80f",
   "metadata": {},
   "outputs": [],
   "source": [
    "#TOPIC: List Based Practice Problem\n",
    "#QUESTION 50:==============================================================================================="
   ]
  },
  {
   "cell_type": "code",
   "execution_count": 2,
   "id": "be0ac71b-456b-4041-8548-42f2e8d05780",
   "metadata": {},
   "outputs": [
    {
     "name": "stdout",
     "output_type": "stream",
     "text": [
      "[1, 4, 3, 2, 5]\n"
     ]
    }
   ],
   "source": [
    "#50. Swap two elements in a list by their indices.\n",
    "\n",
    "my_list = [1, 2, 3, 4, 5]\n",
    "\n",
    "# Define the indices of the elements you want to swap\n",
    "index1 = 1  # Index of the first element\n",
    "index2 = 3  # Index of the second element\n",
    "\n",
    "# Perform the swap\n",
    "my_list[index1], my_list[index2] = my_list[index2], my_list[index1]\n",
    "\n",
    "print(my_list)"
   ]
  },
  {
   "cell_type": "code",
   "execution_count": 3,
   "id": "a94d524c-b8bd-42a5-b40d-4fdde13ef30e",
   "metadata": {},
   "outputs": [],
   "source": [
    "#TOPIC: Tuple Based Practice Problem\n",
    "#QUESTION 1:==============================================================================================="
   ]
  },
  {
   "cell_type": "code",
   "execution_count": 4,
   "id": "87598d9a-f591-4fe8-bf98-06baa2c9c010",
   "metadata": {},
   "outputs": [
    {
     "name": "stdout",
     "output_type": "stream",
     "text": [
      "(1, 2, 3, 4, 5)\n"
     ]
    }
   ],
   "source": [
    "#1. Create a tuple with integers from 1 to 5.\n",
    "\n",
    "my_tuple = (1, 2, 3, 4, 5)\n",
    "print(my_tuple)"
   ]
  },
  {
   "cell_type": "code",
   "execution_count": 5,
   "id": "0ed79fc4-4b16-42c6-a382-a698fe4f3c9e",
   "metadata": {},
   "outputs": [],
   "source": [
    "#TOPIC: Tuple Based Practice Problem\n",
    "#QUESTION 2:==============================================================================================="
   ]
  },
  {
   "cell_type": "code",
   "execution_count": 6,
   "id": "b25ec379-e3cf-4c12-af6f-48dadfbe0293",
   "metadata": {},
   "outputs": [
    {
     "name": "stdout",
     "output_type": "stream",
     "text": [
      "3\n"
     ]
    }
   ],
   "source": [
    "#2. Access the third element of a tuple.\n",
    "\n",
    "my_tuple = (1, 2, 3, 4, 5)\n",
    "\n",
    "third_element = my_tuple[2]\n",
    "\n",
    "print(third_element)"
   ]
  },
  {
   "cell_type": "code",
   "execution_count": 7,
   "id": "37bba92b-1d66-4d46-9705-a399aa3959d2",
   "metadata": {},
   "outputs": [],
   "source": [
    "#TOPIC: Tuple Based Practice Problem\n",
    "#QUESTION 3:==============================================================================================="
   ]
  },
  {
   "cell_type": "code",
   "execution_count": 8,
   "id": "defa0c9d-fb26-49c6-9300-fee914878d1a",
   "metadata": {},
   "outputs": [
    {
     "name": "stdout",
     "output_type": "stream",
     "text": [
      "5\n"
     ]
    }
   ],
   "source": [
    "#3. Find the length of a tuple without using the `len()` function.\n",
    "\n",
    "my_tuple = (1, 2, 3, 4, 5)\n",
    "\n",
    "length = 0\n",
    "\n",
    "for _ in my_tuple:\n",
    "    length += 1\n",
    "\n",
    "print(length)"
   ]
  },
  {
   "cell_type": "code",
   "execution_count": 9,
   "id": "ad52bd97-e2bd-4e82-9cba-77f7fc326fce",
   "metadata": {},
   "outputs": [],
   "source": [
    "#TOPIC: Tuple Based Practice Problem\n",
    "#QUESTION 4:==============================================================================================="
   ]
  },
  {
   "cell_type": "code",
   "execution_count": 10,
   "id": "b33e0d54-7cef-4ad0-a6ff-a8de8ca95d5b",
   "metadata": {},
   "outputs": [
    {
     "name": "stdout",
     "output_type": "stream",
     "text": [
      "4\n"
     ]
    }
   ],
   "source": [
    "#4. Count the occurrences of an element in a tuple.\n",
    "\n",
    "my_tuple = (1, 2, 2, 3, 2, 4, 5, 2)\n",
    "\n",
    "element_to_count = 2\n",
    "\n",
    "count = 0\n",
    "\n",
    "for item in my_tuple:\n",
    "    if item == element_to_count:\n",
    "        count += 1\n",
    "\n",
    "print(count)"
   ]
  },
  {
   "cell_type": "code",
   "execution_count": 11,
   "id": "bb78259f-d9d9-48db-99c4-c4b80427173d",
   "metadata": {},
   "outputs": [],
   "source": [
    "#TOPIC: Tuple Based Practice Problem\n",
    "#QUESTION 5:==============================================================================================="
   ]
  },
  {
   "cell_type": "code",
   "execution_count": 12,
   "id": "705c5ab4-9d21-47d6-99ed-c1459fb012bf",
   "metadata": {},
   "outputs": [
    {
     "name": "stdout",
     "output_type": "stream",
     "text": [
      "1\n"
     ]
    }
   ],
   "source": [
    "#5. Find the index of the first occurrence of an element in a tuple.\n",
    "\n",
    "my_tuple = (1, 2, 3, 4, 5, 2)\n",
    "\n",
    "element_to_find = 2\n",
    "\n",
    "index = None\n",
    "\n",
    "for i, item in enumerate(my_tuple):\n",
    "    if item == element_to_find:\n",
    "        index = i\n",
    "        break\n",
    "\n",
    "print(index)"
   ]
  },
  {
   "cell_type": "code",
   "execution_count": 13,
   "id": "aa9d85db-4fd5-458c-a5e4-4d6835fa80ab",
   "metadata": {},
   "outputs": [],
   "source": [
    "#TOPIC: Tuple Based Practice Problem\n",
    "#QUESTION 6:==============================================================================================="
   ]
  },
  {
   "cell_type": "code",
   "execution_count": 14,
   "id": "20bc9ab8-a8a1-41b5-8905-992ad4d9801e",
   "metadata": {},
   "outputs": [
    {
     "name": "stdout",
     "output_type": "stream",
     "text": [
      "Element exists in the tuple\n"
     ]
    }
   ],
   "source": [
    "#6. Check if an element exists in a tuple.\n",
    "\n",
    "my_tuple = (1, 2, 3, 4, 5)\n",
    "\n",
    "element_to_check = 3\n",
    "\n",
    "if element_to_check in my_tuple:\n",
    "    print(\"Element exists in the tuple\")\n",
    "else:\n",
    "    print(\"Element does not exist in the tuple\")"
   ]
  },
  {
   "cell_type": "code",
   "execution_count": 15,
   "id": "49424dcf-528a-4a1f-a199-34a5cce74a48",
   "metadata": {},
   "outputs": [],
   "source": [
    "#TOPIC: Tuple Based Practice Problem\n",
    "#QUESTION 7:==============================================================================================="
   ]
  },
  {
   "cell_type": "code",
   "execution_count": 16,
   "id": "419a689e-1959-4bbd-bed1-d7e002075da5",
   "metadata": {},
   "outputs": [
    {
     "name": "stdout",
     "output_type": "stream",
     "text": [
      "[1, 2, 3, 4, 5]\n"
     ]
    }
   ],
   "source": [
    "#7. Convert a tuple to a list.\n",
    "\n",
    "my_tuple = (1, 2, 3, 4, 5)\n",
    "\n",
    "my_list = list(my_tuple)\n",
    "\n",
    "print(my_list)"
   ]
  },
  {
   "cell_type": "code",
   "execution_count": 17,
   "id": "607eb077-2d98-4014-9ee5-a02b67e52b98",
   "metadata": {},
   "outputs": [],
   "source": [
    "#TOPIC: Tuple Based Practice Problem\n",
    "#QUESTION 8:==============================================================================================="
   ]
  },
  {
   "cell_type": "code",
   "execution_count": 18,
   "id": "f220e5be-ceb8-4305-81d7-40d06b500292",
   "metadata": {},
   "outputs": [
    {
     "name": "stdout",
     "output_type": "stream",
     "text": [
      "(1, 2, 3, 4, 5)\n"
     ]
    }
   ],
   "source": [
    "#8. Convert a list to a tuple.\n",
    "\n",
    "my_list = [1, 2, 3, 4, 5]\n",
    "\n",
    "my_tuple = tuple(my_list)\n",
    "\n",
    "print(my_tuple)"
   ]
  },
  {
   "cell_type": "code",
   "execution_count": 19,
   "id": "1d791180-fecd-49d5-b0ab-e2c088287d46",
   "metadata": {},
   "outputs": [],
   "source": [
    "#TOPIC: Tuple Based Practice Problem\n",
    "#QUESTION 9:==============================================================================================="
   ]
  },
  {
   "cell_type": "code",
   "execution_count": 20,
   "id": "3b12b878-c388-4b38-a05e-e7a12c598bd8",
   "metadata": {},
   "outputs": [
    {
     "name": "stdout",
     "output_type": "stream",
     "text": [
      "1\n",
      "2\n",
      "3\n"
     ]
    }
   ],
   "source": [
    "#9. Unpack the elements of a tuple into variables.\n",
    "\n",
    "my_tuple = (1, 2, 3)\n",
    "\n",
    "var1, var2, var3 = my_tuple\n",
    "\n",
    "print(var1)\n",
    "print(var2)\n",
    "print(var3)"
   ]
  },
  {
   "cell_type": "code",
   "execution_count": 21,
   "id": "6890d1b3-d4ba-44c6-8b27-eee692d749ee",
   "metadata": {},
   "outputs": [],
   "source": [
    "#TOPIC: Tuple Based Practice Problem\n",
    "#QUESTION 10:==============================================================================================="
   ]
  },
  {
   "cell_type": "code",
   "execution_count": 22,
   "id": "52bcc664-6e17-4c71-b6a8-94dc82738a73",
   "metadata": {},
   "outputs": [
    {
     "name": "stdout",
     "output_type": "stream",
     "text": [
      "(2, 4, 6, 8, 10)\n"
     ]
    }
   ],
   "source": [
    "#10. Create a tuple of even numbers from 1 to 10.\n",
    "\n",
    "even_numbers_tuple = tuple(x for x in range(2, 11, 2))\n",
    "\n",
    "print(even_numbers_tuple)"
   ]
  },
  {
   "cell_type": "code",
   "execution_count": 23,
   "id": "41d03d57-7c52-4a78-914c-0253555f5f4f",
   "metadata": {},
   "outputs": [],
   "source": [
    "#TOPIC: Tuple Based Practice Problem\n",
    "#QUESTION 11:==============================================================================================="
   ]
  },
  {
   "cell_type": "code",
   "execution_count": 24,
   "id": "93bb0444-a773-4d53-8277-96c3b437f9ec",
   "metadata": {},
   "outputs": [
    {
     "name": "stdout",
     "output_type": "stream",
     "text": [
      "(1, 3, 5, 7, 9)\n"
     ]
    }
   ],
   "source": [
    "#11. Create a tuple of odd numbers from 1 to 10.\n",
    "\n",
    "odd_numbers_tuple = tuple(x for x in range(1, 11, 2))\n",
    "\n",
    "print(odd_numbers_tuple)"
   ]
  },
  {
   "cell_type": "code",
   "execution_count": 25,
   "id": "d899f30c-1986-42e1-bab9-134b305efc01",
   "metadata": {},
   "outputs": [],
   "source": [
    "#TOPIC: Tuple Based Practice Problem\n",
    "#QUESTION 12:==============================================================================================="
   ]
  },
  {
   "cell_type": "code",
   "execution_count": 26,
   "id": "a3676528-c57b-4f0a-81d9-1951e5453d21",
   "metadata": {},
   "outputs": [
    {
     "name": "stdout",
     "output_type": "stream",
     "text": [
      "(1, 2, 3, 4, 5, 6)\n"
     ]
    }
   ],
   "source": [
    "#12. Concatenate two tuples.\n",
    "\n",
    "tuple1 = (1, 2, 3)\n",
    "tuple2 = (4, 5, 6)\n",
    "\n",
    "concatenated_tuple = tuple1 + tuple2\n",
    "\n",
    "print(concatenated_tuple)"
   ]
  },
  {
   "cell_type": "code",
   "execution_count": 27,
   "id": "7dc25de5-b87e-4c35-b8d5-3364cbebd56e",
   "metadata": {},
   "outputs": [],
   "source": [
    "#TOPIC: Tuple Based Practice Problem\n",
    "#QUESTION 13:==============================================================================================="
   ]
  },
  {
   "cell_type": "code",
   "execution_count": 28,
   "id": "80e07303-7b35-4296-8820-09e033d88155",
   "metadata": {},
   "outputs": [
    {
     "name": "stdout",
     "output_type": "stream",
     "text": [
      "(1, 2, 3, 1, 2, 3, 1, 2, 3)\n"
     ]
    }
   ],
   "source": [
    "#13. Repeat a tuple three times.\n",
    "\n",
    "my_tuple = (1, 2, 3)\n",
    "\n",
    "repeated_tuple = my_tuple * 3\n",
    "\n",
    "print(repeated_tuple)"
   ]
  },
  {
   "cell_type": "code",
   "execution_count": 29,
   "id": "67de25ca-0c39-40ff-8c2e-f37a26c59adb",
   "metadata": {},
   "outputs": [],
   "source": [
    "#TOPIC: Tuple Based Practice Problem\n",
    "#QUESTION 14:==============================================================================================="
   ]
  },
  {
   "cell_type": "code",
   "execution_count": 30,
   "id": "75e06810-0f1c-4824-a56d-62e526463b24",
   "metadata": {},
   "outputs": [
    {
     "name": "stdout",
     "output_type": "stream",
     "text": [
      "The tuple is empty\n"
     ]
    }
   ],
   "source": [
    "#14. Check if a tuple is empty.\n",
    "\n",
    "my_tuple = ()\n",
    "\n",
    "if not my_tuple:\n",
    "    print(\"The tuple is empty\")\n",
    "else:\n",
    "    print(\"The tuple is not empty\")"
   ]
  },
  {
   "cell_type": "code",
   "execution_count": 31,
   "id": "48d6dc86-5fdd-4f43-8519-ee8b03d586e1",
   "metadata": {},
   "outputs": [],
   "source": [
    "#TOPIC: Tuple Based Practice Problem\n",
    "#QUESTION 15:==============================================================================================="
   ]
  },
  {
   "cell_type": "code",
   "execution_count": 32,
   "id": "e94d05b9-f304-476d-8c8f-85094162acd5",
   "metadata": {},
   "outputs": [
    {
     "name": "stdout",
     "output_type": "stream",
     "text": [
      "((1, 2), (3, 4, 5), (6,))\n"
     ]
    }
   ],
   "source": [
    "#15. Create a nested tuple.\n",
    "\n",
    "nested_tuple = ((1, 2), (3, 4, 5), (6,))\n",
    "\n",
    "print(nested_tuple)"
   ]
  },
  {
   "cell_type": "code",
   "execution_count": 33,
   "id": "cd1b0052-0379-44d9-ad1b-17ac3480ef86",
   "metadata": {},
   "outputs": [],
   "source": [
    "#TOPIC: Tuple Based Practice Problem\n",
    "#QUESTION 16:==============================================================================================="
   ]
  },
  {
   "cell_type": "code",
   "execution_count": 34,
   "id": "345fc785-bc26-464b-93a6-4c0ab9448214",
   "metadata": {},
   "outputs": [
    {
     "name": "stdout",
     "output_type": "stream",
     "text": [
      "(1, 2)\n"
     ]
    }
   ],
   "source": [
    "#16. Access the first element of a nested tuple.\n",
    "\n",
    "nested_tuple = ((1, 2), (3, 4, 5), (6,))\n",
    "first_element = nested_tuple[0]\n",
    "\n",
    "print(first_element)"
   ]
  },
  {
   "cell_type": "code",
   "execution_count": 35,
   "id": "21051d70-015f-4f37-b939-211840e2b5fa",
   "metadata": {},
   "outputs": [],
   "source": [
    "#TOPIC: Tuple Based Practice Problem\n",
    "#QUESTION 17:==============================================================================================="
   ]
  },
  {
   "cell_type": "code",
   "execution_count": 36,
   "id": "48f7ac14-5758-4a31-8edc-c2e564d7ba47",
   "metadata": {},
   "outputs": [
    {
     "name": "stdout",
     "output_type": "stream",
     "text": [
      "(1,)\n"
     ]
    }
   ],
   "source": [
    "#17. Create a tuple with a single element.\n",
    "\n",
    "single_element_tuple = (1,)\n",
    "print(single_element_tuple)"
   ]
  },
  {
   "cell_type": "code",
   "execution_count": 37,
   "id": "1a62fcb5-14f0-4e0e-9678-a4898d98346c",
   "metadata": {},
   "outputs": [],
   "source": [
    "#TOPIC: Tuple Based Practice Problem\n",
    "#QUESTION 18:==============================================================================================="
   ]
  },
  {
   "cell_type": "code",
   "execution_count": 38,
   "id": "d9dfd50f-760f-4275-b131-baaaaae6da89",
   "metadata": {},
   "outputs": [
    {
     "name": "stdout",
     "output_type": "stream",
     "text": [
      "tuple1 is less than tuple2\n"
     ]
    }
   ],
   "source": [
    "#18. Compare two tuples.\n",
    "\n",
    "tuple1 = (1, 2, 3)\n",
    "tuple2 = (1, 2, 4)\n",
    "\n",
    "if tuple1 == tuple2:\n",
    "    print(\"Tuples are equal\")\n",
    "elif tuple1 < tuple2:\n",
    "    print(\"tuple1 is less than tuple2\")\n",
    "else:\n",
    "    print(\"tuple1 is greater than tuple2\")"
   ]
  },
  {
   "cell_type": "code",
   "execution_count": 39,
   "id": "d7e9d25b-024d-4f44-ba5b-47d3d5093240",
   "metadata": {},
   "outputs": [],
   "source": [
    "#TOPIC: Tuple Based Practice Problem\n",
    "#QUESTION 19:==============================================================================================="
   ]
  },
  {
   "cell_type": "code",
   "execution_count": 41,
   "id": "418ed736-3097-4914-bc5a-8c9a69a1583a",
   "metadata": {},
   "outputs": [],
   "source": [
    "#19. Delete a tuple.\n",
    "\n",
    "my_tuple = (1, 2, 3)\n",
    "\n",
    "# Delete the entire tuple\n",
    "del my_tuple\n",
    "\n",
    "# Attempting to access my_tuple after deletion will result in an error"
   ]
  },
  {
   "cell_type": "code",
   "execution_count": 42,
   "id": "886645cb-b1bf-4b9c-b65c-973632555387",
   "metadata": {},
   "outputs": [],
   "source": [
    "#TOPIC: Tuple Based Practice Problem\n",
    "#QUESTION 20:==============================================================================================="
   ]
  },
  {
   "cell_type": "code",
   "execution_count": 43,
   "id": "def8753b-da12-4205-acb0-f16f5b0a8013",
   "metadata": {},
   "outputs": [
    {
     "name": "stdout",
     "output_type": "stream",
     "text": [
      "(2, 3)\n"
     ]
    }
   ],
   "source": [
    "#20. Slice a tuple.\n",
    "\n",
    "my_tuple = (1, 2, 3, 4, 5)\n",
    "\n",
    "# Slicing from index 1 to 3 (inclusive of 1 and exclusive of 3)\n",
    "sliced_tuple = my_tuple[1:3]\n",
    "\n",
    "print(sliced_tuple)"
   ]
  },
  {
   "cell_type": "code",
   "execution_count": 44,
   "id": "d968fcf9-d466-4b2c-9d52-c3ac14620c28",
   "metadata": {},
   "outputs": [],
   "source": [
    "#TOPIC: Tuple Based Practice Problem\n",
    "#QUESTION 21:==============================================================================================="
   ]
  },
  {
   "cell_type": "code",
   "execution_count": 45,
   "id": "946f2eb0-f291-41e0-b373-2231b8de755b",
   "metadata": {},
   "outputs": [
    {
     "name": "stdout",
     "output_type": "stream",
     "text": [
      "30\n"
     ]
    }
   ],
   "source": [
    "#21. Find the maximum value in a tuple.\n",
    "\n",
    "my_tuple = (10, 20, 5, 30, 15)\n",
    "\n",
    "max_value = max(my_tuple)\n",
    "\n",
    "print(max_value)"
   ]
  },
  {
   "cell_type": "code",
   "execution_count": 46,
   "id": "a3ca1e78-50da-4b7a-a0e9-f32c9cf1e29c",
   "metadata": {},
   "outputs": [],
   "source": [
    "#TOPIC: Tuple Based Practice Problem\n",
    "#QUESTION 22:==============================================================================================="
   ]
  },
  {
   "cell_type": "code",
   "execution_count": 48,
   "id": "f840a5fd-4f2d-4002-9c90-e98957c8016c",
   "metadata": {},
   "outputs": [
    {
     "name": "stdout",
     "output_type": "stream",
     "text": [
      "5\n"
     ]
    }
   ],
   "source": [
    "#22. Find the minimum value in a tuple.\n",
    "\n",
    "my_tuple = (10, 20, 5, 30, 15)\n",
    "\n",
    "min_value = min(my_tuple)\n",
    "\n",
    "print(min_value)"
   ]
  },
  {
   "cell_type": "code",
   "execution_count": 49,
   "id": "b53db334-046e-43ee-ad2e-fc105341718a",
   "metadata": {},
   "outputs": [],
   "source": [
    "#TOPIC: Tuple Based Practice Problem\n",
    "#QUESTION 23:==============================================================================================="
   ]
  },
  {
   "cell_type": "code",
   "execution_count": 50,
   "id": "f580c2d6-b906-46aa-9a93-12a06ea62629",
   "metadata": {},
   "outputs": [
    {
     "name": "stdout",
     "output_type": "stream",
     "text": [
      "('H', 'e', 'l', 'l', 'o', ',', ' ', 'W', 'o', 'r', 'l', 'd', '!')\n"
     ]
    }
   ],
   "source": [
    "#23. Convert a string to a tuple of characters.\n",
    "\n",
    "my_string = \"Hello, World!\"\n",
    "\n",
    "character_tuple = tuple(char for char in my_string)\n",
    "\n",
    "print(character_tuple)"
   ]
  },
  {
   "cell_type": "code",
   "execution_count": 51,
   "id": "9133636b-e1b8-422b-84fe-5763495b5470",
   "metadata": {},
   "outputs": [],
   "source": [
    "#TOPIC: Tuple Based Practice Problem\n",
    "#QUESTION 24:==============================================================================================="
   ]
  },
  {
   "cell_type": "code",
   "execution_count": 52,
   "id": "64aeb49c-e82f-47d0-88bf-ef085d8c8fa5",
   "metadata": {},
   "outputs": [
    {
     "name": "stdout",
     "output_type": "stream",
     "text": [
      "Hello, World!\n"
     ]
    }
   ],
   "source": [
    "#24. Convert a tuple of characters to a string.\n",
    "\n",
    "character_tuple = ('H', 'e', 'l', 'l', 'o', ',', ' ', 'W', 'o', 'r', 'l', 'd', '!')\n",
    "\n",
    "resulting_string = ''.join(character_tuple)\n",
    "\n",
    "print(resulting_string)"
   ]
  },
  {
   "cell_type": "code",
   "execution_count": 53,
   "id": "8af04ad0-7716-48d2-be30-63e3cefd501b",
   "metadata": {},
   "outputs": [],
   "source": [
    "#TOPIC: Tuple Based Practice Problem\n",
    "#QUESTION 25:==============================================================================================="
   ]
  },
  {
   "cell_type": "code",
   "execution_count": 54,
   "id": "fb7900d4-8a1b-4402-94b0-331f83debdbc",
   "metadata": {},
   "outputs": [
    {
     "name": "stdout",
     "output_type": "stream",
     "text": [
      "(1, 'apple', 3.14, True)\n"
     ]
    }
   ],
   "source": [
    "#25. Create a tuple from multiple data types.\n",
    "\n",
    "mixed_tuple = (1, 'apple', 3.14, True)\n",
    "\n",
    "print(mixed_tuple)"
   ]
  },
  {
   "cell_type": "code",
   "execution_count": 55,
   "id": "a5419d50-7b84-4f99-8e96-975469e12562",
   "metadata": {},
   "outputs": [],
   "source": [
    "#TOPIC: Tuple Based Practice Problem\n",
    "#QUESTION 26:==============================================================================================="
   ]
  },
  {
   "cell_type": "code",
   "execution_count": 56,
   "id": "0a5b4f0b-da94-4143-b7d5-b73d593c8c1c",
   "metadata": {},
   "outputs": [
    {
     "name": "stdout",
     "output_type": "stream",
     "text": [
      "Tuples are identical\n"
     ]
    }
   ],
   "source": [
    "#26. Check if two tuples are identical.\n",
    "\n",
    "tuple1 = (1, 2, 3)\n",
    "tuple2 = (1, 2, 3)\n",
    "\n",
    "if tuple1 == tuple2:\n",
    "    print(\"Tuples are identical\")\n",
    "else:\n",
    "    print(\"Tuples are not identical\")"
   ]
  },
  {
   "cell_type": "code",
   "execution_count": 57,
   "id": "510b5d9e-bda1-43f3-8f95-6566492e052b",
   "metadata": {},
   "outputs": [],
   "source": [
    "#TOPIC: Tuple Based Practice Problem\n",
    "#QUESTION 27:==============================================================================================="
   ]
  },
  {
   "cell_type": "code",
   "execution_count": 58,
   "id": "d20f12c2-c273-405c-9de7-3b9416dbefa2",
   "metadata": {},
   "outputs": [
    {
     "name": "stdout",
     "output_type": "stream",
     "text": [
      "(1, 2, 3, 4)\n"
     ]
    }
   ],
   "source": [
    "#27. Sort the elements of a tuple.\n",
    "\n",
    "my_tuple = (3, 1, 2, 4)\n",
    "\n",
    "# Convert the tuple to a list\n",
    "my_list = list(my_tuple)\n",
    "\n",
    "# Sort the list\n",
    "my_list.sort()\n",
    "\n",
    "# Convert the sorted list back to a tuple\n",
    "sorted_tuple = tuple(my_list)\n",
    "\n",
    "print(sorted_tuple)"
   ]
  },
  {
   "cell_type": "code",
   "execution_count": 59,
   "id": "4f19be51-60ae-461c-a9ff-f2e56f3f3b72",
   "metadata": {},
   "outputs": [],
   "source": [
    "#TOPIC: Tuple Based Practice Problem\n",
    "#QUESTION 28:==============================================================================================="
   ]
  },
  {
   "cell_type": "code",
   "execution_count": 60,
   "id": "ce13bfb9-15b7-4f77-bf27-b120fe8c5562",
   "metadata": {},
   "outputs": [
    {
     "name": "stdout",
     "output_type": "stream",
     "text": [
      "('1', '2', '3', '4', '5')\n"
     ]
    }
   ],
   "source": [
    "#28. Convert a tuple of integers to a tuple of strings.\n",
    "\n",
    "tuple_of_integers = (1, 2, 3, 4, 5)\n",
    "\n",
    "tuple_of_strings = tuple(str(x) for x in tuple_of_integers)\n",
    "\n",
    "print(tuple_of_strings)"
   ]
  },
  {
   "cell_type": "code",
   "execution_count": 61,
   "id": "71c9bdbd-0a43-42e0-820f-82a00d524084",
   "metadata": {},
   "outputs": [],
   "source": [
    "#TOPIC: Tuple Based Practice Problem\n",
    "#QUESTION 29:==============================================================================================="
   ]
  },
  {
   "cell_type": "code",
   "execution_count": 62,
   "id": "68ae6f54-d406-4e0b-8a6b-e2d484359b5d",
   "metadata": {},
   "outputs": [
    {
     "name": "stdout",
     "output_type": "stream",
     "text": [
      "(1, 2, 3, 4, 5)\n"
     ]
    }
   ],
   "source": [
    "#29. Convert a tuple of strings to a tuple of integers.\n",
    "\n",
    "tuple_of_strings = ('1', '2', '3', '4', '5')\n",
    "\n",
    "tuple_of_integers = tuple(int(x) for x in tuple_of_strings)\n",
    "\n",
    "print(tuple_of_integers)"
   ]
  },
  {
   "cell_type": "code",
   "execution_count": 63,
   "id": "d6b74cae-7295-4571-89e9-e64ccdca5508",
   "metadata": {},
   "outputs": [],
   "source": [
    "#TOPIC: Tuple Based Practice Problem\n",
    "#QUESTION 30:==============================================================================================="
   ]
  },
  {
   "cell_type": "code",
   "execution_count": 66,
   "id": "0949df25-cd40-43db-a5ee-cc32ccb49d9d",
   "metadata": {},
   "outputs": [
    {
     "name": "stdout",
     "output_type": "stream",
     "text": [
      "(1, 2, 3, 4, 5, 6)\n"
     ]
    }
   ],
   "source": [
    "#30. Merge two tuples.\n",
    "\n",
    "tuple1 = (1, 2, 3)\n",
    "tuple2 = (4, 5, 6)\n",
    "\n",
    "merged_tuple = tuple1 + tuple2\n",
    "\n",
    "print(merged_tuple)"
   ]
  },
  {
   "cell_type": "code",
   "execution_count": 65,
   "id": "0db7f18b-bb4f-4a77-9b98-137b1d2d29a9",
   "metadata": {},
   "outputs": [],
   "source": [
    "#TOPIC: Tuple Based Practice Problem\n",
    "#QUESTION 31:==============================================================================================="
   ]
  },
  {
   "cell_type": "code",
   "execution_count": 67,
   "id": "58c1e2fa-9240-4616-a7bd-3b1e21b8aeef",
   "metadata": {},
   "outputs": [
    {
     "name": "stdout",
     "output_type": "stream",
     "text": [
      "(1, 2, 3, 4, 5, 6, 7)\n"
     ]
    }
   ],
   "source": [
    "#31. Flatten a nested tuple.\n",
    "\n",
    "def flatten_tuple(nested_tuple):\n",
    "    flattened = []\n",
    "    for item in nested_tuple:\n",
    "        if isinstance(item, tuple):\n",
    "            flattened.extend(flatten_tuple(item))\n",
    "        else:\n",
    "            flattened.append(item)\n",
    "    return tuple(flattened)\n",
    "\n",
    "nested_tuple = (1, (2, 3), (4, (5, 6), 7))\n",
    "\n",
    "flattened_tuple = flatten_tuple(nested_tuple)\n",
    "\n",
    "print(flattened_tuple)"
   ]
  },
  {
   "cell_type": "code",
   "execution_count": 68,
   "id": "b8f40c2b-0d0c-4b7a-8850-81ad1c9d7a75",
   "metadata": {},
   "outputs": [],
   "source": [
    "#TOPIC: Tuple Based Practice Problem\n",
    "#QUESTION 32:==============================================================================================="
   ]
  },
  {
   "cell_type": "code",
   "execution_count": 69,
   "id": "7d068eda-815b-4a14-8973-8565111ca2b9",
   "metadata": {},
   "outputs": [
    {
     "name": "stdout",
     "output_type": "stream",
     "text": [
      "(2, 3, 5, 7, 11)\n"
     ]
    }
   ],
   "source": [
    "#32. Create a tuple of the first 5 prime numbers.\n",
    "\n",
    "def is_prime(number):\n",
    "    if number <= 1:\n",
    "        return False\n",
    "    if number <= 3:\n",
    "        return True\n",
    "    if number % 2 == 0 or number % 3 == 0:\n",
    "        return False\n",
    "    i = 5\n",
    "    while i * i <= number:\n",
    "        if number % i == 0 or number % (i + 2) == 0:\n",
    "            return False\n",
    "        i += 6\n",
    "    return True\n",
    "\n",
    "prime_numbers = []\n",
    "n = 2  # Start with the first prime number\n",
    "\n",
    "while len(prime_numbers) < 5:\n",
    "    if is_prime(n):\n",
    "        prime_numbers.append(n)\n",
    "    n += 1\n",
    "\n",
    "prime_tuple = tuple(prime_numbers)\n",
    "\n",
    "print(prime_tuple)"
   ]
  },
  {
   "cell_type": "code",
   "execution_count": 70,
   "id": "cb2491d3-cea2-48cf-8bd2-dd0fabed381a",
   "metadata": {},
   "outputs": [],
   "source": [
    "#TOPIC: Tuple Based Practice Problem\n",
    "#QUESTION 33:==============================================================================================="
   ]
  },
  {
   "cell_type": "code",
   "execution_count": 71,
   "id": "1c26d1df-84ce-443e-9dc8-9f95dcb2aff3",
   "metadata": {},
   "outputs": [
    {
     "name": "stdout",
     "output_type": "stream",
     "text": [
      "True\n",
      "False\n"
     ]
    }
   ],
   "source": [
    "#33. Check if a tuple is a palindrome.\n",
    "\n",
    "def is_palindrome_tuple(my_tuple):\n",
    "    return my_tuple == my_tuple[::-1]\n",
    "\n",
    "# Example palindromic tuple\n",
    "palindromic_tuple = (1, 2, 3, 3, 2, 1)\n",
    "\n",
    "# Example non-palindromic tuple\n",
    "non_palindromic_tuple = (1, 2, 3, 4, 5)\n",
    "\n",
    "# Check if they are palindromes\n",
    "print(is_palindrome_tuple(palindromic_tuple))  # True\n",
    "print(is_palindrome_tuple(non_palindromic_tuple))  # False"
   ]
  },
  {
   "cell_type": "code",
   "execution_count": 72,
   "id": "a2475167-1685-4184-a401-7f6179004eb5",
   "metadata": {},
   "outputs": [],
   "source": [
    "#TOPIC: Tuple Based Practice Problem\n",
    "#QUESTION 34:==============================================================================================="
   ]
  },
  {
   "cell_type": "code",
   "execution_count": 73,
   "id": "41a51f88-e8e3-4347-9f16-0f9f82e1f4bb",
   "metadata": {},
   "outputs": [
    {
     "name": "stdout",
     "output_type": "stream",
     "text": [
      "(1, 4, 9, 16, 25)\n"
     ]
    }
   ],
   "source": [
    "#34. Create a tuple of squares of numbers from 1 to 5.\n",
    "\n",
    "squares_tuple = tuple(x ** 2 for x in range(1, 6))\n",
    "\n",
    "print(squares_tuple)"
   ]
  },
  {
   "cell_type": "code",
   "execution_count": 74,
   "id": "60435de6-9d37-4e69-8da9-404afa86ef85",
   "metadata": {},
   "outputs": [],
   "source": [
    "#TOPIC: Tuple Based Practice Problem\n",
    "#QUESTION 35:==============================================================================================="
   ]
  },
  {
   "cell_type": "code",
   "execution_count": 75,
   "id": "4b8c47a8-03f8-41a0-bf2e-03d7ad3b9006",
   "metadata": {},
   "outputs": [
    {
     "name": "stdout",
     "output_type": "stream",
     "text": [
      "(1, 3, 5, 7, 9)\n"
     ]
    }
   ],
   "source": [
    "#35. Filter out all even numbers from a tuple.\n",
    "\n",
    "original_tuple = (1, 2, 3, 4, 5, 6, 7, 8, 9, 10)\n",
    "\n",
    "filtered_tuple = tuple(x for x in original_tuple if x % 2 != 0)\n",
    "\n",
    "print(filtered_tuple)"
   ]
  },
  {
   "cell_type": "code",
   "execution_count": 76,
   "id": "92be004f-411b-4517-b304-db26a11abb28",
   "metadata": {},
   "outputs": [],
   "source": [
    "#TOPIC: Tuple Based Practice Problem\n",
    "#QUESTION 36:==============================================================================================="
   ]
  },
  {
   "cell_type": "code",
   "execution_count": 77,
   "id": "e057bb06-d07f-42d0-9841-ee6b49c4b7f1",
   "metadata": {},
   "outputs": [
    {
     "name": "stdout",
     "output_type": "stream",
     "text": [
      "(2, 4, 6, 8, 10)\n"
     ]
    }
   ],
   "source": [
    "#36. Multiply all elements in a tuple by 2.\n",
    "\n",
    "original_tuple = (1, 2, 3, 4, 5)\n",
    "\n",
    "doubled_tuple = tuple(x * 2 for x in original_tuple)\n",
    "\n",
    "print(doubled_tuple)"
   ]
  },
  {
   "cell_type": "code",
   "execution_count": 78,
   "id": "8825573e-2fb5-4edd-a27d-461b82954d6c",
   "metadata": {},
   "outputs": [],
   "source": [
    "#TOPIC: Tuple Based Practice Problem\n",
    "#QUESTION 37:==============================================================================================="
   ]
  },
  {
   "cell_type": "code",
   "execution_count": 79,
   "id": "9b4eb2c1-77ce-48a3-b1b3-3e43fc02182d",
   "metadata": {},
   "outputs": [
    {
     "name": "stdout",
     "output_type": "stream",
     "text": [
      "(64, 96, 25, 98, 91)\n"
     ]
    }
   ],
   "source": [
    "#37. Create a tuple of random numbers.\n",
    "\n",
    "import random\n",
    "\n",
    "# Create a tuple of 5 random integers between 1 and 100\n",
    "random_tuple = tuple(random.randint(1, 100) for _ in range(5))\n",
    "\n",
    "print(random_tuple)"
   ]
  },
  {
   "cell_type": "code",
   "execution_count": 80,
   "id": "c8a41dae-7f8f-43c4-95d9-a3faa4c696fa",
   "metadata": {},
   "outputs": [],
   "source": [
    "#TOPIC: Tuple Based Practice Problem\n",
    "#QUESTION 38:==============================================================================================="
   ]
  },
  {
   "cell_type": "code",
   "execution_count": 81,
   "id": "5bff7acb-c954-43b0-b8ef-a9f3d6ca391a",
   "metadata": {},
   "outputs": [
    {
     "name": "stdout",
     "output_type": "stream",
     "text": [
      "True\n",
      "False\n"
     ]
    }
   ],
   "source": [
    "#38. Check if a tuple is sorted.\n",
    "\n",
    "def is_sorted_tuple(my_tuple):\n",
    "    for i in range(len(my_tuple) - 1):\n",
    "        if my_tuple[i] > my_tuple[i + 1]:\n",
    "            return False\n",
    "    return True\n",
    "\n",
    "# Example sorted tuple\n",
    "sorted_tuple = (1, 2, 3, 4, 5)\n",
    "\n",
    "# Example unsorted tuple\n",
    "unsorted_tuple = (3, 1, 2, 4, 5)\n",
    "\n",
    "# Check if they are sorted\n",
    "print(is_sorted_tuple(sorted_tuple))  # True\n",
    "print(is_sorted_tuple(unsorted_tuple))  # False"
   ]
  },
  {
   "cell_type": "code",
   "execution_count": 82,
   "id": "b76c70ce-b9f3-46fc-8d30-0b6737ebae97",
   "metadata": {},
   "outputs": [],
   "source": [
    "#TOPIC: Tuple Based Practice Problem\n",
    "#QUESTION 39:==============================================================================================="
   ]
  },
  {
   "cell_type": "code",
   "execution_count": 83,
   "id": "a2660d2b-f409-444a-a635-72145bba84b7",
   "metadata": {},
   "outputs": [
    {
     "name": "stdout",
     "output_type": "stream",
     "text": [
      "(3, 4, 5, 1, 2)\n"
     ]
    }
   ],
   "source": [
    "#39. Rotate a tuple to the left by `n` positions.\n",
    "\n",
    "def rotate_left_tuple(my_tuple, n):\n",
    "    if n < 0:\n",
    "        n = len(my_tuple) + n  # Adjust for negative rotation value\n",
    "    return my_tuple[n % len(my_tuple):] + my_tuple[:n % len(my_tuple)]\n",
    "\n",
    "original_tuple = (1, 2, 3, 4, 5)\n",
    "\n",
    "rotated_tuple = rotate_left_tuple(original_tuple, 2)\n",
    "\n",
    "print(rotated_tuple)"
   ]
  },
  {
   "cell_type": "code",
   "execution_count": 84,
   "id": "534669a3-a47a-4299-9af4-a6f3e35ad92e",
   "metadata": {},
   "outputs": [],
   "source": [
    "#TOPIC: Tuple Based Practice Problem\n",
    "#QUESTION 40:==============================================================================================="
   ]
  },
  {
   "cell_type": "code",
   "execution_count": 85,
   "id": "1ffc6d96-78d2-4dea-9591-5fd7c2102ec4",
   "metadata": {},
   "outputs": [
    {
     "name": "stdout",
     "output_type": "stream",
     "text": [
      "(4, 5, 1, 2, 3)\n"
     ]
    }
   ],
   "source": [
    "#40. Rotate a tuple to the right by `n` positions.\n",
    "\n",
    "def rotate_right_tuple(my_tuple, n):\n",
    "    if n < 0:\n",
    "        n = len(my_tuple) + n  # Adjust for negative rotation value\n",
    "    return my_tuple[-n % len(my_tuple):] + my_tuple[:-n % len(my_tuple)]\n",
    "\n",
    "original_tuple = (1, 2, 3, 4, 5)\n",
    "\n",
    "rotated_tuple = rotate_right_tuple(original_tuple, 2)\n",
    "\n",
    "print(rotated_tuple)"
   ]
  },
  {
   "cell_type": "code",
   "execution_count": 86,
   "id": "048b3624-afa5-42b6-b786-5b321d9db5ec",
   "metadata": {},
   "outputs": [],
   "source": [
    "#TOPIC: Tuple Based Practice Problem\n",
    "#QUESTION 41:==============================================================================================="
   ]
  },
  {
   "cell_type": "code",
   "execution_count": 87,
   "id": "58ceb834-942d-43fe-a887-5a1acb02992c",
   "metadata": {},
   "outputs": [
    {
     "name": "stdout",
     "output_type": "stream",
     "text": [
      "(0, 1, 1, 2, 3)\n"
     ]
    }
   ],
   "source": [
    "#41. Create a tuple of the first 5 Fibonacci numbers.\n",
    "\n",
    "def generate_fibonacci(n):\n",
    "    fibonacci_tuple = ()\n",
    "    a, b = 0, 1\n",
    "    for _ in range(n):\n",
    "        fibonacci_tuple += (a,)\n",
    "        a, b = b, a + b\n",
    "    return fibonacci_tuple\n",
    "\n",
    "fibonacci_tuple = generate_fibonacci(5)\n",
    "\n",
    "print(fibonacci_tuple)"
   ]
  },
  {
   "cell_type": "code",
   "execution_count": 88,
   "id": "a74ea617-0ce0-495e-bd9c-2e1c01e52edf",
   "metadata": {},
   "outputs": [],
   "source": [
    "#TOPIC: Tuple Based Practice Problem\n",
    "#QUESTION 42:==============================================================================================="
   ]
  },
  {
   "cell_type": "code",
   "execution_count": 90,
   "id": "f0f37976-acf3-497d-856a-253c3aea2c12",
   "metadata": {},
   "outputs": [
    {
     "name": "stdin",
     "output_type": "stream",
     "text": [
      "Enter the number of elements you want to add to the tuple:  25\n",
      "Enter element 1:  26\n",
      "Enter element 2:  36\n",
      "Enter element 3:  25\n",
      "Enter element 4:  45\n",
      "Enter element 5:  56\n",
      "Enter element 6:  12\n",
      "Enter element 7:  15\n",
      "Enter element 8:  23\n",
      "Enter element 9:  45\n",
      "Enter element 10:  56\n",
      "Enter element 11:  878\n",
      "Enter element 12:  88\n",
      "Enter element 13:  89\n",
      "Enter element 14:  78\n",
      "Enter element 15:  45\n",
      "Enter element 16:  65\n",
      "Enter element 17:  15\n",
      "Enter element 18:  26\n",
      "Enter element 19:  59\n",
      "Enter element 20:  48\n",
      "Enter element 21:  59\n",
      "Enter element 22:  15\n",
      "Enter element 23:  26\n",
      "Enter element 24:  35\n",
      "Enter element 25:  57\n"
     ]
    },
    {
     "name": "stdout",
     "output_type": "stream",
     "text": [
      "User input as tuple: ('26', '36', '25', '45', '56', '12', '15', '23', '45', '56', '878', '88', '89', '78', '45', '65', '15', '26', '59', '48', '59', '15', '26', '35', '57')\n"
     ]
    }
   ],
   "source": [
    "#42. Create a tuple from user input.\n",
    "\n",
    "# Initialize an empty list to store user inputs\n",
    "user_inputs = []\n",
    "\n",
    "# Get user input\n",
    "n = int(input(\"Enter the number of elements you want to add to the tuple: \"))\n",
    "\n",
    "for i in range(n):\n",
    "    element = input(f\"Enter element {i + 1}: \")\n",
    "    user_inputs.append(element)\n",
    "\n",
    "# Convert the list to a tuple\n",
    "user_tuple = tuple(user_inputs)\n",
    "\n",
    "print(\"User input as tuple:\", user_tuple)"
   ]
  },
  {
   "cell_type": "code",
   "execution_count": 91,
   "id": "d11a76a9-a19a-4bf8-8e69-df7850abe2e1",
   "metadata": {},
   "outputs": [],
   "source": [
    "#TOPIC: Tuple Based Practice Problem\n",
    "#QUESTION 43:==============================================================================================="
   ]
  },
  {
   "cell_type": "code",
   "execution_count": 92,
   "id": "ff76f689-8cde-4791-b969-52f00a57b8f5",
   "metadata": {},
   "outputs": [
    {
     "name": "stdout",
     "output_type": "stream",
     "text": [
      "(1, 4, 3, 2, 5)\n"
     ]
    }
   ],
   "source": [
    "#43. Swap two elements in a tuple.\n",
    "\n",
    "def swap_elements(my_tuple, index1, index2):\n",
    "    # Convert the tuple to a list\n",
    "    tuple_list = list(my_tuple)\n",
    "    \n",
    "    # Swap the elements in the list\n",
    "    tuple_list[index1], tuple_list[index2] = tuple_list[index2], tuple_list[index1]\n",
    "    \n",
    "    # Convert the list back to a tuple\n",
    "    swapped_tuple = tuple(tuple_list)\n",
    "    \n",
    "    return swapped_tuple\n",
    "\n",
    "original_tuple = (1, 2, 3, 4, 5)\n",
    "\n",
    "# Swap the elements at index 1 and 3 (0-based index)\n",
    "swapped_tuple = swap_elements(original_tuple, 1, 3)\n",
    "\n",
    "print(swapped_tuple)"
   ]
  },
  {
   "cell_type": "code",
   "execution_count": 93,
   "id": "975c0755-c80d-4164-8fec-c2d75e180773",
   "metadata": {},
   "outputs": [],
   "source": [
    "#TOPIC: Tuple Based Practice Problem\n",
    "#QUESTION 44:==============================================================================================="
   ]
  },
  {
   "cell_type": "code",
   "execution_count": 94,
   "id": "ac8ffadc-d48c-4188-a3db-dddf9f682ae9",
   "metadata": {},
   "outputs": [
    {
     "name": "stdout",
     "output_type": "stream",
     "text": [
      "(5, 4, 3, 2, 1)\n"
     ]
    }
   ],
   "source": [
    "#44. Reverse the elements of a tuple.\n",
    "\n",
    "def reverse_tuple(my_tuple):\n",
    "    reversed_tuple = my_tuple[::-1]\n",
    "    return reversed_tuple\n",
    "\n",
    "original_tuple = (1, 2, 3, 4, 5)\n",
    "\n",
    "reversed_tuple = reverse_tuple(original_tuple)\n",
    "\n",
    "print(reversed_tuple)"
   ]
  },
  {
   "cell_type": "code",
   "execution_count": 95,
   "id": "61dc3d9f-276b-47bf-906b-f19e31c509dc",
   "metadata": {},
   "outputs": [],
   "source": [
    "#TOPIC: Tuple Based Practice Problem\n",
    "#QUESTION 45:==============================================================================================="
   ]
  },
  {
   "cell_type": "code",
   "execution_count": 96,
   "id": "1fc3a380-ff6d-4d15-a955-9919eb0588ab",
   "metadata": {},
   "outputs": [
    {
     "name": "stdout",
     "output_type": "stream",
     "text": [
      "(1, 2, 4, 8, 16)\n"
     ]
    }
   ],
   "source": [
    "#45. Create a tuple of the first `n` powers of 2.\n",
    "\n",
    "def powers_of_2(n):\n",
    "    powers_list = [2**i for i in range(n)]\n",
    "    powers_tuple = tuple(powers_list)\n",
    "    return powers_tuple\n",
    "\n",
    "n = 5  # Change this to the number of powers you want\n",
    "powers_tuple = powers_of_2(n)\n",
    "\n",
    "print(powers_tuple)"
   ]
  },
  {
   "cell_type": "code",
   "execution_count": 97,
   "id": "d9d995f1-f813-4886-863a-8951ea9512fc",
   "metadata": {},
   "outputs": [],
   "source": [
    "#TOPIC: Tuple Based Practice Problem\n",
    "#QUESTION 46:==============================================================================================="
   ]
  },
  {
   "cell_type": "code",
   "execution_count": 98,
   "id": "2b9d4eaf-50ef-4450-aec7-a7803e0b03e0",
   "metadata": {},
   "outputs": [
    {
     "name": "stdout",
     "output_type": "stream",
     "text": [
      "Longest string: banana\n"
     ]
    }
   ],
   "source": [
    "#46. Find the longest string in a tuple of strings.\n",
    "\n",
    "def longest_string_in_tuple(strings_tuple):\n",
    "    longest = max(strings_tuple, key=len)\n",
    "    return longest\n",
    "\n",
    "strings_tuple = (\"apple\", \"banana\", \"cherry\", \"date\", \"fig\")\n",
    "\n",
    "longest_string = longest_string_in_tuple(strings_tuple)\n",
    "\n",
    "print(\"Longest string:\", longest_string)"
   ]
  },
  {
   "cell_type": "code",
   "execution_count": 99,
   "id": "88b6364b-70a0-43e2-8662-90655ba64456",
   "metadata": {},
   "outputs": [],
   "source": [
    "#TOPIC: Tuple Based Practice Problem\n",
    "#QUESTION 47:==============================================================================================="
   ]
  },
  {
   "cell_type": "code",
   "execution_count": 100,
   "id": "ef0f32d7-b907-4b83-96a9-434b4a9421a2",
   "metadata": {},
   "outputs": [
    {
     "name": "stdout",
     "output_type": "stream",
     "text": [
      "Shortest string: fig\n"
     ]
    }
   ],
   "source": [
    "#47. Find the shortest string in a tuple of strings.\n",
    "\n",
    "def shortest_string_in_tuple(strings_tuple):\n",
    "    shortest = min(strings_tuple, key=len)\n",
    "    return shortest\n",
    "\n",
    "strings_tuple = (\"apple\", \"banana\", \"cherry\", \"date\", \"fig\")\n",
    "\n",
    "shortest_string = shortest_string_in_tuple(strings_tuple)\n",
    "\n",
    "print(\"Shortest string:\", shortest_string)"
   ]
  },
  {
   "cell_type": "code",
   "execution_count": 101,
   "id": "2858736b-15d5-4215-b286-2f9c07d5a808",
   "metadata": {},
   "outputs": [],
   "source": [
    "#TOPIC: Tuple Based Practice Problem\n",
    "#QUESTION 48:==============================================================================================="
   ]
  },
  {
   "cell_type": "code",
   "execution_count": 102,
   "id": "154ca658-2cfa-4266-bc12-a0f4e1c13927",
   "metadata": {},
   "outputs": [
    {
     "name": "stdout",
     "output_type": "stream",
     "text": [
      "(1, 3, 6, 10, 15)\n"
     ]
    }
   ],
   "source": [
    "#48. Create a tuple of the first `n` triangular numbers.\n",
    "\n",
    "def triangular_numbers(n):\n",
    "    return tuple((i * (i + 1)) // 2 for i in range(1, n + 1))\n",
    "\n",
    "n = 5  # Change this to the number of triangular numbers you want\n",
    "triangular_tuple = triangular_numbers(n)\n",
    "\n",
    "print(triangular_tuple)"
   ]
  },
  {
   "cell_type": "code",
   "execution_count": 103,
   "id": "73fc3a22-276e-4140-b989-90516bc6c831",
   "metadata": {},
   "outputs": [],
   "source": [
    "#TOPIC: Tuple Based Practice Problem\n",
    "#QUESTION 49:==============================================================================================="
   ]
  },
  {
   "cell_type": "code",
   "execution_count": 104,
   "id": "6254ef87-ae96-41b3-85aa-7950b1182c0a",
   "metadata": {},
   "outputs": [
    {
     "name": "stdout",
     "output_type": "stream",
     "text": [
      "The sub_tuple is a subsequence of the main_tuple.\n"
     ]
    }
   ],
   "source": [
    "#49. Check if a tuple contains another tuple as a subsequence.\n",
    "\n",
    "def is_subsequence(subsequence, sequence):\n",
    "    sub_len = len(subsequence)\n",
    "    seq_len = len(sequence)\n",
    "\n",
    "    for i in range(seq_len - sub_len + 1):\n",
    "        if sequence[i:i + sub_len] == subsequence:\n",
    "            return True\n",
    "\n",
    "    return False\n",
    "\n",
    "main_tuple = (1, 2, 3, 4, 5, 6, 7, 8, 9)\n",
    "sub_tuple = (3, 4, 5)\n",
    "\n",
    "if is_subsequence(sub_tuple, main_tuple):\n",
    "    print(\"The sub_tuple is a subsequence of the main_tuple.\")\n",
    "else:\n",
    "    print(\"The sub_tuple is not a subsequence of the main_tuple.\")"
   ]
  },
  {
   "cell_type": "code",
   "execution_count": 105,
   "id": "7b29bbc3-e76a-46f5-85df-a3caea05c255",
   "metadata": {},
   "outputs": [],
   "source": [
    "#TOPIC: Tuple Based Practice Problem\n",
    "#QUESTION 50:==============================================================================================="
   ]
  },
  {
   "cell_type": "code",
   "execution_count": 108,
   "id": "bf8ad45b-6a99-4efb-b107-af6b1962da16",
   "metadata": {},
   "outputs": [
    {
     "name": "stdout",
     "output_type": "stream",
     "text": [
      "(0, 1, 0, 1, 0, 1, 0, 1, 0, 1)\n"
     ]
    }
   ],
   "source": [
    "#50. Create a tuple of alternating 1s and 0s of length `n`.\n",
    "\n",
    "'''In this code, the alternating_ones_and_zeros function generates \n",
    "a tuple of alternating 1s and 0s of length n. It uses a list comprehension \n",
    "with the modulo operator (%) to create a sequence of 1s and 0s, \n",
    "and then converts the list to a tuple.'''\n",
    "\n",
    "def alternating_ones_and_zeros(n):\n",
    "    if n <= 0:\n",
    "        return ()  # Return an empty tuple for n <= 0\n",
    "    return tuple(i % 2 for i in range(n))\n",
    "\n",
    "n = 10  # Change this to the desired length of the tuple\n",
    "alternating_tuple = alternating_ones_and_zeros(n)\n",
    "\n",
    "print(alternating_tuple)"
   ]
  },
  {
   "cell_type": "code",
   "execution_count": 109,
   "id": "ef64a12b-6c84-4752-a214-4ddb62d34c02",
   "metadata": {},
   "outputs": [],
   "source": [
    "#TOPIC: Set Based Practice Problem\n",
    "#QUESTION 1:==============================================================================================="
   ]
  },
  {
   "cell_type": "code",
   "execution_count": 110,
   "id": "0a85e85b-1393-4a8c-bf44-c6f467ef62e3",
   "metadata": {},
   "outputs": [
    {
     "name": "stdout",
     "output_type": "stream",
     "text": [
      "{1, 2, 3, 4, 5}\n"
     ]
    }
   ],
   "source": [
    "#1. Create a set with integers from 1 to 5.\n",
    "\n",
    "my_set = {1, 2, 3, 4, 5}\n",
    "print(my_set)"
   ]
  },
  {
   "cell_type": "code",
   "execution_count": 111,
   "id": "bfc0dd33-ad50-4290-8334-14dbd4f7ca0c",
   "metadata": {},
   "outputs": [
    {
     "name": "stdout",
     "output_type": "stream",
     "text": [
      "{1, 2, 3, 4, 5, 6}\n"
     ]
    }
   ],
   "source": [
    "#2. Add an element to a set.\n",
    "\n",
    "my_set = {1, 2, 3, 4, 5}\n",
    "my_set.add(6)\n",
    "print(my_set)"
   ]
  },
  {
   "cell_type": "code",
   "execution_count": 112,
   "id": "7ca84b50-cbb5-42bb-8185-294e6f09b394",
   "metadata": {},
   "outputs": [
    {
     "name": "stdout",
     "output_type": "stream",
     "text": [
      "{1, 2, 4, 5}\n"
     ]
    }
   ],
   "source": [
    "#3. Remove an element from a set.\n",
    "\n",
    "my_set = {1, 2, 3, 4, 5}\n",
    "my_set.remove(3)\n",
    "print(my_set)"
   ]
  },
  {
   "cell_type": "code",
   "execution_count": 113,
   "id": "972280ab-b114-4ce3-8b22-7adca69b5b82",
   "metadata": {},
   "outputs": [
    {
     "name": "stdout",
     "output_type": "stream",
     "text": [
      "3 exists in the set.\n"
     ]
    }
   ],
   "source": [
    "#4. Check if an element exists in a set.\n",
    "\n",
    "my_set = {1, 2, 3, 4, 5}\n",
    "element = 3\n",
    "\n",
    "if element in my_set:\n",
    "    print(f\"{element} exists in the set.\")\n",
    "else:\n",
    "    print(f\"{element} does not exist in the set.\")"
   ]
  },
  {
   "cell_type": "code",
   "execution_count": 114,
   "id": "ac8a729f-b5f9-47aa-a52b-7b3876b70830",
   "metadata": {},
   "outputs": [
    {
     "name": "stdout",
     "output_type": "stream",
     "text": [
      "Length of the set: 5\n"
     ]
    }
   ],
   "source": [
    "#5. Find the length of a set without using the `len()` function.\n",
    "\n",
    "my_set = {1, 2, 3, 4, 5}\n",
    "\n",
    "count = 0\n",
    "for _ in my_set:\n",
    "    count += 1\n",
    "\n",
    "print(\"Length of the set:\", count)"
   ]
  },
  {
   "cell_type": "code",
   "execution_count": 115,
   "id": "a5339890-8bf0-41fd-887a-335eb3e56bb2",
   "metadata": {},
   "outputs": [
    {
     "name": "stdout",
     "output_type": "stream",
     "text": [
      "Cleared set: set()\n"
     ]
    }
   ],
   "source": [
    "#6. Clear all elements from a set.\n",
    "\n",
    "my_set = {1, 2, 3, 4, 5}\n",
    "my_set.clear()\n",
    "\n",
    "print(\"Cleared set:\", my_set)"
   ]
  },
  {
   "cell_type": "code",
   "execution_count": 116,
   "id": "d1910c9b-8947-4cb5-a157-fb8d442395c2",
   "metadata": {},
   "outputs": [
    {
     "name": "stdout",
     "output_type": "stream",
     "text": [
      "{2, 4, 6, 8, 10}\n"
     ]
    }
   ],
   "source": [
    "#7. Create a set of even numbers from 1 to 10.\n",
    "\n",
    "even_numbers_set = {x for x in range(1, 11) if x % 2 == 0}\n",
    "\n",
    "print(even_numbers_set)"
   ]
  },
  {
   "cell_type": "code",
   "execution_count": 117,
   "id": "0376efb1-2507-408f-805a-c3de461b37d0",
   "metadata": {},
   "outputs": [
    {
     "name": "stdout",
     "output_type": "stream",
     "text": [
      "{1, 3, 5, 7, 9}\n"
     ]
    }
   ],
   "source": [
    "#8. Create a set of odd numbers from 1 to 10.\n",
    "\n",
    "odd_numbers_set = {x for x in range(1, 11) if x % 2 != 0}\n",
    "\n",
    "print(odd_numbers_set)"
   ]
  },
  {
   "cell_type": "code",
   "execution_count": 118,
   "id": "fab72f07-7864-4525-8552-0986a30f5d23",
   "metadata": {},
   "outputs": [
    {
     "name": "stdout",
     "output_type": "stream",
     "text": [
      "Union of sets: {1, 2, 3, 4, 5, 6, 7}\n"
     ]
    }
   ],
   "source": [
    "#9. Find the union of two sets.\n",
    "\n",
    "set1 = {1, 2, 3, 4, 5}\n",
    "set2 = {3, 4, 5, 6, 7}\n",
    "\n",
    "union_set = set1.union(set2)\n",
    "\n",
    "print(\"Union of sets:\", union_set)"
   ]
  },
  {
   "cell_type": "code",
   "execution_count": 119,
   "id": "c7c46adc-1e4c-4cec-9f43-ab0527db18ad",
   "metadata": {},
   "outputs": [
    {
     "name": "stdout",
     "output_type": "stream",
     "text": [
      "Intersection of sets: {3, 4, 5}\n"
     ]
    }
   ],
   "source": [
    "#10. Find the intersection of two sets.\n",
    "\n",
    "set1 = {1, 2, 3, 4, 5}\n",
    "set2 = {3, 4, 5, 6, 7}\n",
    "\n",
    "intersection_set = set1.intersection(set2)\n",
    "\n",
    "print(\"Intersection of sets:\", intersection_set)"
   ]
  },
  {
   "cell_type": "code",
   "execution_count": 120,
   "id": "bf45e2f1-2c5c-4b5c-93b1-f28a128a0eff",
   "metadata": {},
   "outputs": [
    {
     "name": "stdout",
     "output_type": "stream",
     "text": [
      "Difference between sets: {1, 2}\n"
     ]
    }
   ],
   "source": [
    "#11. Find the difference between two sets.\n",
    "\n",
    "set1 = {1, 2, 3, 4, 5}\n",
    "set2 = {3, 4, 5, 6, 7}\n",
    "\n",
    "difference_set = set1.difference(set2)\n",
    "\n",
    "print(\"Difference between sets:\", difference_set)"
   ]
  },
  {
   "cell_type": "code",
   "execution_count": 121,
   "id": "b91a5f52-5e46-47a0-a34c-78d0b060d709",
   "metadata": {},
   "outputs": [
    {
     "name": "stdout",
     "output_type": "stream",
     "text": [
      "set2 is a subset of set1.\n"
     ]
    }
   ],
   "source": [
    "#12. Check if a set is a subset of another set.\n",
    "\n",
    "set1 = {1, 2, 3, 4, 5}\n",
    "set2 = {2, 3, 4}\n",
    "\n",
    "if set2.issubset(set1):\n",
    "    print(\"set2 is a subset of set1.\")\n",
    "else:\n",
    "    print(\"set2 is not a subset of set1.\")"
   ]
  },
  {
   "cell_type": "code",
   "execution_count": 122,
   "id": "4706c559-9d62-496a-ad66-8afe0b44e838",
   "metadata": {},
   "outputs": [
    {
     "name": "stdout",
     "output_type": "stream",
     "text": [
      "set2 is a subset of set1.\n"
     ]
    }
   ],
   "source": [
    "#12. Check if a set is a subset of another set.\n",
    "\n",
    "set1 = {1, 2, 3, 4, 5}\n",
    "set2 = {2, 3, 4}\n",
    "\n",
    "if set2 <= set1:\n",
    "    print(\"set2 is a subset of set1.\")\n",
    "else:\n",
    "    print(\"set2 is not a subset of set1.\")"
   ]
  },
  {
   "cell_type": "code",
   "execution_count": 123,
   "id": "bcac6a52-f28f-4140-a310-4b6f6bba44d6",
   "metadata": {},
   "outputs": [
    {
     "name": "stdout",
     "output_type": "stream",
     "text": [
      "set1 is a superset of set2.\n"
     ]
    }
   ],
   "source": [
    "#13. Check if a set is a superset of another set.\n",
    "\n",
    "set1 = {1, 2, 3, 4, 5}\n",
    "set2 = {2, 3, 4}\n",
    "\n",
    "if set1 >= set2:\n",
    "    print(\"set1 is a superset of set2.\")\n",
    "else:\n",
    "    print(\"set1 is not a superset of set2.\")"
   ]
  },
  {
   "cell_type": "code",
   "execution_count": 124,
   "id": "25083ffd-9dd5-432e-94ef-96fd866514fa",
   "metadata": {},
   "outputs": [
    {
     "name": "stdout",
     "output_type": "stream",
     "text": [
      "{1, 2, 3, 4, 5}\n"
     ]
    }
   ],
   "source": [
    "#14. Create a set from a list.\n",
    "\n",
    "my_list = [1, 2, 3, 4, 5]\n",
    "my_set = set(my_list)\n",
    "\n",
    "print(my_set)"
   ]
  },
  {
   "cell_type": "code",
   "execution_count": 125,
   "id": "dd8d0fbf-aa52-496d-bbf4-0d1a3a6f1cbe",
   "metadata": {},
   "outputs": [
    {
     "name": "stdout",
     "output_type": "stream",
     "text": [
      "[1, 2, 3, 4, 5]\n"
     ]
    }
   ],
   "source": [
    "#15. Convert a set to a list.\n",
    "\n",
    "my_set = {1, 2, 3, 4, 5}\n",
    "my_list = list(my_set)\n",
    "\n",
    "print(my_list)"
   ]
  },
  {
   "cell_type": "code",
   "execution_count": 126,
   "id": "6ec1de00-6ecb-4e87-a4b8-09c48abb8cac",
   "metadata": {},
   "outputs": [
    {
     "name": "stdout",
     "output_type": "stream",
     "text": [
      "Removed element: 1\n",
      "Updated set: {2, 3, 4, 5}\n"
     ]
    }
   ],
   "source": [
    "#16. Remove a random element from a set.\n",
    "\n",
    "my_set = {1, 2, 3, 4, 5}\n",
    "\n",
    "# Remove a random element\n",
    "removed_element = my_set.pop()\n",
    "\n",
    "print(\"Removed element:\", removed_element)\n",
    "print(\"Updated set:\", my_set)"
   ]
  },
  {
   "cell_type": "code",
   "execution_count": 127,
   "id": "dfac1160-3a91-4ab7-b0cc-2588d5508aef",
   "metadata": {},
   "outputs": [
    {
     "name": "stdout",
     "output_type": "stream",
     "text": [
      "Popped element: 1\n",
      "Updated set: {2, 3, 4, 5}\n"
     ]
    }
   ],
   "source": [
    "#17. Pop an element from a set.\n",
    "\n",
    "my_set = {1, 2, 3, 4, 5}\n",
    "\n",
    "# Pop an element\n",
    "popped_element = my_set.pop()\n",
    "\n",
    "print(\"Popped element:\", popped_element)\n",
    "print(\"Updated set:\", my_set)"
   ]
  },
  {
   "cell_type": "code",
   "execution_count": 128,
   "id": "63a1a7e8-b37f-4abd-90ab-9c5463c3b9d2",
   "metadata": {},
   "outputs": [
    {
     "name": "stdout",
     "output_type": "stream",
     "text": [
      "The sets have no elements in common.\n"
     ]
    }
   ],
   "source": [
    "#18. Check if two sets have no elements in common.\n",
    "\n",
    "set1 = {1, 2, 3}\n",
    "set2 = {4, 5, 6}\n",
    "\n",
    "if set1.isdisjoint(set2):\n",
    "    print(\"The sets have no elements in common.\")\n",
    "else:\n",
    "    print(\"The sets have some elements in common.\")"
   ]
  },
  {
   "cell_type": "code",
   "execution_count": 129,
   "id": "49b2255a-33e5-4780-baef-c02b098251f4",
   "metadata": {},
   "outputs": [
    {
     "name": "stdout",
     "output_type": "stream",
     "text": [
      "Symmetric Difference of sets: {1, 2, 6, 7}\n"
     ]
    }
   ],
   "source": [
    "#19. Find the symmetric difference between two sets.\n",
    "\n",
    "set1 = {1, 2, 3, 4, 5}\n",
    "set2 = {3, 4, 5, 6, 7}\n",
    "\n",
    "symmetric_difference_set = set1.symmetric_difference(set2)\n",
    "\n",
    "print(\"Symmetric Difference of sets:\", symmetric_difference_set)"
   ]
  },
  {
   "cell_type": "code",
   "execution_count": 130,
   "id": "42c5a6ba-3fde-432a-9b04-43b3a5f7470d",
   "metadata": {},
   "outputs": [
    {
     "name": "stdout",
     "output_type": "stream",
     "text": [
      "Updated set1: {1, 2, 3, 4, 5}\n"
     ]
    }
   ],
   "source": [
    "#20. Update a set with elements from another set.\n",
    "\n",
    "set1 = {1, 2, 3}\n",
    "set2 = {3, 4, 5}\n",
    "\n",
    "set1.update(set2)\n",
    "\n",
    "print(\"Updated set1:\", set1)"
   ]
  },
  {
   "cell_type": "code",
   "execution_count": 131,
   "id": "35ecf900-2676-4c37-8bc7-34c71088a5b3",
   "metadata": {},
   "outputs": [
    {
     "name": "stdout",
     "output_type": "stream",
     "text": [
      "{2, 3, 5, 7, 11}\n"
     ]
    }
   ],
   "source": [
    "#21. Create a set of the first 5 prime numbers.\n",
    "\n",
    "def is_prime(n):\n",
    "    if n <= 1:\n",
    "        return False\n",
    "    if n <= 3:\n",
    "        return True\n",
    "    if n % 2 == 0 or n % 3 == 0:\n",
    "        return False\n",
    "    i = 5\n",
    "    while i * i <= n:\n",
    "        if n % i == 0 or n % (i + 2) == 0:\n",
    "            return False\n",
    "        i += 6\n",
    "    return True\n",
    "\n",
    "primes_set = set()\n",
    "n = 2  # Start with the first prime number\n",
    "count = 0\n",
    "\n",
    "while count < 5:  # Collect the first 5 prime numbers\n",
    "    if is_prime(n):\n",
    "        primes_set.add(n)\n",
    "        count += 1\n",
    "    n += 1\n",
    "\n",
    "print(primes_set)"
   ]
  },
  {
   "cell_type": "code",
   "execution_count": 132,
   "id": "fb6d25d0-6740-4f39-bc50-730f52981bfd",
   "metadata": {},
   "outputs": [
    {
     "name": "stdout",
     "output_type": "stream",
     "text": [
      "The sets are identical.\n"
     ]
    }
   ],
   "source": [
    "#22. Check if two sets are identical.\n",
    "\n",
    "set1 = {1, 2, 3, 4, 5}\n",
    "set2 = {5, 4, 3, 2, 1}\n",
    "\n",
    "if set1 == set2:\n",
    "    print(\"The sets are identical.\")\n",
    "else:\n",
    "    print(\"The sets are not identical.\")"
   ]
  },
  {
   "cell_type": "code",
   "execution_count": 133,
   "id": "16d80f68-03e4-44b0-b347-e68c2c986e8a",
   "metadata": {},
   "outputs": [
    {
     "name": "stdout",
     "output_type": "stream",
     "text": [
      "frozenset({1, 2, 3, 4, 5})\n"
     ]
    }
   ],
   "source": [
    "#23. Create a frozen set.\n",
    "\n",
    "my_set = {1, 2, 3, 4, 5}\n",
    "frozen_set = frozenset(my_set)\n",
    "\n",
    "print(frozen_set)"
   ]
  },
  {
   "cell_type": "code",
   "execution_count": 134,
   "id": "cbf25d1a-1440-466c-8411-13efa635d439",
   "metadata": {},
   "outputs": [
    {
     "name": "stdout",
     "output_type": "stream",
     "text": [
      "The sets are disjoint (have no common elements).\n"
     ]
    }
   ],
   "source": [
    "#24. Check if a set is disjoint with another set.\n",
    "\n",
    "set1 = {1, 2, 3}\n",
    "set2 = {4, 5, 6}\n",
    "\n",
    "if set1.isdisjoint(set2):\n",
    "    print(\"The sets are disjoint (have no common elements).\")\n",
    "else:\n",
    "    print(\"The sets are not disjoint (have common elements).\")"
   ]
  },
  {
   "cell_type": "code",
   "execution_count": 135,
   "id": "925b6d4a-c3c5-42c5-a4a8-f51cc32e233d",
   "metadata": {},
   "outputs": [
    {
     "name": "stdout",
     "output_type": "stream",
     "text": [
      "{1, 4, 9, 16, 25}\n"
     ]
    }
   ],
   "source": [
    "#25. Create a set of squares of numbers from 1 to 5.\n",
    "\n",
    "squares_set = {x ** 2 for x in range(1, 6)}\n",
    "\n",
    "print(squares_set)"
   ]
  },
  {
   "cell_type": "code",
   "execution_count": 136,
   "id": "7225eb6d-12ef-4131-86be-09f0f9d1cf50",
   "metadata": {},
   "outputs": [
    {
     "name": "stdout",
     "output_type": "stream",
     "text": [
      "{1, 3, 5, 7, 9}\n"
     ]
    }
   ],
   "source": [
    "#26. Filter out all even numbers from a set.\n",
    "\n",
    "original_set = {1, 2, 3, 4, 5, 6, 7, 8, 9, 10}\n",
    "odd_numbers_set = {x for x in original_set if x % 2 != 0}\n",
    "\n",
    "print(odd_numbers_set)"
   ]
  },
  {
   "cell_type": "code",
   "execution_count": 137,
   "id": "1e3d3424-5eb8-440f-a516-51045462c29f",
   "metadata": {},
   "outputs": [
    {
     "name": "stdout",
     "output_type": "stream",
     "text": [
      "{2, 4, 6, 8, 10}\n"
     ]
    }
   ],
   "source": [
    "#27. Multiply all elements in a set by 2.\n",
    "\n",
    "original_set = {1, 2, 3, 4, 5}\n",
    "result_set = {x * 2 for x in original_set}\n",
    "\n",
    "print(result_set)"
   ]
  },
  {
   "cell_type": "code",
   "execution_count": 138,
   "id": "dbffd419-e2e3-47f9-afd7-8e28bd6d9aae",
   "metadata": {},
   "outputs": [
    {
     "name": "stdout",
     "output_type": "stream",
     "text": [
      "{32, 36, 70, 7, 78, 86, 22, 61, 62}\n"
     ]
    }
   ],
   "source": [
    "#28. Create a set of random numbers.\n",
    "\n",
    "import random\n",
    "\n",
    "random_set = set(random.randint(1, 100) for _ in range(10))\n",
    "\n",
    "print(random_set)"
   ]
  },
  {
   "cell_type": "code",
   "execution_count": 139,
   "id": "4499c131-642f-4427-bd6c-eadbd3adc728",
   "metadata": {},
   "outputs": [
    {
     "name": "stdout",
     "output_type": "stream",
     "text": [
      "The set is empty.\n"
     ]
    }
   ],
   "source": [
    "#29. Check if a set is empty.\n",
    "\n",
    "my_set = set()\n",
    "\n",
    "if not my_set:\n",
    "    print(\"The set is empty.\")\n",
    "else:\n",
    "    print(\"The set is not empty.\")"
   ]
  },
  {
   "cell_type": "code",
   "execution_count": 140,
   "id": "c79c9b58-6c60-44dc-a57e-ae0f85eb44f8",
   "metadata": {},
   "outputs": [
    {
     "name": "stdout",
     "output_type": "stream",
     "text": [
      "{frozenset({1, 2, 3}), frozenset({4, 5, 6})}\n"
     ]
    }
   ],
   "source": [
    "#30. Create a nested set (hint: use frozenset).\n",
    "\n",
    "nested_set = {frozenset({1, 2, 3}), frozenset({4, 5, 6})}\n",
    "\n",
    "print(nested_set)"
   ]
  },
  {
   "cell_type": "code",
   "execution_count": 141,
   "id": "e5fe9c44-5873-41de-a410-e1d08f9950dc",
   "metadata": {},
   "outputs": [
    {
     "name": "stdout",
     "output_type": "stream",
     "text": [
      "Updated set: {1, 2, 4, 5}\n"
     ]
    }
   ],
   "source": [
    "#31. Remove an element from a set using the discard method.\n",
    "\n",
    "my_set = {1, 2, 3, 4, 5}\n",
    "\n",
    "# Remove an element using discard\n",
    "my_set.discard(3)\n",
    "\n",
    "print(\"Updated set:\", my_set)"
   ]
  },
  {
   "cell_type": "code",
   "execution_count": 149,
   "id": "3ec510d6-f70c-4559-b3b5-3d3ce544c489",
   "metadata": {},
   "outputs": [
    {
     "name": "stdout",
     "output_type": "stream",
     "text": [
      "The sets are equal.\n",
      "set1 is a superset of set2.\n",
      "set1 is a subset of set2.\n",
      "The sets are disjoint (have no common elements).\n"
     ]
    }
   ],
   "source": [
    "#32. Compare two sets.\n",
    "\n",
    "#Equality (Both sets contain the same elements):\n",
    "\n",
    "set1 = {1, 2, 3}\n",
    "set2 = {2, 1, 3}\n",
    "\n",
    "if set1 == set2:\n",
    "    print(\"The sets are equal.\")\n",
    "else:\n",
    "    print(\"The sets are not equal.\")\n",
    "    \n",
    "#Superset (Set1 is a superset of Set2):\n",
    "\n",
    "set1 = {1, 2, 3, 4, 5}\n",
    "set2 = {1, 2}\n",
    "\n",
    "if set1.issuperset(set2):\n",
    "    print(\"set1 is a superset of set2.\")\n",
    "else:\n",
    "    print(\"set1 is not a superset of set2.\")\n",
    "    \n",
    "#Subset (Set1 is a subset of Set2):\n",
    "\n",
    "set1 = {1, 2}\n",
    "set2 = {1, 2, 3, 4, 5}\n",
    "\n",
    "if set1.issubset(set2):\n",
    "    print(\"set1 is a subset of set2.\")\n",
    "else:\n",
    "    print(\"set1 is not a subset of set2.\")\n",
    "    \n",
    "#Disjoint Sets (No common elements between sets):\n",
    "\n",
    "set1 = {1, 2, 3}\n",
    "set2 = {4, 5, 6}\n",
    "\n",
    "if set1.isdisjoint(set2):\n",
    "    print(\"The sets are disjoint (have no common elements).\")\n",
    "else:\n",
    "    print(\"The sets are not disjoint.\")"
   ]
  },
  {
   "cell_type": "code",
   "execution_count": 150,
   "id": "f507f013-8117-4185-97e2-dd5e0fdbcf49",
   "metadata": {},
   "outputs": [
    {
     "name": "stdout",
     "output_type": "stream",
     "text": [
      "{',', '!', 'o', 'l', 'h', 'd', 'r', ' ', 'w', 'e'}\n"
     ]
    }
   ],
   "source": [
    "#33. Create a set from a string.\n",
    "\n",
    "my_string = \"hello, world!\"\n",
    "char_set = {char for char in my_string}\n",
    "\n",
    "print(char_set)"
   ]
  },
  {
   "cell_type": "code",
   "execution_count": 151,
   "id": "624ad4f3-0d6a-4e03-a047-009424029a52",
   "metadata": {},
   "outputs": [
    {
     "name": "stdout",
     "output_type": "stream",
     "text": [
      "{1, 2, 3, 4, 5}\n"
     ]
    }
   ],
   "source": [
    "#34. Convert a set of strings to a set of integers.\n",
    "\n",
    "string_set = {\"1\", \"2\", \"3\", \"4\", \"5\"}\n",
    "integer_set = {int(s) for s in string_set}\n",
    "\n",
    "print(integer_set)"
   ]
  },
  {
   "cell_type": "code",
   "execution_count": 152,
   "id": "9469f1f8-bccf-49bc-ace0-bdcc056a36b4",
   "metadata": {},
   "outputs": [
    {
     "name": "stdout",
     "output_type": "stream",
     "text": [
      "{'3', '4', '1', '5', '2'}\n"
     ]
    }
   ],
   "source": [
    "#35. Convert a set of integers to a set of strings.\n",
    "\n",
    "integer_set = {1, 2, 3, 4, 5}\n",
    "string_set = {str(i) for i in integer_set}\n",
    "\n",
    "print(string_set)"
   ]
  },
  {
   "cell_type": "code",
   "execution_count": 153,
   "id": "16f96b3e-e7a9-4754-b94a-ac7282d74ecf",
   "metadata": {},
   "outputs": [
    {
     "name": "stdout",
     "output_type": "stream",
     "text": [
      "{1, 2, 3, 4, 5}\n"
     ]
    }
   ],
   "source": [
    "#36. Create a set from a tuple.\n",
    "\n",
    "my_tuple = (1, 2, 3, 4, 5)\n",
    "my_set = set(my_tuple)\n",
    "\n",
    "print(my_set)"
   ]
  },
  {
   "cell_type": "code",
   "execution_count": 154,
   "id": "4f69a34b-84ba-4cc9-ac6d-4553f5371486",
   "metadata": {},
   "outputs": [
    {
     "name": "stdout",
     "output_type": "stream",
     "text": [
      "(1, 2, 3, 4, 5)\n"
     ]
    }
   ],
   "source": [
    "#37. Convert a set to a tuple.\n",
    "\n",
    "my_set = {1, 2, 3, 4, 5}\n",
    "my_tuple = tuple(my_set)\n",
    "\n",
    "print(my_tuple)"
   ]
  },
  {
   "cell_type": "code",
   "execution_count": 155,
   "id": "9a497e30-424e-4623-85ab-e88c98216b1c",
   "metadata": {},
   "outputs": [
    {
     "name": "stdout",
     "output_type": "stream",
     "text": [
      "Maximum value in the set: 5\n"
     ]
    }
   ],
   "source": [
    "#38. Find the maximum value in a set.\n",
    "\n",
    "my_set = {1, 2, 3, 4, 5}\n",
    "\n",
    "max_value = max(my_set)\n",
    "\n",
    "print(\"Maximum value in the set:\", max_value)"
   ]
  },
  {
   "cell_type": "code",
   "execution_count": 156,
   "id": "10cba8b0-f66a-40c4-b566-8e2dd7f997bc",
   "metadata": {},
   "outputs": [
    {
     "name": "stdout",
     "output_type": "stream",
     "text": [
      "Minimum value in the set: 1\n"
     ]
    }
   ],
   "source": [
    "#39. Find the minimum value in a set.\n",
    "\n",
    "my_set = {3, 1, 4, 2, 5}\n",
    "\n",
    "min_value = min(my_set)\n",
    "\n",
    "print(\"Minimum value in the set:\", min_value)"
   ]
  },
  {
   "cell_type": "code",
   "execution_count": 157,
   "id": "8d0f5fac-50a8-4df2-8baf-b528c931113a",
   "metadata": {},
   "outputs": [
    {
     "name": "stdin",
     "output_type": "stream",
     "text": [
      "Enter a space-separated list of values:  9, 4, 5, 7, 8, 12, 15\n"
     ]
    },
    {
     "name": "stdout",
     "output_type": "stream",
     "text": [
      "User set: {'9,', '12,', '5,', '8,', '15', '4,', '7,'}\n"
     ]
    }
   ],
   "source": [
    "#40. Create a set from user input.\n",
    "\n",
    "# Get user input as a string of space-separated values\n",
    "user_input = input(\"Enter a space-separated list of values: \")\n",
    "\n",
    "# Split the input string into a list of values\n",
    "values_list = user_input.split()\n",
    "\n",
    "# Create a set from the list\n",
    "user_set = set(values_list)\n",
    "\n",
    "print(\"User set:\", user_set)"
   ]
  },
  {
   "cell_type": "code",
   "execution_count": 158,
   "id": "c1671a3c-6a66-4b2f-bbb9-3c1d31ce2ecf",
   "metadata": {},
   "outputs": [
    {
     "name": "stdout",
     "output_type": "stream",
     "text": [
      "The intersection of the sets is empty.\n"
     ]
    }
   ],
   "source": [
    "#41. Check if the intersection of two sets is empty.\n",
    "\n",
    "set1 = {1, 2, 3}\n",
    "set2 = {4, 5, 6}\n",
    "\n",
    "if set1.isdisjoint(set2):\n",
    "    print(\"The intersection of the sets is empty.\")\n",
    "else:\n",
    "    print(\"The sets have common elements.\")"
   ]
  },
  {
   "cell_type": "code",
   "execution_count": 159,
   "id": "7479cce0-8c33-4b6a-bc16-d5db3aa6ff92",
   "metadata": {},
   "outputs": [
    {
     "name": "stdout",
     "output_type": "stream",
     "text": [
      "{0, 1, 2, 3}\n"
     ]
    }
   ],
   "source": [
    "#42. Create a set of the first 5 Fibonacci numbers.\n",
    "\n",
    "fib_set = set()\n",
    "a, b = 0, 1\n",
    "count = 0\n",
    "\n",
    "while count < 5:\n",
    "    fib_set.add(a)\n",
    "    a, b = b, a + b\n",
    "    count += 1\n",
    "\n",
    "print(fib_set)"
   ]
  },
  {
   "cell_type": "code",
   "execution_count": 160,
   "id": "50b2d9a5-1d8d-4ec0-961e-8c89b1845f12",
   "metadata": {},
   "outputs": [
    {
     "name": "stdout",
     "output_type": "stream",
     "text": [
      "[1, 2, 3, 4, 5]\n"
     ]
    }
   ],
   "source": [
    "#43. Remove duplicates from a list using sets.\n",
    "\n",
    "my_list = [1, 2, 2, 3, 4, 4, 5]\n",
    "\n",
    "# Remove duplicates using sets\n",
    "unique_list = list(set(my_list))\n",
    "\n",
    "print(unique_list)"
   ]
  },
  {
   "cell_type": "code",
   "execution_count": 161,
   "id": "8cd62b4d-d526-4d13-baa8-b3d91e09f1e7",
   "metadata": {},
   "outputs": [
    {
     "name": "stdout",
     "output_type": "stream",
     "text": [
      "The sets have the same elements.\n"
     ]
    }
   ],
   "source": [
    "#44. Check if two sets have the same elements, regardless of their count.\n",
    "\n",
    "set1 = {1, 2, 3, 4}\n",
    "set2 = {4, 3, 2, 1}\n",
    "\n",
    "if set1 == set2:\n",
    "    print(\"The sets have the same elements.\")\n",
    "else:\n",
    "    print(\"The sets do not have the same elements.\")"
   ]
  },
  {
   "cell_type": "code",
   "execution_count": 162,
   "id": "23b664c1-6382-4d6c-838e-ac0a8d6d2189",
   "metadata": {},
   "outputs": [
    {
     "name": "stdout",
     "output_type": "stream",
     "text": [
      "{1, 2, 4, 8, 16}\n"
     ]
    }
   ],
   "source": [
    "#45. Create a set of the first `n` powers of 2.\n",
    "\n",
    "n = 5  # You can change 'n' to any desired number\n",
    "powers_of_2_set = {2 ** i for i in range(n)}\n",
    "\n",
    "print(powers_of_2_set)"
   ]
  },
  {
   "cell_type": "code",
   "execution_count": 163,
   "id": "7cff8c63-51cb-48ee-bc74-1474801fd2fe",
   "metadata": {},
   "outputs": [
    {
     "name": "stdout",
     "output_type": "stream",
     "text": [
      "Common elements: {3, 4, 5}\n"
     ]
    }
   ],
   "source": [
    "#46. Find the common elements between a set and a list.\n",
    "\n",
    "my_set = {1, 2, 3, 4, 5}\n",
    "my_list = [3, 4, 5, 6, 7]\n",
    "\n",
    "# Convert the list to a set (if it's not already a set)\n",
    "if not isinstance(my_list, set):\n",
    "    my_list = set(my_list)\n",
    "\n",
    "# Find the common elements using the intersection method\n",
    "common_elements = my_set.intersection(my_list)\n",
    "\n",
    "print(\"Common elements:\", common_elements)"
   ]
  },
  {
   "cell_type": "code",
   "execution_count": 164,
   "id": "869f18a1-bf81-406b-8d1f-b05c6250173e",
   "metadata": {},
   "outputs": [
    {
     "name": "stdout",
     "output_type": "stream",
     "text": [
      "{1, 3, 6, 10, 15}\n"
     ]
    }
   ],
   "source": [
    "#47. Create a set of the first `n` triangular numbers.\n",
    "\n",
    "n = 5  # You can change 'n' to any desired number\n",
    "triangular_numbers_set = {i * (i + 1) // 2 for i in range(1, n + 1)}\n",
    "\n",
    "print(triangular_numbers_set)"
   ]
  },
  {
   "cell_type": "code",
   "execution_count": 165,
   "id": "b2d2832a-824a-48cf-9051-a9d7be4f4360",
   "metadata": {},
   "outputs": [
    {
     "name": "stdout",
     "output_type": "stream",
     "text": [
      "set2 is a subset of set1.\n",
      "set2 is a subset of set1.\n"
     ]
    }
   ],
   "source": [
    "#48. Check if a set contains another set as a subset.\n",
    "\n",
    "set1 = {1, 2, 3, 4, 5, 6}\n",
    "set2 = {2, 4, 6}\n",
    "\n",
    "# Using issubset() method\n",
    "if set2.issubset(set1):\n",
    "    print(\"set2 is a subset of set1.\")\n",
    "else:\n",
    "    print(\"set2 is not a subset of set1.\")\n",
    "\n",
    "# Using <= operator\n",
    "if set2 <= set1:\n",
    "    print(\"set2 is a subset of set1.\")\n",
    "else:\n",
    "    print(\"set2 is not a subset of set1.\")"
   ]
  },
  {
   "cell_type": "code",
   "execution_count": 166,
   "id": "a09aed74-1b05-4fd2-b7db-6a0156cba461",
   "metadata": {},
   "outputs": [
    {
     "name": "stdout",
     "output_type": "stream",
     "text": [
      "{0, 1}\n"
     ]
    }
   ],
   "source": [
    "#49. Create a set of alternating 1s and 0s of length `n`.\n",
    "\n",
    "n = 10  # You can change 'n' to any desired number\n",
    "alternating_set = {i % 2 for i in range(n)}\n",
    "\n",
    "'''In this code, we define n as the length of the set you want to generate. \n",
    "You can change n to any desired positive integer. We then use a set \n",
    "comprehension to create a set called alternating_set by calculating \n",
    "i % 2 for each i in the range from 0 to n-1. \n",
    "This expression will result in alternating 1s and 0s.'''\n",
    "\n",
    "print(alternating_set)"
   ]
  },
  {
   "cell_type": "code",
   "execution_count": 1,
   "id": "a9fd9255-b6a4-4a0d-89a6-2b3c54fa25da",
   "metadata": {},
   "outputs": [
    {
     "name": "stdout",
     "output_type": "stream",
     "text": [
      "{1, 2, 3, 4, 5, 6, 7}\n"
     ]
    }
   ],
   "source": [
    "#50. Merge multiple sets into one.\n",
    "\n",
    "set1 = {1, 2, 3}\n",
    "set2 = {3, 4, 5}\n",
    "set3 = {5, 6, 7}\n",
    "\n",
    "merged_set = set1.union(set2, set3)\n",
    "\n",
    "print(merged_set)"
   ]
  }
 ],
 "metadata": {
  "kernelspec": {
   "display_name": "Python 3 (ipykernel)",
   "language": "python",
   "name": "python3"
  },
  "language_info": {
   "codemirror_mode": {
    "name": "ipython",
    "version": 3
   },
   "file_extension": ".py",
   "mimetype": "text/x-python",
   "name": "python",
   "nbconvert_exporter": "python",
   "pygments_lexer": "ipython3",
   "version": "3.10.8"
  }
 },
 "nbformat": 4,
 "nbformat_minor": 5
}
